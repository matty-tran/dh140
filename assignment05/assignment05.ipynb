{
 "cells": [
  {
   "cell_type": "markdown",
   "id": "ac4bbf8a-faaa-4ed1-9ae2-7be20afc6bd8",
   "metadata": {},
   "source": [
    "# Assignment05: Webscraping "
   ]
  },
  {
   "cell_type": "code",
   "execution_count": 1,
   "id": "77eba995-c8f9-4ea5-b81f-84b5f3f81396",
   "metadata": {
    "tags": []
   },
   "outputs": [],
   "source": [
    "import requests\n",
    "from bs4 import BeautifulSoup\n",
    "import pandas as pd "
   ]
  },
  {
   "cell_type": "code",
   "execution_count": null,
   "id": "7e315172-2a58-48e7-a648-3ef3490194f3",
   "metadata": {},
   "outputs": [],
   "source": [
    "response = requests.get('https://corgis-edu.github.io/corgis/csv/')"
   ]
  },
  {
   "cell_type": "code",
   "execution_count": null,
   "id": "6d32f4dc-f218-4894-966a-78c1f42f3ccb",
   "metadata": {},
   "outputs": [],
   "source": [
    "response"
   ]
  },
  {
   "cell_type": "code",
   "execution_count": null,
   "id": "2529855c-a7ae-4a3b-8add-6100a2cf1d4f",
   "metadata": {
    "tags": []
   },
   "outputs": [],
   "source": [
    "response.text"
   ]
  },
  {
   "cell_type": "code",
   "execution_count": null,
   "id": "efa447aa-f300-4b06-98c5-cf5cbef5ee94",
   "metadata": {},
   "outputs": [],
   "source": [
    "# identifying one header from the CORGIS website info \n",
    "\n",
    "html_string = response.text \n",
    "\n",
    "document =  BeautifulSoup(html_string, \"html.parser\")\n",
    "\n",
    "document.find('h3')"
   ]
  },
  {
   "cell_type": "code",
   "execution_count": null,
   "id": "e5f5e815-b050-40a2-9cea-81c2652f760a",
   "metadata": {
    "tags": []
   },
   "outputs": [],
   "source": [
    "# create a list that will hold the names of all the CORIGS datasets \n",
    "corgis_sets = [] \n",
    "\n",
    "#use find_all() to search for all headers \n",
    "for i in (document.find_all('h3')) : \n",
    "    \n",
    "    # add the headers into the created variable \n",
    "    corgis_sets.append(i.text)\n",
    "    \n",
    "corgis_sets"
   ]
  },
  {
   "cell_type": "code",
   "execution_count": null,
   "id": "f3955630-9ace-4d83-baaf-407f5b9bb091",
   "metadata": {
    "tags": []
   },
   "outputs": [],
   "source": [
    "document.find_all('a')"
   ]
  },
  {
   "cell_type": "code",
   "execution_count": null,
   "id": "8b2d6d68-3c06-4618-97d3-878d4e1d674a",
   "metadata": {
    "tags": []
   },
   "outputs": [],
   "source": [
    "document.find('a').attrs"
   ]
  },
  {
   "cell_type": "code",
   "execution_count": null,
   "id": "fcb71476-a779-45f1-9eba-17f62dc15682",
   "metadata": {},
   "outputs": [],
   "source": [
    "document.find(\"a\", attrs = {'href' : 'billionaires/'})"
   ]
  },
  {
   "cell_type": "code",
   "execution_count": null,
   "id": "7a84186a-8bbf-4e4a-bfbf-74dfe6af4d35",
   "metadata": {},
   "outputs": [],
   "source": [
    "# https://corgis-edu.github.io/corgis/datasets/csv/airlines/airlines.csv\n",
    "\n",
    "response2 = requests.get('https://corgis-edu.github.io/corgis/csv/billionaires/')\n",
    "htmlstring = response2.text \n",
    "document2 = BeautifulSoup(htmlstring, \"html.parser\") \n",
    "\n",
    "#document2.find_all('a')\n",
    "\n",
    "for i in (document2.find_all('a')): \n",
    "    if i.has_attr('download'): \n",
    "        print(i)\n",
    "        print (i['href'])\n",
    "        "
   ]
  },
  {
   "cell_type": "code",
   "execution_count": null,
   "id": "04c271bd-3d54-41f9-8112-7fb467c1d9f8",
   "metadata": {},
   "outputs": [],
   "source": [
    "string3 = '../../abc'\n",
    "string3 = string3[6:]\n",
    "string3"
   ]
  },
  {
   "cell_type": "code",
   "execution_count": 2,
   "id": "3e5eab89-8756-4d41-91ff-e3236e089cf5",
   "metadata": {},
   "outputs": [],
   "source": [
    "def pdcorgis(a): \n",
    "    \n",
    "    #url's that will be used in getting data \n",
    "    corgis_url_base = 'https://corgis-edu.github.io/corgis/'\n",
    "    corgis_url = 'https://corgis-edu.github.io/corgis/csv/'\n",
    "    \n",
    "    #format dataset title to be appended to url \n",
    "    corgis_title = a.lower() \n",
    "    corgis_title + '/' \n",
    "    \n",
    "    #apprend to url \n",
    "    corgis_url = corgis_url + corgis_title \n",
    "\n",
    "    #get info from site using url \n",
    "    response = requests.get(corgis_url)\n",
    "    html_string = response.text \n",
    "    document =  BeautifulSoup(html_string, \"html.parser\")\n",
    "    \n",
    "    \n",
    "    #create a string that will be appended to url to download csv\n",
    "    get_csv = '' \n",
    "    \n",
    "    for i in (document.find_all('a')): \n",
    "        if i.has_attr('download'):\n",
    "            get_csv = i['href'] \n",
    "            print (i['href'])\n",
    "    \n",
    "    #format to be appended\n",
    "    get_csv = get_csv[6:] \n",
    "    \n",
    "    #append to url \n",
    "    corgis_url = corgis_url_base + get_csv \n",
    "    \n",
    "    #get the dataframe using the url \n",
    "    corgisdf = pd.read_csv(corgis_url)\n",
    "    \n",
    "    # return the dataframe \n",
    "    return corgisdf     "
   ]
  },
  {
   "cell_type": "code",
   "execution_count": 15,
   "id": "04dfcb7f-9e7f-4023-8fa5-f844eb8ed8a4",
   "metadata": {
    "tags": []
   },
   "outputs": [
    {
     "name": "stdout",
     "output_type": "stream",
     "text": [
      "../../datasets/csv/classics/classics.csv\n"
     ]
    }
   ],
   "source": [
    "classics_df = pdcorgis(\"Classics\") "
   ]
  },
  {
   "cell_type": "code",
   "execution_count": 20,
   "id": "60b22723-1799-4ef5-87c8-915dae9181bf",
   "metadata": {},
   "outputs": [
    {
     "data": {
      "text/html": [
       "<div>\n",
       "<style scoped>\n",
       "    .dataframe tbody tr th:only-of-type {\n",
       "        vertical-align: middle;\n",
       "    }\n",
       "\n",
       "    .dataframe tbody tr th {\n",
       "        vertical-align: top;\n",
       "    }\n",
       "\n",
       "    .dataframe thead th {\n",
       "        text-align: right;\n",
       "    }\n",
       "</style>\n",
       "<table border=\"1\" class=\"dataframe\">\n",
       "  <thead>\n",
       "    <tr style=\"text-align: right;\">\n",
       "      <th></th>\n",
       "      <th>bibliography.congress classifications</th>\n",
       "      <th>bibliography.languages</th>\n",
       "      <th>bibliography.subjects</th>\n",
       "      <th>bibliography.title</th>\n",
       "      <th>bibliography.type</th>\n",
       "      <th>metadata.downloads</th>\n",
       "      <th>metadata.id</th>\n",
       "      <th>metadata.rank</th>\n",
       "      <th>metadata.url</th>\n",
       "      <th>bibliography.author.birth</th>\n",
       "      <th>...</th>\n",
       "      <th>metrics.sentiments.polarity</th>\n",
       "      <th>metrics.sentiments.subjectivity</th>\n",
       "      <th>metrics.statistics.average letter per word</th>\n",
       "      <th>metrics.statistics.average sentence length</th>\n",
       "      <th>metrics.statistics.average sentence per word</th>\n",
       "      <th>metrics.statistics.characters</th>\n",
       "      <th>metrics.statistics.polysyllables</th>\n",
       "      <th>metrics.statistics.sentences</th>\n",
       "      <th>metrics.statistics.syllables</th>\n",
       "      <th>metrics.statistics.words</th>\n",
       "    </tr>\n",
       "  </thead>\n",
       "  <tbody>\n",
       "    <tr>\n",
       "      <th>0</th>\n",
       "      <td>PR</td>\n",
       "      <td>en</td>\n",
       "      <td>Sisters -- Fiction,Courtship -- Fiction,Social...</td>\n",
       "      <td>Pride and Prejudice</td>\n",
       "      <td>Text</td>\n",
       "      <td>36576</td>\n",
       "      <td>1342</td>\n",
       "      <td>1</td>\n",
       "      <td>https://www.gutenberg.org/ebooks/1342</td>\n",
       "      <td>1775</td>\n",
       "      <td>...</td>\n",
       "      <td>0.136713</td>\n",
       "      <td>0.522239</td>\n",
       "      <td>4.83</td>\n",
       "      <td>18.0</td>\n",
       "      <td>0.05</td>\n",
       "      <td>586794</td>\n",
       "      <td>4603</td>\n",
       "      <td>6511</td>\n",
       "      <td>170648.1</td>\n",
       "      <td>121533</td>\n",
       "    </tr>\n",
       "    <tr>\n",
       "      <th>1</th>\n",
       "      <td>PS</td>\n",
       "      <td>en</td>\n",
       "      <td>Mentally ill women -- Fiction,Feminist fiction...</td>\n",
       "      <td>The Yellow Wallpaper</td>\n",
       "      <td>Text</td>\n",
       "      <td>26363</td>\n",
       "      <td>1952</td>\n",
       "      <td>2</td>\n",
       "      <td>https://www.gutenberg.org/ebooks/1952</td>\n",
       "      <td>1860</td>\n",
       "      <td>...</td>\n",
       "      <td>0.054174</td>\n",
       "      <td>0.534787</td>\n",
       "      <td>4.41</td>\n",
       "      <td>15.0</td>\n",
       "      <td>0.06</td>\n",
       "      <td>26769</td>\n",
       "      <td>102</td>\n",
       "      <td>385</td>\n",
       "      <td>7686.9</td>\n",
       "      <td>6067</td>\n",
       "    </tr>\n",
       "    <tr>\n",
       "      <th>2</th>\n",
       "      <td>PZ,PR</td>\n",
       "      <td>en</td>\n",
       "      <td>Fantasy</td>\n",
       "      <td>Alice's Adventures in Wonderland</td>\n",
       "      <td>Text</td>\n",
       "      <td>18882</td>\n",
       "      <td>11</td>\n",
       "      <td>3</td>\n",
       "      <td>https://www.gutenberg.org/ebooks/11</td>\n",
       "      <td>1832</td>\n",
       "      <td>...</td>\n",
       "      <td>0.041079</td>\n",
       "      <td>0.497276</td>\n",
       "      <td>4.65</td>\n",
       "      <td>17.0</td>\n",
       "      <td>0.06</td>\n",
       "      <td>122719</td>\n",
       "      <td>339</td>\n",
       "      <td>1501</td>\n",
       "      <td>33810.3</td>\n",
       "      <td>26389</td>\n",
       "    </tr>\n",
       "    <tr>\n",
       "      <th>3</th>\n",
       "      <td>PR</td>\n",
       "      <td>en</td>\n",
       "      <td>Monsters -- Fiction;Frankenstein's monster (Fi...</td>\n",
       "      <td>Frankenstein; Or, The Modern Prometheus</td>\n",
       "      <td>Text</td>\n",
       "      <td>17128</td>\n",
       "      <td>84</td>\n",
       "      <td>4</td>\n",
       "      <td>https://www.gutenberg.org/ebooks/84</td>\n",
       "      <td>1797</td>\n",
       "      <td>...</td>\n",
       "      <td>0.100902</td>\n",
       "      <td>0.539516</td>\n",
       "      <td>4.77</td>\n",
       "      <td>23.0</td>\n",
       "      <td>0.04</td>\n",
       "      <td>357604</td>\n",
       "      <td>2604</td>\n",
       "      <td>3239</td>\n",
       "      <td>106802.1</td>\n",
       "      <td>74959</td>\n",
       "    </tr>\n",
       "    <tr>\n",
       "      <th>4</th>\n",
       "      <td>PT</td>\n",
       "      <td>en</td>\n",
       "      <td>Psychological fiction,Metamorphosis -- Fiction</td>\n",
       "      <td>Metamorphosis</td>\n",
       "      <td>Text</td>\n",
       "      <td>15683</td>\n",
       "      <td>5200</td>\n",
       "      <td>5</td>\n",
       "      <td>https://www.gutenberg.org/ebooks/5200</td>\n",
       "      <td>1883</td>\n",
       "      <td>...</td>\n",
       "      <td>0.041997</td>\n",
       "      <td>0.479019</td>\n",
       "      <td>4.56</td>\n",
       "      <td>27.0</td>\n",
       "      <td>0.04</td>\n",
       "      <td>100372</td>\n",
       "      <td>397</td>\n",
       "      <td>800</td>\n",
       "      <td>28752.3</td>\n",
       "      <td>22022</td>\n",
       "    </tr>\n",
       "  </tbody>\n",
       "</table>\n",
       "<p>5 rows × 38 columns</p>\n",
       "</div>"
      ],
      "text/plain": [
       "  bibliography.congress classifications bibliography.languages  \\\n",
       "0                                    PR                     en   \n",
       "1                                    PS                     en   \n",
       "2                                 PZ,PR                     en   \n",
       "3                                    PR                     en   \n",
       "4                                    PT                     en   \n",
       "\n",
       "                               bibliography.subjects  \\\n",
       "0  Sisters -- Fiction,Courtship -- Fiction,Social...   \n",
       "1  Mentally ill women -- Fiction,Feminist fiction...   \n",
       "2                                            Fantasy   \n",
       "3  Monsters -- Fiction;Frankenstein's monster (Fi...   \n",
       "4     Psychological fiction,Metamorphosis -- Fiction   \n",
       "\n",
       "                        bibliography.title bibliography.type  \\\n",
       "0                      Pride and Prejudice              Text   \n",
       "1                     The Yellow Wallpaper              Text   \n",
       "2         Alice's Adventures in Wonderland              Text   \n",
       "3  Frankenstein; Or, The Modern Prometheus              Text   \n",
       "4                            Metamorphosis              Text   \n",
       "\n",
       "   metadata.downloads  metadata.id  metadata.rank  \\\n",
       "0               36576         1342              1   \n",
       "1               26363         1952              2   \n",
       "2               18882           11              3   \n",
       "3               17128           84              4   \n",
       "4               15683         5200              5   \n",
       "\n",
       "                            metadata.url  bibliography.author.birth  ...  \\\n",
       "0  https://www.gutenberg.org/ebooks/1342                       1775  ...   \n",
       "1  https://www.gutenberg.org/ebooks/1952                       1860  ...   \n",
       "2    https://www.gutenberg.org/ebooks/11                       1832  ...   \n",
       "3    https://www.gutenberg.org/ebooks/84                       1797  ...   \n",
       "4  https://www.gutenberg.org/ebooks/5200                       1883  ...   \n",
       "\n",
       "   metrics.sentiments.polarity metrics.sentiments.subjectivity  \\\n",
       "0                     0.136713                        0.522239   \n",
       "1                     0.054174                        0.534787   \n",
       "2                     0.041079                        0.497276   \n",
       "3                     0.100902                        0.539516   \n",
       "4                     0.041997                        0.479019   \n",
       "\n",
       "   metrics.statistics.average letter per word  \\\n",
       "0                                        4.83   \n",
       "1                                        4.41   \n",
       "2                                        4.65   \n",
       "3                                        4.77   \n",
       "4                                        4.56   \n",
       "\n",
       "  metrics.statistics.average sentence length  \\\n",
       "0                                       18.0   \n",
       "1                                       15.0   \n",
       "2                                       17.0   \n",
       "3                                       23.0   \n",
       "4                                       27.0   \n",
       "\n",
       "   metrics.statistics.average sentence per word metrics.statistics.characters  \\\n",
       "0                                          0.05                        586794   \n",
       "1                                          0.06                         26769   \n",
       "2                                          0.06                        122719   \n",
       "3                                          0.04                        357604   \n",
       "4                                          0.04                        100372   \n",
       "\n",
       "   metrics.statistics.polysyllables  metrics.statistics.sentences  \\\n",
       "0                              4603                          6511   \n",
       "1                               102                           385   \n",
       "2                               339                          1501   \n",
       "3                              2604                          3239   \n",
       "4                               397                           800   \n",
       "\n",
       "  metrics.statistics.syllables  metrics.statistics.words  \n",
       "0                     170648.1                    121533  \n",
       "1                       7686.9                      6067  \n",
       "2                      33810.3                     26389  \n",
       "3                     106802.1                     74959  \n",
       "4                      28752.3                     22022  \n",
       "\n",
       "[5 rows x 38 columns]"
      ]
     },
     "execution_count": 20,
     "metadata": {},
     "output_type": "execute_result"
    }
   ],
   "source": [
    "classics_df.head()"
   ]
  },
  {
   "cell_type": "code",
   "execution_count": 22,
   "id": "66cf8c4f-aa31-4d5b-b326-532506364f7c",
   "metadata": {},
   "outputs": [
    {
     "data": {
      "text/plain": [
       "<AxesSubplot:xlabel='bibliography.author.birth', ylabel='metrics.statistics.words'>"
      ]
     },
     "execution_count": 22,
     "metadata": {},
     "output_type": "execute_result"
    },
    {
     "data": {
      "image/png": "[encoded data removed]",
      "text/plain": [
       "<Figure size 432x288 with 1 Axes>"
      ]
     },
     "metadata": {
      "needs_background": "light"
     },
     "output_type": "display_data"
    }
   ],
   "source": [
    "classics_df.plot(kind = 'scatter', x = 'bibliography.author.birth', y = 'metrics.statistics.words' )"
   ]
  },
  {
   "cell_type": "code",
   "execution_count": 3,
   "id": "effff2ae-45c3-42ed-9991-ed574dae239d",
   "metadata": {},
   "outputs": [
    {
     "name": "stdout",
     "output_type": "stream",
     "text": [
      "../../datasets/csv/billionaires/billionaires.csv\n"
     ]
    }
   ],
   "source": [
    "billionaires_df = classics_df = pdcorgis(\"Billionaires\") "
   ]
  },
  {
   "cell_type": "code",
   "execution_count": 14,
   "id": "1f629481-523f-42ae-a605-4528b4d92b44",
   "metadata": {},
   "outputs": [
    {
     "data": {
      "text/plain": [
       "<AxesSubplot:ylabel='Frequency'>"
      ]
     },
     "execution_count": 14,
     "metadata": {},
     "output_type": "execute_result"
    },
    {
     "data": {
      "image/png": "[encoded data removed]",
      "text/plain": [
       "<Figure size 432x288 with 1 Axes>"
      ]
     },
     "metadata": {
      "needs_background": "light"
     },
     "output_type": "display_data"
    }
   ],
   "source": [
    "billionaires_df.plot(kind = 'hist', y = 'demographics.age')"
   ]
  },
  {
   "cell_type": "code",
   "execution_count": 23,
   "id": "21aa6027-f9bb-4c93-97af-0ad4f4c7b8c8",
   "metadata": {},
   "outputs": [
    {
     "name": "stdout",
     "output_type": "stream",
     "text": [
      "../../datasets/csv/cars/cars.csv\n"
     ]
    }
   ],
   "source": [
    "cars_df = pdcorgis(\"Cars\") "
   ]
  },
  {
   "cell_type": "code",
   "execution_count": 24,
   "id": "64d0333a-bd1d-43be-8983-aad26bded16a",
   "metadata": {},
   "outputs": [
    {
     "data": {
      "text/html": [
       "<div>\n",
       "<style scoped>\n",
       "    .dataframe tbody tr th:only-of-type {\n",
       "        vertical-align: middle;\n",
       "    }\n",
       "\n",
       "    .dataframe tbody tr th {\n",
       "        vertical-align: top;\n",
       "    }\n",
       "\n",
       "    .dataframe thead th {\n",
       "        text-align: right;\n",
       "    }\n",
       "</style>\n",
       "<table border=\"1\" class=\"dataframe\">\n",
       "  <thead>\n",
       "    <tr style=\"text-align: right;\">\n",
       "      <th></th>\n",
       "      <th>Dimensions.Height</th>\n",
       "      <th>Dimensions.Length</th>\n",
       "      <th>Dimensions.Width</th>\n",
       "      <th>Engine Information.Driveline</th>\n",
       "      <th>Engine Information.Engine Type</th>\n",
       "      <th>Engine Information.Hybrid</th>\n",
       "      <th>Engine Information.Number of Forward Gears</th>\n",
       "      <th>Engine Information.Transmission</th>\n",
       "      <th>Fuel Information.City mpg</th>\n",
       "      <th>Fuel Information.Fuel Type</th>\n",
       "      <th>Fuel Information.Highway mpg</th>\n",
       "      <th>Identification.Classification</th>\n",
       "      <th>Identification.ID</th>\n",
       "      <th>Identification.Make</th>\n",
       "      <th>Identification.Model Year</th>\n",
       "      <th>Identification.Year</th>\n",
       "      <th>Engine Information.Engine Statistics.Horsepower</th>\n",
       "      <th>Engine Information.Engine Statistics.Torque</th>\n",
       "    </tr>\n",
       "  </thead>\n",
       "  <tbody>\n",
       "    <tr>\n",
       "      <th>0</th>\n",
       "      <td>140</td>\n",
       "      <td>143</td>\n",
       "      <td>202</td>\n",
       "      <td>All-wheel drive</td>\n",
       "      <td>Audi 3.2L 6 cylinder 250hp 236ft-lbs</td>\n",
       "      <td>True</td>\n",
       "      <td>6</td>\n",
       "      <td>6 Speed Automatic Select Shift</td>\n",
       "      <td>18</td>\n",
       "      <td>Gasoline</td>\n",
       "      <td>25</td>\n",
       "      <td>Automatic transmission</td>\n",
       "      <td>2009 Audi A3 3.2</td>\n",
       "      <td>Audi</td>\n",
       "      <td>2009 Audi A3</td>\n",
       "      <td>2009</td>\n",
       "      <td>250</td>\n",
       "      <td>236</td>\n",
       "    </tr>\n",
       "    <tr>\n",
       "      <th>1</th>\n",
       "      <td>140</td>\n",
       "      <td>143</td>\n",
       "      <td>202</td>\n",
       "      <td>Front-wheel drive</td>\n",
       "      <td>Audi 2.0L 4 cylinder 200 hp 207 ft-lbs Turbo</td>\n",
       "      <td>True</td>\n",
       "      <td>6</td>\n",
       "      <td>6 Speed Automatic Select Shift</td>\n",
       "      <td>22</td>\n",
       "      <td>Gasoline</td>\n",
       "      <td>28</td>\n",
       "      <td>Automatic transmission</td>\n",
       "      <td>2009 Audi A3 2.0 T AT</td>\n",
       "      <td>Audi</td>\n",
       "      <td>2009 Audi A3</td>\n",
       "      <td>2009</td>\n",
       "      <td>200</td>\n",
       "      <td>207</td>\n",
       "    </tr>\n",
       "    <tr>\n",
       "      <th>2</th>\n",
       "      <td>140</td>\n",
       "      <td>143</td>\n",
       "      <td>202</td>\n",
       "      <td>Front-wheel drive</td>\n",
       "      <td>Audi 2.0L 4 cylinder 200 hp 207 ft-lbs Turbo</td>\n",
       "      <td>True</td>\n",
       "      <td>6</td>\n",
       "      <td>6 Speed Manual</td>\n",
       "      <td>21</td>\n",
       "      <td>Gasoline</td>\n",
       "      <td>30</td>\n",
       "      <td>Manual transmission</td>\n",
       "      <td>2009 Audi A3 2.0 T</td>\n",
       "      <td>Audi</td>\n",
       "      <td>2009 Audi A3</td>\n",
       "      <td>2009</td>\n",
       "      <td>200</td>\n",
       "      <td>207</td>\n",
       "    </tr>\n",
       "    <tr>\n",
       "      <th>3</th>\n",
       "      <td>140</td>\n",
       "      <td>143</td>\n",
       "      <td>202</td>\n",
       "      <td>All-wheel drive</td>\n",
       "      <td>Audi 2.0L 4 cylinder 200 hp 207 ft-lbs Turbo</td>\n",
       "      <td>True</td>\n",
       "      <td>6</td>\n",
       "      <td>6 Speed Automatic Select Shift</td>\n",
       "      <td>21</td>\n",
       "      <td>Gasoline</td>\n",
       "      <td>28</td>\n",
       "      <td>Automatic transmission</td>\n",
       "      <td>2009 Audi A3 2.0 T Quattro</td>\n",
       "      <td>Audi</td>\n",
       "      <td>2009 Audi A3</td>\n",
       "      <td>2009</td>\n",
       "      <td>200</td>\n",
       "      <td>207</td>\n",
       "    </tr>\n",
       "    <tr>\n",
       "      <th>4</th>\n",
       "      <td>140</td>\n",
       "      <td>143</td>\n",
       "      <td>202</td>\n",
       "      <td>All-wheel drive</td>\n",
       "      <td>Audi 2.0L 4 cylinder 200 hp 207 ft-lbs Turbo</td>\n",
       "      <td>True</td>\n",
       "      <td>6</td>\n",
       "      <td>6 Speed Automatic Select Shift</td>\n",
       "      <td>21</td>\n",
       "      <td>Gasoline</td>\n",
       "      <td>28</td>\n",
       "      <td>Automatic transmission</td>\n",
       "      <td>2009 Audi A3 2.0 T Quattro</td>\n",
       "      <td>Audi</td>\n",
       "      <td>2009 Audi A3</td>\n",
       "      <td>2009</td>\n",
       "      <td>200</td>\n",
       "      <td>207</td>\n",
       "    </tr>\n",
       "  </tbody>\n",
       "</table>\n",
       "</div>"
      ],
      "text/plain": [
       "   Dimensions.Height  Dimensions.Length  Dimensions.Width  \\\n",
       "0                140                143               202   \n",
       "1                140                143               202   \n",
       "2                140                143               202   \n",
       "3                140                143               202   \n",
       "4                140                143               202   \n",
       "\n",
       "  Engine Information.Driveline                Engine Information.Engine Type  \\\n",
       "0              All-wheel drive          Audi 3.2L 6 cylinder 250hp 236ft-lbs   \n",
       "1            Front-wheel drive  Audi 2.0L 4 cylinder 200 hp 207 ft-lbs Turbo   \n",
       "2            Front-wheel drive  Audi 2.0L 4 cylinder 200 hp 207 ft-lbs Turbo   \n",
       "3              All-wheel drive  Audi 2.0L 4 cylinder 200 hp 207 ft-lbs Turbo   \n",
       "4              All-wheel drive  Audi 2.0L 4 cylinder 200 hp 207 ft-lbs Turbo   \n",
       "\n",
       "   Engine Information.Hybrid  Engine Information.Number of Forward Gears  \\\n",
       "0                       True                                           6   \n",
       "1                       True                                           6   \n",
       "2                       True                                           6   \n",
       "3                       True                                           6   \n",
       "4                       True                                           6   \n",
       "\n",
       "  Engine Information.Transmission  Fuel Information.City mpg  \\\n",
       "0  6 Speed Automatic Select Shift                         18   \n",
       "1  6 Speed Automatic Select Shift                         22   \n",
       "2                  6 Speed Manual                         21   \n",
       "3  6 Speed Automatic Select Shift                         21   \n",
       "4  6 Speed Automatic Select Shift                         21   \n",
       "\n",
       "  Fuel Information.Fuel Type  Fuel Information.Highway mpg  \\\n",
       "0                   Gasoline                            25   \n",
       "1                   Gasoline                            28   \n",
       "2                   Gasoline                            30   \n",
       "3                   Gasoline                            28   \n",
       "4                   Gasoline                            28   \n",
       "\n",
       "  Identification.Classification           Identification.ID  \\\n",
       "0        Automatic transmission            2009 Audi A3 3.2   \n",
       "1        Automatic transmission       2009 Audi A3 2.0 T AT   \n",
       "2           Manual transmission          2009 Audi A3 2.0 T   \n",
       "3        Automatic transmission  2009 Audi A3 2.0 T Quattro   \n",
       "4        Automatic transmission  2009 Audi A3 2.0 T Quattro   \n",
       "\n",
       "  Identification.Make Identification.Model Year  Identification.Year  \\\n",
       "0                Audi              2009 Audi A3                 2009   \n",
       "1                Audi              2009 Audi A3                 2009   \n",
       "2                Audi              2009 Audi A3                 2009   \n",
       "3                Audi              2009 Audi A3                 2009   \n",
       "4                Audi              2009 Audi A3                 2009   \n",
       "\n",
       "   Engine Information.Engine Statistics.Horsepower  \\\n",
       "0                                              250   \n",
       "1                                              200   \n",
       "2                                              200   \n",
       "3                                              200   \n",
       "4                                              200   \n",
       "\n",
       "   Engine Information.Engine Statistics.Torque  \n",
       "0                                          236  \n",
       "1                                          207  \n",
       "2                                          207  \n",
       "3                                          207  \n",
       "4                                          207  "
      ]
     },
     "execution_count": 24,
     "metadata": {},
     "output_type": "execute_result"
    }
   ],
   "source": [
    "cars_df.head()"
   ]
  },
  {
   "cell_type": "code",
   "execution_count": 33,
   "id": "129b1668-7be3-403c-a31d-eb92178a1f3b",
   "metadata": {},
   "outputs": [
    {
     "data": {
      "text/plain": [
       "<AxesSubplot:ylabel='Identification.Model Year'>"
      ]
     },
     "execution_count": 33,
     "metadata": {},
     "output_type": "execute_result"
    },
    {
     "data": {
      "image/png": "[encoded data removed]",
      "text/plain": [
       "<Figure size 432x288 with 1 Axes>"
      ]
     },
     "metadata": {
      "needs_background": "light"
     },
     "output_type": "display_data"
    }
   ],
   "source": [
    "cars_df.plot(kind = 'barh', x = 'Identification.Model Year', y = 'Fuel Information.Highway mpg')"
   ]
  }
 ],
 "metadata": {
  "kernelspec": {
   "display_name": "Python 3 (ipykernel)",
   "language": "python",
   "name": "python3"
  },
  "language_info": {
   "codemirror_mode": {
    "name": "ipython",
    "version": 3
   },
   "file_extension": ".py",
   "mimetype": "text/x-python",
   "name": "python",
   "nbconvert_exporter": "python",
   "pygments_lexer": "ipython3",
   "version": "3.9.6"
  }
 },
 "nbformat": 4,
 "nbformat_minor": 5
}
