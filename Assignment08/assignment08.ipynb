{
 "cells": [
  {
   "cell_type": "markdown",
   "id": "8985979f-104c-43ec-b44d-cfb5cab94d2d",
   "metadata": {},
   "source": [
    "# Assignment08: Network Analysis"
   ]
  },
  {
   "cell_type": "code",
   "execution_count": 5,
   "id": "5f7bd083-0425-406e-897a-d5d8045945ea",
   "metadata": {},
   "outputs": [],
   "source": [
    "import dash\n",
    "import dash_cytoscape as cyto\n",
    "from dash import html, dcc\n",
    "from dash.dependencies import Input, Output\n",
    "from jupyter_dash import JupyterDash\n",
    "from jupyter_dash.comms import _send_jupyter_config_comm_request"
   ]
  },
  {
   "cell_type": "code",
   "execution_count": 6,
   "id": "98575e21-84bb-4563-a4fc-63cdd5b01a6a",
   "metadata": {},
   "outputs": [],
   "source": [
    "_send_jupyter_config_comm_request()"
   ]
  },
  {
   "cell_type": "code",
   "execution_count": 8,
   "id": "3af0ddf5-62c8-43e7-bf39-c4c295ab88c0",
   "metadata": {},
   "outputs": [],
   "source": [
    "JupyterDash.infer_jupyter_proxy_config()"
   ]
  },
  {
   "cell_type": "code",
   "execution_count": 9,
   "id": "f3681451-3e80-4961-b0b2-7cadf7cdb7d2",
   "metadata": {},
   "outputs": [],
   "source": [
    "app = JupyterDash(__name__)"
   ]
  },
  {
   "cell_type": "code",
   "execution_count": 14,
   "id": "6d4379a2-e1c8-4733-a13b-31e8870eb726",
   "metadata": {},
   "outputs": [],
   "source": [
    "app.layout = html.Div([\n",
    "    cyto.Cytoscape(\n",
    "        layout={'name': 'cose'},\n",
    "        elements=graphitems\n",
    "    )\n",
    "])"
   ]
  },
  {
   "cell_type": "code",
   "execution_count": 15,
   "id": "6bd38922-01c7-449f-921a-fed0e0be28c1",
   "metadata": {},
   "outputs": [
    {
     "name": "stdout",
     "output_type": "stream",
     "text": [
      "Dash app running on https://jupyter.idre.ucla.edu/user/mtran9600@ucla.edu/proxy/8050/\n"
     ]
    }
   ],
   "source": [
    "app.run_server(debug=True)"
   ]
  },
  {
   "cell_type": "code",
   "execution_count": 17,
   "id": "417dd5cd-1671-499d-9090-0c3456c93f5e",
   "metadata": {},
   "outputs": [],
   "source": [
    "with open('RJ_script.txt') as f:\n",
    "    x = f.read()"
   ]
  },
  {
   "cell_type": "code",
   "execution_count": 18,
   "id": "a9b52cbe-b9b2-4ac5-8824-5d34fbd55a8a",
   "metadata": {
    "collapsed": true,
    "jupyter": {
     "outputs_hidden": true
    },
    "tags": []
   },
   "outputs": [
    {
     "data": {
      "text/plain": [
       "\"\\nACT I\\nPROLOGUE\\n\\n    Two households, both alike in dignity,\\n    In fair Verona, where we lay our scene,\\n    From ancient grudge break to new mutiny,\\n    Where civil blood makes civil hands unclean.\\n    From forth the fatal loins of these two foes\\n    A pair of star-cross'd lovers take their life;\\n    Whose misadventured piteous overthrows\\n    Do with their death bury their parents' strife.\\n    The fearful passage of their death-mark'd love,\\n    And the continuance of their parents' rage,\\n    Which, but their children's end, nought could remove,\\n    Is now the two hours' traffic of our stage;\\n    The which if you with patient ears attend,\\n    What here shall miss, our toil shall strive to mend.\\n\\nSCENE I. Verona. A public place.\\n\\n    Enter SAMPSON and GREGORY, of the house of Capulet, armed with swords and bucklers \\n\\nSAMPSON\\n\\n    Gregory, o' my word, we'll not carry coals.\\n\\nGREGORY\\n\\n    No, for then we should be colliers.\\n\\nSAMPSON\\n\\n    I mean, an we be in choler, we'll draw.\\n\\nGREGORY\\n\\n    Ay, while you live, draw your neck out o' the collar.\\n\\nSAMPSON\\n\\n    I strike quickly, being moved.\\n\\nGREGORY\\n\\n    But thou art not quickly moved to strike.\\n\\nSAMPSON\\n\\n    A dog of the house of Montague moves me.\\n\\nGREGORY\\n\\n    To move is to stir; and to be valiant is to stand:\\n    therefore, if thou art moved, thou runn'st away.\\n\\nSAMPSON\\n\\n    A dog of that house shall move me to stand: I will\\n    take the wall of any man or maid of Montague's.\\n\\nGREGORY\\n\\n    That shows thee a weak slave; for the weakest goes\\n    to the wall.\\n\\nSAMPSON\\n\\n    True; and therefore women, being the weaker vessels,\\n    are ever thrust to the wall: therefore I will push\\n    Montague's men from the wall, and thrust his maids\\n    to the wall.\\n\\nGREGORY\\n\\n    The quarrel is between our masters and us their men.\\n\\nSAMPSON\\n\\n    'Tis all one, I will show myself a tyrant: when I\\n    have fought with the men, I will be cruel with the\\n    maids, and cut off their heads.\\n\\nGREGORY\\n\\n    The heads of the maids?\\n\\nSAMPSON\\n\\n    Ay, the heads of the maids, or their maidenheads;\\n    take it in what sense thou wilt.\\n\\nGREGORY\\n\\n    They must take it in sense that feel it.\\n\\nSAMPSON\\n\\n    Me they shall feel while I am able to stand: and\\n    'tis known I am a pretty piece of flesh.\\n\\nGREGORY\\n\\n    'Tis well thou art not fish; if thou hadst, thou\\n    hadst been poor John. Draw thy tool! here comes\\n    two of the house of the Montagues.\\n\\nSAMPSON\\n\\n    My naked weapon is out: quarrel, I will back thee.\\n\\nGREGORY\\n\\n    How! turn thy back and run?\\n\\nSAMPSON\\n\\n    Fear me not.\\n\\nGREGORY\\n\\n    No, marry; I fear thee!\\n\\nSAMPSON\\n\\n    Let us take the law of our sides; let them begin.\\n\\nGREGORY\\n\\n    I will frown as I pass by, and let them take it as\\n    they list.\\n\\nSAMPSON\\n\\n    Nay, as they dare. I will bite my thumb at them;\\n    which is a disgrace to them, if they bear it.\\n\\n    Enter ABRAHAM and BALTHASAR\\n\\nABRAHAM\\n\\n    Do you bite your thumb at us, sir?\\n\\nSAMPSON\\n\\n    I do bite my thumb, sir.\\n\\nABRAHAM\\n\\n    Do you bite your thumb at us, sir?\\n\\nSAMPSON\\n\\n    [Aside to GREGORY] Is the law of our side, if I say\\n    ay?\\n\\nGREGORY\\n\\n    No.\\n\\nSAMPSON\\n\\n    No, sir, I do not bite my thumb at you, sir, but I\\n    bite my thumb, sir.\\n\\nGREGORY\\n\\n    Do you quarrel, sir?\\n\\nABRAHAM\\n\\n    Quarrel sir! no, sir.\\n\\nSAMPSON\\n\\n    If you do, sir, I am for you: I serve as good a man as you.\\n\\nABRAHAM\\n\\n    No better.\\n\\nSAMPSON\\n\\n    Well, sir.\\n\\nGREGORY\\n\\n    Say 'better:' here comes one of my master's kinsmen.\\n\\nSAMPSON\\n\\n    Yes, better, sir.\\n\\nABRAHAM\\n\\n    You lie.\\n\\nSAMPSON\\n\\n    Draw, if you be men. Gregory, remember thy swashing blow.\\n\\n    They fight\\n\\n    Enter BENVOLIO\\n\\nBENVOLIO\\n\\n    Part, fools!\\n    Put up your swords; you know not what you do.\\n\\n    Beats down their swords\\n\\n    Enter TYBALT\\n\\nTYBALT\\n\\n    What, art thou drawn among these heartless hinds?\\n    Turn thee, Benvolio, look upon thy death.\\n\\nBENVOLIO\\n\\n    I do but keep the peace: put up thy sword,\\n    Or manage it to part these men with me.\\n\\nTYBALT\\n\\n    What, drawn, and talk of peace! I hate the word,\\n    As I hate hell, all Montagues, and thee:\\n    Have at thee, coward!\\n\\n    They fight\\n\\n    Enter, several of both houses, who join the fray; then enter Citizens, with clubs\\n\\nFirst Citizen\\n\\n    Clubs, bills, and partisans! strike! beat them down!\\n    Down with the Capulets! down with the Montagues!\\n\\n    Enter CAPULET in his gown, and LADY CAPULET\\n\\nCAPULET\\n\\n    What noise is this? Give me my long sword, ho!\\n\\nLADY CAPULET\\n\\n    A crutch, a crutch! why call you for a sword?\\n\\nCAPULET\\n\\n    My sword, I say! Old Montague is come,\\n    And flourishes his blade in spite of me.\\n\\n    Enter MONTAGUE and LADY MONTAGUE\\n\\nMONTAGUE\\n\\n    Thou villain Capulet,--Hold me not, let me go.\\n\\nLADY MONTAGUE\\n\\n    Thou shalt not stir a foot to seek a foe.\\n\\n    Enter PRINCE, with Attendants\\n\\nPRINCE\\n\\n    Rebellious subjects, enemies to peace,\\n    Profaners of this neighbour-stained steel,--\\n    Will they not hear? What, ho! you men, you beasts,\\n    That quench the fire of your pernicious rage\\n    With purple fountains issuing from your veins,\\n    On pain of torture, from those bloody hands\\n    Throw your mistemper'd weapons to the ground,\\n    And hear the sentence of your moved prince.\\n    Three civil brawls, bred of an airy word,\\n    By thee, old Capulet, and Montague,\\n    Have thrice disturb'd the quiet of our streets,\\n    And made Verona's ancient citizens\\n    Cast by their grave beseeming ornaments,\\n    To wield old partisans, in hands as old,\\n    Canker'd with peace, to part your canker'd hate:\\n    If ever you disturb our streets again,\\n    Your lives shall pay the forfeit of the peace.\\n    For this time, all the rest depart away:\\n    You Capulet; shall go along with me:\\n    And, Montague, come you this afternoon,\\n    To know our further pleasure in this case,\\n    To old Free-town, our common judgment-place.\\n    Once more, on pain of death, all men depart.\\n\\n    Exeunt all but MONTAGUE, LADY MONTAGUE, and BENVOLIO\\n\\nMONTAGUE\\n\\n    Who set this ancient quarrel new abroach?\\n    Speak, nephew, were you by when it began?\\n\\nBENVOLIO\\n\\n    Here were the servants of your adversary,\\n    And yours, close fighting ere I did approach:\\n    I drew to part them: in the instant came\\n    The fiery Tybalt, with his sword prepared,\\n    Which, as he breathed defiance to my ears,\\n    He swung about his head and cut the winds,\\n    Who nothing hurt withal hiss'd him in scorn:\\n    While we were interchanging thrusts and blows,\\n    Came more and more and fought on part and part,\\n    Till the prince came, who parted either part.\\n\\nLADY MONTAGUE\\n\\n    O, where is Romeo? saw you him to-day?\\n    Right glad I am he was not at this fray.\\n\\nBENVOLIO\\n\\n    Madam, an hour before the worshipp'd sun\\n    Peer'd forth the golden window of the east,\\n    A troubled mind drave me to walk abroad;\\n    Where, underneath the grove of sycamore\\n    That westward rooteth from the city's side,\\n    So early walking did I see your son:\\n    Towards him I made, but he was ware of me\\n    And stole into the covert of the wood:\\n    I, measuring his affections by my own,\\n    That most are busied when they're most alone,\\n    Pursued my humour not pursuing his,\\n    And gladly shunn'd who gladly fled from me.\\n\\nMONTAGUE\\n\\n    Many a morning hath he there been seen,\\n    With tears augmenting the fresh morning dew.\\n    Adding to clouds more clouds with his deep sighs;\\n    But all so soon as the all-cheering sun\\n    Should in the furthest east begin to draw\\n    The shady curtains from Aurora's bed,\\n    Away from the light steals home my heavy son,\\n    And private in his chamber pens himself,\\n    Shuts up his windows, locks far daylight out\\n    And makes himself an artificial night:\\n    Black and portentous must this humour prove,\\n    Unless good counsel may the cause remove.\\n\\nBENVOLIO\\n\\n    My noble uncle, do you know the cause?\\n\\nMONTAGUE\\n\\n    I neither know it nor can learn of him.\\n\\nBENVOLIO\\n\\n    Have you importuned him by any means?\\n\\nMONTAGUE\\n\\n    Both by myself and many other friends:\\n    But he, his own affections' counsellor,\\n    Is to himself--I will not say how true--\\n    But to himself so secret and so close,\\n    So far from sounding and discovery,\\n    As is the bud bit with an envious worm,\\n    Ere he can spread his sweet leaves to the air,\\n    Or dedicate his beauty to the sun.\\n    Could we but learn from whence his sorrows grow.\\n    We would as willingly give cure as know.\\n\\n    Enter ROMEO\\n\\nBENVOLIO\\n\\n    See, where he comes: so please you, step aside;\\n    I'll know his grievance, or be much denied.\\n\\nMONTAGUE\\n\\n    I would thou wert so happy by thy stay,\\n    To hear true shrift. Come, madam, let's away.\\n\\n    Exeunt MONTAGUE and LADY MONTAGUE\\n\\nBENVOLIO\\n\\n    Good-morrow, cousin.\\n\\nROMEO\\n\\n    Is the day so young?\\n\\nBENVOLIO\\n\\n    But new struck nine.\\n\\nROMEO\\n\\n    Ay me! sad hours seem long.\\n    Was that my father that went hence so fast?\\n\\nBENVOLIO\\n\\n    It was. What sadness lengthens Romeo's hours?\\n\\nROMEO\\n\\n    Not having that, which, having, makes them short.\\n\\nBENVOLIO\\n\\n    In love?\\n\\nROMEO\\n\\n    Out--\\n\\nBENVOLIO\\n\\n    Of love?\\n\\nROMEO\\n\\n    Out of her favour, where I am in love.\\n\\nBENVOLIO\\n\\n    Alas, that love, so gentle in his view,\\n    Should be so tyrannous and rough in proof!\\n\\nROMEO\\n\\n    Alas, that love, whose view is muffled still,\\n    Should, without eyes, see pathways to his will!\\n    Where shall we dine? O me! What fray was here?\\n    Yet tell me not, for I have heard it all.\\n    Here's much to do with hate, but more with love.\\n    Why, then, O brawling love! O loving hate!\\n    O any thing, of nothing first create!\\n    O heavy lightness! serious vanity!\\n    Mis-shapen chaos of well-seeming forms!\\n    Feather of lead, bright smoke, cold fire,\\n    sick health!\\n    Still-waking sleep, that is not what it is!\\n    This love feel I, that feel no love in this.\\n    Dost thou not laugh?\\n\\nBENVOLIO\\n\\n    No, coz, I rather weep.\\n\\nROMEO\\n\\n    Good heart, at what?\\n\\nBENVOLIO\\n\\n    At thy good heart's oppression.\\n\\nROMEO\\n\\n    Why, such is love's transgression.\\n    Griefs of mine own lie heavy in my breast,\\n    Which thou wilt propagate, to have it prest\\n    With more of thine: this love that thou hast shown\\n    Doth add more grief to too much of mine own.\\n    Love is a smoke raised with the fume of sighs;\\n    Being purged, a fire sparkling in lovers' eyes;\\n    Being vex'd a sea nourish'd with lovers' tears:\\n    What is it else? a madness most discreet,\\n    A choking gall and a preserving sweet.\\n    Farewell, my coz.\\n\\nBENVOLIO\\n\\n    Soft! I will go along;\\n    An if you leave me so, you do me wrong.\\n\\nROMEO\\n\\n    Tut, I have lost myself; I am not here;\\n    This is not Romeo, he's some other where.\\n\\nBENVOLIO\\n\\n    Tell me in sadness, who is that you love.\\n\\nROMEO\\n\\n    What, shall I groan and tell thee?\\n\\nBENVOLIO\\n\\n    Groan! why, no.\\n    But sadly tell me who.\\n\\nROMEO\\n\\n    Bid a sick man in sadness make his will:\\n    Ah, word ill urged to one that is so ill!\\n    In sadness, cousin, I do love a woman.\\n\\nBENVOLIO\\n\\n    I aim'd so near, when I supposed you loved.\\n\\nROMEO\\n\\n    A right good mark-man! And she's fair I love.\\n\\nBENVOLIO\\n\\n    A right fair mark, fair coz, is soonest hit.\\n\\nROMEO\\n\\n    Well, in that hit you miss: she'll not be hit\\n    With Cupid's arrow; she hath Dian's wit;\\n    And, in strong proof of chastity well arm'd,\\n    From love's weak childish bow she lives unharm'd.\\n    She will not stay the siege of loving terms,\\n    Nor bide the encounter of assailing eyes,\\n    Nor ope her lap to saint-seducing gold:\\n    O, she is rich in beauty, only poor,\\n    That when she dies with beauty dies her store.\\n\\nBENVOLIO\\n\\n    Then she hath sworn that she will still live chaste?\\n\\nROMEO\\n\\n    She hath, and in that sparing makes huge waste,\\n    For beauty starved with her severity\\n    Cuts beauty off from all posterity.\\n    She is too fair, too wise, wisely too fair,\\n    To merit bliss by making me despair:\\n    She hath forsworn to love, and in that vow\\n    Do I live dead that live to tell it now.\\n\\nBENVOLIO\\n\\n    Be ruled by me, forget to think of her.\\n\\nROMEO\\n\\n    O, teach me how I should forget to think.\\n\\nBENVOLIO\\n\\n    By giving liberty unto thine eyes;\\n    Examine other beauties.\\n\\nROMEO\\n\\n    'Tis the way\\n    To call hers exquisite, in question more:\\n    These happy masks that kiss fair ladies' brows\\n    Being black put us in mind they hide the fair;\\n    He that is strucken blind cannot forget\\n    The precious treasure of his eyesight lost:\\n    Show me a mistress that is passing fair,\\n    What doth her beauty serve, but as a note\\n    Where I may read who pass'd that passing fair?\\n    Farewell: thou canst not teach me to forget.\\n\\nBENVOLIO\\n\\n    I'll pay that doctrine, or else die in debt.\\n\\n    Exeunt\\n\\nSCENE II. A street.\\n\\n    Enter CAPULET, PARIS, and Servant \\n\\nCAPULET\\n\\n    But Montague is bound as well as I,\\n    In penalty alike; and 'tis not hard, I think,\\n    For men so old as we to keep the peace.\\n\\nPARIS\\n\\n    Of honourable reckoning are you both;\\n    And pity 'tis you lived at odds so long.\\n    But now, my lord, what say you to my suit?\\n\\nCAPULET\\n\\n    But saying o'er what I have said before:\\n    My child is yet a stranger in the world;\\n    She hath not seen the change of fourteen years,\\n    Let two more summers wither in their pride,\\n    Ere we may think her ripe to be a bride.\\n\\nPARIS\\n\\n    Younger than she are happy mothers made.\\n\\nCAPULET\\n\\n    And too soon marr'd are those so early made.\\n    The earth hath swallow'd all my hopes but she,\\n    She is the hopeful lady of my earth:\\n    But woo her, gentle Paris, get her heart,\\n    My will to her consent is but a part;\\n    An she agree, within her scope of choice\\n    Lies my consent and fair according voice.\\n    This night I hold an old accustom'd feast,\\n    Whereto I have invited many a guest,\\n    Such as I love; and you, among the store,\\n    One more, most welcome, makes my number more.\\n    At my poor house look to behold this night\\n    Earth-treading stars that make dark heaven light:\\n    Such comfort as do lusty young men feel\\n    When well-apparell'd April on the heel\\n    Of limping winter treads, even such delight\\n    Among fresh female buds shall you this night\\n    Inherit at my house; hear all, all see,\\n    And like her most whose merit most shall be:\\n    Which on more view, of many mine being one\\n    May stand in number, though in reckoning none,\\n    Come, go with me.\\n\\n    To Servant, giving a paper\\n    Go, sirrah, trudge about\\n    Through fair Verona; find those persons out\\n    Whose names are written there, and to them say,\\n    My house and welcome on their pleasure stay.\\n\\n    Exeunt CAPULET and PARIS\\n\\nServant\\n\\n    Find them out whose names are written here! It is\\n    written, that the shoemaker should meddle with his\\n    yard, and the tailor with his last, the fisher with\\n    his pencil, and the painter with his nets; but I am\\n    sent to find those persons whose names are here\\n    writ, and can never find what names the writing\\n    person hath here writ. I must to the learned.--In good time.\\n\\n    Enter BENVOLIO and ROMEO\\n\\nBENVOLIO\\n\\n    Tut, man, one fire burns out another's burning,\\n    One pain is lessen'd by another's anguish;\\n    Turn giddy, and be holp by backward turning;\\n    One desperate grief cures with another's languish:\\n    Take thou some new infection to thy eye,\\n    And the rank poison of the old will die.\\n\\nROMEO\\n\\n    Your plaintain-leaf is excellent for that.\\n\\nBENVOLIO\\n\\n    For what, I pray thee?\\n\\nROMEO\\n\\n    For your broken shin.\\n\\nBENVOLIO\\n\\n    Why, Romeo, art thou mad?\\n\\nROMEO\\n\\n    Not mad, but bound more than a mad-man is;\\n    Shut up in prison, kept without my food,\\n    Whipp'd and tormented and--God-den, good fellow.\\n\\nServant\\n\\n    God gi' god-den. I pray, sir, can you read?\\n\\nROMEO\\n\\n    Ay, mine own fortune in my misery.\\n\\nServant\\n\\n    Perhaps you have learned it without book: but, I\\n    pray, can you read any thing you see?\\n\\nROMEO\\n\\n    Ay, if I know the letters and the language.\\n\\nServant\\n\\n    Ye say honestly: rest you merry!\\n\\nROMEO\\n\\n    Stay, fellow; I can read.\\n\\n    Reads\\n    'Signior Martino and his wife and daughters;\\n    County Anselme and his beauteous sisters; the lady\\n    widow of Vitravio; Signior Placentio and his lovely\\n    nieces; Mercutio and his brother Valentine; mine\\n    uncle Capulet, his wife and daughters; my fair niece\\n    Rosaline; Livia; Signior Valentio and his cousin\\n    Tybalt, Lucio and the lively Helena.' A fair\\n    assembly: whither should they come?\\n\\nServant\\n\\n    Up.\\n\\nROMEO\\n\\n    Whither?\\n\\nServant\\n\\n    To supper; to our house.\\n\\nROMEO\\n\\n    Whose house?\\n\\nServant\\n\\n    My master's.\\n\\nROMEO\\n\\n    Indeed, I should have ask'd you that before.\\n\\nServant\\n\\n    Now I'll tell you without asking: my master is the\\n    great rich Capulet; and if you be not of the house\\n    of Montagues, I pray, come and crush a cup of wine.\\n    Rest you merry!\\n\\n    Exit\\n\\nBENVOLIO\\n\\n    At this same ancient feast of Capulet's\\n    Sups the fair Rosaline whom thou so lovest,\\n    With all the admired beauties of Verona:\\n    Go thither; and, with unattainted eye,\\n    Compare her face with some that I shall show,\\n    And I will make thee think thy swan a crow.\\n\\nROMEO\\n\\n    When the devout religion of mine eye\\n    Maintains such falsehood, then turn tears to fires;\\n    And these, who often drown'd could never die,\\n    Transparent heretics, be burnt for liars!\\n    One fairer than my love! the all-seeing sun\\n    Ne'er saw her match since first the world begun.\\n\\nBENVOLIO\\n\\n    Tut, you saw her fair, none else being by,\\n    Herself poised with herself in either eye:\\n    But in that crystal scales let there be weigh'd\\n    Your lady's love against some other maid\\n    That I will show you shining at this feast,\\n    And she shall scant show well that now shows best.\\n\\nROMEO\\n\\n    I'll go along, no such sight to be shown,\\n    But to rejoice in splendor of mine own.\\n\\n    Exeunt\\n\\nSCENE III. A room in Capulet's house.\\n\\n    Enter LADY CAPULET and Nurse \\n\\nLADY CAPULET\\n\\n    Nurse, where's my daughter? call her forth to me.\\n\\nNurse\\n\\n    Now, by my maidenhead, at twelve year old,\\n    I bade her come. What, lamb! what, ladybird!\\n    God forbid! Where's this girl? What, Juliet!\\n\\n    Enter JULIET\\n\\nJULIET\\n\\n    How now! who calls?\\n\\nNurse\\n\\n    Your mother.\\n\\nJULIET\\n\\n    Madam, I am here.\\n    What is your will?\\n\\nLADY CAPULET\\n\\n    This is the matter:--Nurse, give leave awhile,\\n    We must talk in secret:--nurse, come back again;\\n    I have remember'd me, thou's hear our counsel.\\n    Thou know'st my daughter's of a pretty age.\\n\\nNurse\\n\\n    Faith, I can tell her age unto an hour.\\n\\nLADY CAPULET\\n\\n    She's not fourteen.\\n\\nNurse\\n\\n    I'll lay fourteen of my teeth,--\\n    And yet, to my teeth be it spoken, I have but four--\\n    She is not fourteen. How long is it now\\n    To Lammas-tide?\\n\\nLADY CAPULET\\n\\n    A fortnight and odd days.\\n\\nNurse\\n\\n    Even or odd, of all days in the year,\\n    Come Lammas-eve at night shall she be fourteen.\\n    Susan and she--God rest all Christian souls!--\\n    Were of an age: well, Susan is with God;\\n    She was too good for me: but, as I said,\\n    On Lammas-eve at night shall she be fourteen;\\n    That shall she, marry; I remember it well.\\n    'Tis since the earthquake now eleven years;\\n    And she was wean'd,--I never shall forget it,--\\n    Of all the days of the year, upon that day:\\n    For I had then laid wormwood to my dug,\\n    Sitting in the sun under the dove-house wall;\\n    My lord and you were then at Mantua:--\\n    Nay, I do bear a brain:--but, as I said,\\n    When it did taste the wormwood on the nipple\\n    Of my dug and felt it bitter, pretty fool,\\n    To see it tetchy and fall out with the dug!\\n    Shake quoth the dove-house: 'twas no need, I trow,\\n    To bid me trudge:\\n    And since that time it is eleven years;\\n    For then she could stand alone; nay, by the rood,\\n    She could have run and waddled all about;\\n    For even the day before, she broke her brow:\\n    And then my husband--God be with his soul!\\n    A' was a merry man--took up the child:\\n    'Yea,' quoth he, 'dost thou fall upon thy face?\\n    Thou wilt fall backward when thou hast more wit;\\n    Wilt thou not, Jule?' and, by my holidame,\\n    The pretty wretch left crying and said 'Ay.'\\n    To see, now, how a jest shall come about!\\n    I warrant, an I should live a thousand years,\\n    I never should forget it: 'Wilt thou not, Jule?' quoth he;\\n    And, pretty fool, it stinted and said 'Ay.'\\n\\nLADY CAPULET\\n\\n    Enough of this; I pray thee, hold thy peace.\\n\\nNurse\\n\\n    Yes, madam: yet I cannot choose but laugh,\\n    To think it should leave crying and say 'Ay.'\\n    And yet, I warrant, it had upon its brow\\n    A bump as big as a young cockerel's stone;\\n    A parlous knock; and it cried bitterly:\\n    'Yea,' quoth my husband,'fall'st upon thy face?\\n    Thou wilt fall backward when thou comest to age;\\n    Wilt thou not, Jule?' it stinted and said 'Ay.'\\n\\nJULIET\\n\\n    And stint thou too, I pray thee, nurse, say I.\\n\\nNurse\\n\\n    Peace, I have done. God mark thee to his grace!\\n    Thou wast the prettiest babe that e'er I nursed:\\n    An I might live to see thee married once,\\n    I have my wish.\\n\\nLADY CAPULET\\n\\n    Marry, that 'marry' is the very theme\\n    I came to talk of. Tell me, daughter Juliet,\\n    How stands your disposition to be married?\\n\\nJULIET\\n\\n    It is an honour that I dream not of.\\n\\nNurse\\n\\n    An honour! were not I thine only nurse,\\n    I would say thou hadst suck'd wisdom from thy teat.\\n\\nLADY CAPULET\\n\\n    Well, think of marriage now; younger than you,\\n    Here in Verona, ladies of esteem,\\n    Are made already mothers: by my count,\\n    I was your mother much upon these years\\n    That you are now a maid. Thus then in brief:\\n    The valiant Paris seeks you for his love.\\n\\nNurse\\n\\n    A man, young lady! lady, such a man\\n    As all the world--why, he's a man of wax.\\n\\nLADY CAPULET\\n\\n    Verona's summer hath not such a flower.\\n\\nNurse\\n\\n    Nay, he's a flower; in faith, a very flower.\\n\\nLADY CAPULET\\n\\n    What say you? can you love the gentleman?\\n    This night you shall behold him at our feast;\\n    Read o'er the volume of young Paris' face,\\n    And find delight writ there with beauty's pen;\\n    Examine every married lineament,\\n    And see how one another lends content\\n    And what obscured in this fair volume lies\\n    Find written in the margent of his eyes.\\n    This precious book of love, this unbound lover,\\n    To beautify him, only lacks a cover:\\n    The fish lives in the sea, and 'tis much pride\\n    For fair without the fair within to hide:\\n    That book in many's eyes doth share the glory,\\n    That in gold clasps locks in the golden story;\\n    So shall you share all that he doth possess,\\n    By having him, making yourself no less.\\n\\nNurse\\n\\n    No less! nay, bigger; women grow by men.\\n\\nLADY CAPULET\\n\\n    Speak briefly, can you like of Paris' love?\\n\\nJULIET\\n\\n    I'll look to like, if looking liking move:\\n    But no more deep will I endart mine eye\\n    Than your consent gives strength to make it fly.\\n\\n    Enter a Servant\\n\\nServant\\n\\n    Madam, the guests are come, supper served up, you\\n    called, my young lady asked for, the nurse cursed in\\n    the pantry, and every thing in extremity. I must\\n    hence to wait; I beseech you, follow straight.\\n\\nLADY CAPULET\\n\\n    We follow thee.\\n\\n    Exit Servant\\n    Juliet, the county stays.\\n\\nNurse\\n\\n    Go, girl, seek happy nights to happy days.\\n\\n    Exeunt\\n\\nSCENE IV. A street.\\n\\n    Enter ROMEO, MERCUTIO, BENVOLIO, with five or six Maskers, Torch-bearers, and others \\n\\nROMEO\\n\\n    What, shall this speech be spoke for our excuse?\\n    Or shall we on without a apology?\\n\\nBENVOLIO\\n\\n    The date is out of such prolixity:\\n    We'll have no Cupid hoodwink'd with a scarf,\\n    Bearing a Tartar's painted bow of lath,\\n    Scaring the ladies like a crow-keeper;\\n    Nor no without-book prologue, faintly spoke\\n    After the prompter, for our entrance:\\n    But let them measure us by what they will;\\n    We'll measure them a measure, and be gone.\\n\\nROMEO\\n\\n    Give me a torch: I am not for this ambling;\\n    Being but heavy, I will bear the light.\\n\\nMERCUTIO\\n\\n    Nay, gentle Romeo, we must have you dance.\\n\\nROMEO\\n\\n    Not I, believe me: you have dancing shoes\\n    With nimble soles: I have a soul of lead\\n    So stakes me to the ground I cannot move.\\n\\nMERCUTIO\\n\\n    You are a lover; borrow Cupid's wings,\\n    And soar with them above a common bound.\\n\\nROMEO\\n\\n    I am too sore enpierced with his shaft\\n    To soar with his light feathers, and so bound,\\n    I cannot bound a pitch above dull woe:\\n    Under love's heavy burden do I sink.\\n\\nMERCUTIO\\n\\n    And, to sink in it, should you burden love;\\n    Too great oppression for a tender thing.\\n\\nROMEO\\n\\n    Is love a tender thing? it is too rough,\\n    Too rude, too boisterous, and it pricks like thorn.\\n\\nMERCUTIO\\n\\n    If love be rough with you, be rough with love;\\n    Prick love for pricking, and you beat love down.\\n    Give me a case to put my visage in:\\n    A visor for a visor! what care I\\n    What curious eye doth quote deformities?\\n    Here are the beetle brows shall blush for me.\\n\\nBENVOLIO\\n\\n    Come, knock and enter; and no sooner in,\\n    But every man betake him to his legs.\\n\\nROMEO\\n\\n    A torch for me: let wantons light of heart\\n    Tickle the senseless rushes with their heels,\\n    For I am proverb'd with a grandsire phrase;\\n    I'll be a candle-holder, and look on.\\n    The game was ne'er so fair, and I am done.\\n\\nMERCUTIO\\n\\n    Tut, dun's the mouse, the constable's own word:\\n    If thou art dun, we'll draw thee from the mire\\n    Of this sir-reverence love, wherein thou stick'st\\n    Up to the ears. Come, we burn daylight, ho!\\n\\nROMEO\\n\\n    Nay, that's not so.\\n\\nMERCUTIO\\n\\n    I mean, sir, in delay\\n    We waste our lights in vain, like lamps by day.\\n    Take our good meaning, for our judgment sits\\n    Five times in that ere once in our five wits.\\n\\nROMEO\\n\\n    And we mean well in going to this mask;\\n    But 'tis no wit to go.\\n\\nMERCUTIO\\n\\n    Why, may one ask?\\n\\nROMEO\\n\\n    I dream'd a dream to-night.\\n\\nMERCUTIO\\n\\n    And so did I.\\n\\nROMEO\\n\\n    Well, what was yours?\\n\\nMERCUTIO\\n\\n    That dreamers often lie.\\n\\nROMEO\\n\\n    In bed asleep, while they do dream things true.\\n\\nMERCUTIO\\n\\n    O, then, I see Queen Mab hath been with you.\\n    She is the fairies' midwife, and she comes\\n    In shape no bigger than an agate-stone\\n    On the fore-finger of an alderman,\\n    Drawn with a team of little atomies\\n    Athwart men's noses as they lie asleep;\\n    Her wagon-spokes made of long spiders' legs,\\n    The cover of the wings of grasshoppers,\\n    The traces of the smallest spider's web,\\n    The collars of the moonshine's watery beams,\\n    Her whip of cricket's bone, the lash of film,\\n    Her wagoner a small grey-coated gnat,\\n    Not so big as a round little worm\\n    Prick'd from the lazy finger of a maid;\\n    Her chariot is an empty hazel-nut\\n    Made by the joiner squirrel or old grub,\\n    Time out o' mind the fairies' coachmakers.\\n    And in this state she gallops night by night\\n    Through lovers' brains, and then they dream of love;\\n    O'er courtiers' knees, that dream on court'sies straight,\\n    O'er lawyers' fingers, who straight dream on fees,\\n    O'er ladies ' lips, who straight on kisses dream,\\n    Which oft the angry Mab with blisters plagues,\\n    Because their breaths with sweetmeats tainted are:\\n    Sometime she gallops o'er a courtier's nose,\\n    And then dreams he of smelling out a suit;\\n    And sometime comes she with a tithe-pig's tail\\n    Tickling a parson's nose as a' lies asleep,\\n    Then dreams, he of another benefice:\\n    Sometime she driveth o'er a soldier's neck,\\n    And then dreams he of cutting foreign throats,\\n    Of breaches, ambuscadoes, Spanish blades,\\n    Of healths five-fathom deep; and then anon\\n    Drums in his ear, at which he starts and wakes,\\n    And being thus frighted swears a prayer or two\\n    And sleeps again. This is that very Mab\\n    That plats the manes of horses in the night,\\n    And bakes the elflocks in foul sluttish hairs,\\n    Which once untangled, much misfortune bodes:\\n    This is the hag, when maids lie on their backs,\\n    That presses them and learns them first to bear,\\n    Making them women of good carriage:\\n    This is she--\\n\\nROMEO\\n\\n    Peace, peace, Mercutio, peace!\\n    Thou talk'st of nothing.\\n\\nMERCUTIO\\n\\n    True, I talk of dreams,\\n    Which are the children of an idle brain,\\n    Begot of nothing but vain fantasy,\\n    Which is as thin of substance as the air\\n    And more inconstant than the wind, who wooes\\n    Even now the frozen bosom of the north,\\n    And, being anger'd, puffs away from thence,\\n    Turning his face to the dew-dropping south.\\n\\nBENVOLIO\\n\\n    This wind, you talk of, blows us from ourselves;\\n    Supper is done, and we shall come too late.\\n\\nROMEO\\n\\n    I fear, too early: for my mind misgives\\n    Some consequence yet hanging in the stars\\n    Shall bitterly begin his fearful date\\n    With this night's revels and expire the term\\n    Of a despised life closed in my breast\\n    By some vile forfeit of untimely death.\\n    But He, that hath the steerage of my course,\\n    Direct my sail! On, lusty gentlemen.\\n\\nBENVOLIO\\n\\n    Strike, drum.\\n\\n    Exeunt\\n\\nSCENE V. A hall in Capulet's house.\\n\\n    Musicians waiting. Enter Servingmen with napkins \\n\\nFirst Servant\\n\\n    Where's Potpan, that he helps not to take away? He\\n    shift a trencher? he scrape a trencher!\\n\\nSecond Servant\\n\\n    When good manners shall lie all in one or two men's\\n    hands and they unwashed too, 'tis a foul thing.\\n\\nFirst Servant\\n\\n    Away with the joint-stools, remove the\\n    court-cupboard, look to the plate. Good thou, save\\n    me a piece of marchpane; and, as thou lovest me, let\\n    the porter let in Susan Grindstone and Nell.\\n    Antony, and Potpan!\\n\\nSecond Servant\\n\\n    Ay, boy, ready.\\n\\nFirst Servant\\n\\n    You are looked for and called for, asked for and\\n    sought for, in the great chamber.\\n\\nSecond Servant\\n\\n    We cannot be here and there too. Cheerly, boys; be\\n    brisk awhile, and the longer liver take all.\\n\\n    Enter CAPULET, with JULIET and others of his house, meeting the Guests and Maskers\\n\\nCAPULET\\n\\n    Welcome, gentlemen! ladies that have their toes\\n    Unplagued with corns will have a bout with you.\\n    Ah ha, my mistresses! which of you all\\n    Will now deny to dance? she that makes dainty,\\n    She, I'll swear, hath corns; am I come near ye now?\\n    Welcome, gentlemen! I have seen the day\\n    That I have worn a visor and could tell\\n    A whispering tale in a fair lady's ear,\\n    Such as would please: 'tis gone, 'tis gone, 'tis gone:\\n    You are welcome, gentlemen! come, musicians, play.\\n    A hall, a hall! give room! and foot it, girls.\\n\\n    Music plays, and they dance\\n    More light, you knaves; and turn the tables up,\\n    And quench the fire, the room is grown too hot.\\n    Ah, sirrah, this unlook'd-for sport comes well.\\n    Nay, sit, nay, sit, good cousin Capulet;\\n    For you and I are past our dancing days:\\n    How long is't now since last yourself and I\\n    Were in a mask?\\n\\nSecond Capulet\\n\\n    By'r lady, thirty years.\\n\\nCAPULET\\n\\n    What, man! 'tis not so much, 'tis not so much:\\n    'Tis since the nuptials of Lucentio,\\n    Come pentecost as quickly as it will,\\n    Some five and twenty years; and then we mask'd.\\n\\nSecond Capulet\\n\\n    'Tis more, 'tis more, his son is elder, sir;\\n    His son is thirty.\\n\\nCAPULET\\n\\n    Will you tell me that?\\n    His son was but a ward two years ago.\\n\\nROMEO\\n\\n    [To a Servingman] What lady is that, which doth\\n    enrich the hand\\n    Of yonder knight?\\n\\nServant\\n\\n    I know not, sir.\\n\\nROMEO\\n\\n    O, she doth teach the torches to burn bright!\\n    It seems she hangs upon the cheek of night\\n    Like a rich jewel in an Ethiope's ear;\\n    Beauty too rich for use, for earth too dear!\\n    So shows a snowy dove trooping with crows,\\n    As yonder lady o'er her fellows shows.\\n    The measure done, I'll watch her place of stand,\\n    And, touching hers, make blessed my rude hand.\\n    Did my heart love till now? forswear it, sight!\\n    For I ne'er saw true beauty till this night.\\n\\nTYBALT\\n\\n    This, by his voice, should be a Montague.\\n    Fetch me my rapier, boy. What dares the slave\\n    Come hither, cover'd with an antic face,\\n    To fleer and scorn at our solemnity?\\n    Now, by the stock and honour of my kin,\\n    To strike him dead, I hold it not a sin.\\n\\nCAPULET\\n\\n    Why, how now, kinsman! wherefore storm you so?\\n\\nTYBALT\\n\\n    Uncle, this is a Montague, our foe,\\n    A villain that is hither come in spite,\\n    To scorn at our solemnity this night.\\n\\nCAPULET\\n\\n    Young Romeo is it?\\n\\nTYBALT\\n\\n    'Tis he, that villain Romeo.\\n\\nCAPULET\\n\\n    Content thee, gentle coz, let him alone;\\n    He bears him like a portly gentleman;\\n    And, to say truth, Verona brags of him\\n    To be a virtuous and well-govern'd youth:\\n    I would not for the wealth of all the town\\n    Here in my house do him disparagement:\\n    Therefore be patient, take no note of him:\\n    It is my will, the which if thou respect,\\n    Show a fair presence and put off these frowns,\\n    And ill-beseeming semblance for a feast.\\n\\nTYBALT\\n\\n    It fits, when such a villain is a guest:\\n    I'll not endure him.\\n\\nCAPULET\\n\\n    He shall be endured:\\n    What, goodman boy! I say, he shall: go to;\\n    Am I the master here, or you? go to.\\n    You'll not endure him! God shall mend my soul!\\n    You'll make a mutiny among my guests!\\n    You will set cock-a-hoop! you'll be the man!\\n\\nTYBALT\\n\\n    Why, uncle, 'tis a shame.\\n\\nCAPULET\\n\\n    Go to, go to;\\n    You are a saucy boy: is't so, indeed?\\n    This trick may chance to scathe you, I know what:\\n    You must contrary me! marry, 'tis time.\\n    Well said, my hearts! You are a princox; go:\\n    Be quiet, or--More light, more light! For shame!\\n    I'll make you quiet. What, cheerly, my hearts!\\n\\nTYBALT\\n\\n    Patience perforce with wilful choler meeting\\n    Makes my flesh tremble in their different greeting.\\n    I will withdraw: but this intrusion shall\\n    Now seeming sweet convert to bitter gall.\\n\\n    Exit\\n\\nROMEO\\n\\n    [To JULIET] If I profane with my unworthiest hand\\n    This holy shrine, the gentle fine is this:\\n    My lips, two blushing pilgrims, ready stand\\n    To smooth that rough touch with a tender kiss.\\n\\nJULIET\\n\\n    Good pilgrim, you do wrong your hand too much,\\n    Which mannerly devotion shows in this;\\n    For saints have hands that pilgrims' hands do touch,\\n    And palm to palm is holy palmers' kiss.\\n\\nROMEO\\n\\n    Have not saints lips, and holy palmers too?\\n\\nJULIET\\n\\n    Ay, pilgrim, lips that they must use in prayer.\\n\\nROMEO\\n\\n    O, then, dear saint, let lips do what hands do;\\n    They pray, grant thou, lest faith turn to despair.\\n\\nJULIET\\n\\n    Saints do not move, though grant for prayers' sake.\\n\\nROMEO\\n\\n    Then move not, while my prayer's effect I take.\\n    Thus from my lips, by yours, my sin is purged.\\n\\nJULIET\\n\\n    Then have my lips the sin that they have took.\\n\\nROMEO\\n\\n    Sin from thy lips? O trespass sweetly urged!\\n    Give me my sin again.\\n\\nJULIET\\n\\n    You kiss by the book.\\n\\nNurse\\n\\n    Madam, your mother craves a word with you.\\n\\nROMEO\\n\\n    What is her mother?\\n\\nNurse\\n\\n    Marry, bachelor,\\n    Her mother is the lady of the house,\\n    And a good lady, and a wise and virtuous\\n    I nursed her daughter, that you talk'd withal;\\n    I tell you, he that can lay hold of her\\n    Shall have the chinks.\\n\\nROMEO\\n\\n    Is she a Capulet?\\n    O dear account! my life is my foe's debt.\\n\\nBENVOLIO\\n\\n    Away, begone; the sport is at the best.\\n\\nROMEO\\n\\n    Ay, so I fear; the more is my unrest.\\n\\nCAPULET\\n\\n    Nay, gentlemen, prepare not to be gone;\\n    We have a trifling foolish banquet towards.\\n    Is it e'en so? why, then, I thank you all\\n    I thank you, honest gentlemen; good night.\\n    More torches here! Come on then, let's to bed.\\n    Ah, sirrah, by my fay, it waxes late:\\n    I'll to my rest.\\n\\n    Exeunt all but JULIET and Nurse\\n\\nJULIET\\n\\n    Come hither, nurse. What is yond gentleman?\\n\\nNurse\\n\\n    The son and heir of old Tiberio.\\n\\nJULIET\\n\\n    What's he that now is going out of door?\\n\\nNurse\\n\\n    Marry, that, I think, be young Petrucio.\\n\\nJULIET\\n\\n    What's he that follows there, that would not dance?\\n\\nNurse\\n\\n    I know not.\\n\\nJULIET\\n\\n    Go ask his name: if he be married.\\n    My grave is like to be my wedding bed.\\n\\nNurse\\n\\n    His name is Romeo, and a Montague;\\n    The only son of your great enemy.\\n\\nJULIET\\n\\n    My only love sprung from my only hate!\\n    Too early seen unknown, and known too late!\\n    Prodigious birth of love it is to me,\\n    That I must love a loathed enemy.\\n\\nNurse\\n\\n    What's this? what's this?\\n\\nJULIET\\n\\n    A rhyme I learn'd even now\\n    Of one I danced withal.\\n\\n    One calls within 'Juliet.'\\n\\nNurse\\n\\n    Anon, anon!\\n    Come, let's away; the strangers all are gone.\\n\\n    Exeunt\\n\\nACT II\\nPROLOGUE\\n\\n    Enter Chorus \\n\\nChorus\\n\\n    Now old desire doth in his death-bed lie,\\n    And young affection gapes to be his heir;\\n    That fair for which love groan'd for and would die,\\n    With tender Juliet match'd, is now not fair.\\n    Now Romeo is beloved and loves again,\\n    Alike betwitched by the charm of looks,\\n    But to his foe supposed he must complain,\\n    And she steal love's sweet bait from fearful hooks:\\n    Being held a foe, he may not have access\\n    To breathe such vows as lovers use to swear;\\n    And she as much in love, her means much less\\n    To meet her new-beloved any where:\\n    But passion lends them power, time means, to meet\\n    Tempering extremities with extreme sweet.\\n\\n    Exit\\n\\nSCENE I. A lane by the wall of Capulet's orchard.\\n\\n    Enter ROMEO \\n\\nROMEO\\n\\n    Can I go forward when my heart is here?\\n    Turn back, dull earth, and find thy centre out.\\n\\n    He climbs the wall, and leaps down within it\\n\\n    Enter BENVOLIO and MERCUTIO\\n\\nBENVOLIO\\n\\n    Romeo! my cousin Romeo!\\n\\nMERCUTIO\\n\\n    He is wise;\\n    And, on my lie, hath stol'n him home to bed.\\n\\nBENVOLIO\\n\\n    He ran this way, and leap'd this orchard wall:\\n    Call, good Mercutio.\\n\\nMERCUTIO\\n\\n    Nay, I'll conjure too.\\n    Romeo! humours! madman! passion! lover!\\n    Appear thou in the likeness of a sigh:\\n    Speak but one rhyme, and I am satisfied;\\n    Cry but 'Ay me!' pronounce but 'love' and 'dove;'\\n    Speak to my gossip Venus one fair word,\\n    One nick-name for her purblind son and heir,\\n    Young Adam Cupid, he that shot so trim,\\n    When King Cophetua loved the beggar-maid!\\n    He heareth not, he stirreth not, he moveth not;\\n    The ape is dead, and I must conjure him.\\n    I conjure thee by Rosaline's bright eyes,\\n    By her high forehead and her scarlet lip,\\n    By her fine foot, straight leg and quivering thigh\\n    And the demesnes that there adjacent lie,\\n    That in thy likeness thou appear to us!\\n\\nBENVOLIO\\n\\n    And if he hear thee, thou wilt anger him.\\n\\nMERCUTIO\\n\\n    This cannot anger him: 'twould anger him\\n    To raise a spirit in his mistress' circle\\n    Of some strange nature, letting it there stand\\n    Till she had laid it and conjured it down;\\n    That were some spite: my invocation\\n    Is fair and honest, and in his mistres s' name\\n    I conjure only but to raise up him.\\n\\nBENVOLIO\\n\\n    Come, he hath hid himself among these trees,\\n    To be consorted with the humorous night:\\n    Blind is his love and best befits the dark.\\n\\nMERCUTIO\\n\\n    If love be blind, love cannot hit the mark.\\n    Now will he sit under a medlar tree,\\n    And wish his mistress were that kind of fruit\\n    As maids call medlars, when they laugh alone.\\n    Romeo, that she were, O, that she were\\n    An open et caetera, thou a poperin pear!\\n    Romeo, good night: I'll to my truckle-bed;\\n    This field-bed is too cold for me to sleep:\\n    Come, shall we go?\\n\\nBENVOLIO\\n\\n    Go, then; for 'tis in vain\\n    To seek him here that means not to be found.\\n\\n    Exeunt\\n\\nSCENE II. Capulet's orchard.\\n\\n    Enter ROMEO \\n\\nROMEO\\n\\n    He jests at scars that never felt a wound.\\n\\n    JULIET appears above at a window\\n    But, soft! what light through yonder window breaks?\\n    It is the east, and Juliet is the sun.\\n    Arise, fair sun, and kill the envious moon,\\n    Who is already sick and pale with grief,\\n    That thou her maid art far more fair than she:\\n    Be not her maid, since she is envious;\\n    Her vestal livery is but sick and green\\n    And none but fools do wear it; cast it off.\\n    It is my lady, O, it is my love!\\n    O, that she knew she were!\\n    She speaks yet she says nothing: what of that?\\n    Her eye discourses; I will answer it.\\n    I am too bold, 'tis not to me she speaks:\\n    Two of the fairest stars in all the heaven,\\n    Having some business, do entreat her eyes\\n    To twinkle in their spheres till they return.\\n    What if her eyes were there, they in her head?\\n    The brightness of her cheek would shame those stars,\\n    As daylight doth a lamp; her eyes in heaven\\n    Would through the airy region stream so bright\\n    That birds would sing and think it were not night.\\n    See, how she leans her cheek upon her hand!\\n    O, that I were a glove upon that hand,\\n    That I might touch that cheek!\\n\\nJULIET\\n\\n    Ay me!\\n\\nROMEO\\n\\n    She speaks:\\n    O, speak again, bright angel! for thou art\\n    As glorious to this night, being o'er my head\\n    As is a winged messenger of heaven\\n    Unto the white-upturned wondering eyes\\n    Of mortals that fall back to gaze on him\\n    When he bestrides the lazy-pacing clouds\\n    And sails upon the bosom of the air.\\n\\nJULIET\\n\\n    O Romeo, Romeo! wherefore art thou Romeo?\\n    Deny thy father and refuse thy name;\\n    Or, if thou wilt not, be but sworn my love,\\n    And I'll no longer be a Capulet.\\n\\nROMEO\\n\\n    [Aside] Shall I hear more, or shall I speak at this?\\n\\nJULIET\\n\\n    'Tis but thy name that is my enemy;\\n    Thou art thyself, though not a Montague.\\n    What's Montague? it is nor hand, nor foot,\\n    Nor arm, nor face, nor any other part\\n    Belonging to a man. O, be some other name!\\n    What's in a name? that which we call a rose\\n    By any other name would smell as sweet;\\n    So Romeo would, were he not Romeo call'd,\\n    Retain that dear perfection which he owes\\n    Without that title. Romeo, doff thy name,\\n    And for that name which is no part of thee\\n    Take all myself.\\n\\nROMEO\\n\\n    I take thee at thy word:\\n    Call me but love, and I'll be new baptized;\\n    Henceforth I never will be Romeo.\\n\\nJULIET\\n\\n    What man art thou that thus bescreen'd in night\\n    So stumblest on my counsel?\\n\\nROMEO\\n\\n    By a name\\n    I know not how to tell thee who I am:\\n    My name, dear saint, is hateful to myself,\\n    Because it is an enemy to thee;\\n    Had I it written, I would tear the word.\\n\\nJULIET\\n\\n    My ears have not yet drunk a hundred words\\n    Of that tongue's utterance, yet I know the sound:\\n    Art thou not Romeo and a Montague?\\n\\nROMEO\\n\\n    Neither, fair saint, if either thee dislike.\\n\\nJULIET\\n\\n    How camest thou hither, tell me, and wherefore?\\n    The orchard walls are high and hard to climb,\\n    And the place death, considering who thou art,\\n    If any of my kinsmen find thee here.\\n\\nROMEO\\n\\n    With love's light wings did I o'er-perch these walls;\\n    For stony limits cannot hold love out,\\n    And what love can do that dares love attempt;\\n    Therefore thy kinsmen are no let to me.\\n\\nJULIET\\n\\n    If they do see thee, they will murder thee.\\n\\nROMEO\\n\\n    Alack, there lies more peril in thine eye\\n    Than twenty of their swords: look thou but sweet,\\n    And I am proof against their enmity.\\n\\nJULIET\\n\\n    I would not for the world they saw thee here.\\n\\nROMEO\\n\\n    I have night's cloak to hide me from their sight;\\n    And but thou love me, let them find me here:\\n    My life were better ended by their hate,\\n    Than death prorogued, wanting of thy love.\\n\\nJULIET\\n\\n    By whose direction found'st thou out this place?\\n\\nROMEO\\n\\n    By love, who first did prompt me to inquire;\\n    He lent me counsel and I lent him eyes.\\n    I am no pilot; yet, wert thou as far\\n    As that vast shore wash'd with the farthest sea,\\n    I would adventure for such merchandise.\\n\\nJULIET\\n\\n    Thou know'st the mask of night is on my face,\\n    Else would a maiden blush bepaint my cheek\\n    For that which thou hast heard me speak to-night\\n    Fain would I dwell on form, fain, fain deny\\n    What I have spoke: but farewell compliment!\\n    Dost thou love me? I know thou wilt say 'Ay,'\\n    And I will take thy word: yet if thou swear'st,\\n    Thou mayst prove false; at lovers' perjuries\\n    Then say, Jove laughs. O gentle Romeo,\\n    If thou dost love, pronounce it faithfully:\\n    Or if thou think'st I am too quickly won,\\n    I'll frown and be perverse an say thee nay,\\n    So thou wilt woo; but else, not for the world.\\n    In truth, fair Montague, I am too fond,\\n    And therefore thou mayst think my 'havior light:\\n    But trust me, gentleman, I'll prove more true\\n    Than those that have more cunning to be strange.\\n    I should have been more strange, I must confess,\\n    But that thou overheard'st, ere I was ware,\\n    My true love's passion: therefore pardon me,\\n    And not impute this yielding to light love,\\n    Which the dark night hath so discovered.\\n\\nROMEO\\n\\n    Lady, by yonder blessed moon I swear\\n    That tips with silver all these fruit-tree tops--\\n\\nJULIET\\n\\n    O, swear not by the moon, the inconstant moon,\\n    That monthly changes in her circled orb,\\n    Lest that thy love prove likewise variable.\\n\\nROMEO\\n\\n    What shall I swear by?\\n\\nJULIET\\n\\n    Do not swear at all;\\n    Or, if thou wilt, swear by thy gracious self,\\n    Which is the god of my idolatry,\\n    And I'll believe thee.\\n\\nROMEO\\n\\n    If my heart's dear love--\\n\\nJULIET\\n\\n    Well, do not swear: although I joy in thee,\\n    I have no joy of this contract to-night:\\n    It is too rash, too unadvised, too sudden;\\n    Too like the lightning, which doth cease to be\\n    Ere one can say 'It lightens.' Sweet, good night!\\n    This bud of love, by summer's ripening breath,\\n    May prove a beauteous flower when next we meet.\\n    Good night, good night! as sweet repose and rest\\n    Come to thy heart as that within my breast!\\n\\nROMEO\\n\\n    O, wilt thou leave me so unsatisfied?\\n\\nJULIET\\n\\n    What satisfaction canst thou have to-night?\\n\\nROMEO\\n\\n    The exchange of thy love's faithful vow for mine.\\n\\nJULIET\\n\\n    I gave thee mine before thou didst request it:\\n    And yet I would it were to give again.\\n\\nROMEO\\n\\n    Wouldst thou withdraw it? for what purpose, love?\\n\\nJULIET\\n\\n    But to be frank, and give it thee again.\\n    And yet I wish but for the thing I have:\\n    My bounty is as boundless as the sea,\\n    My love as deep; the more I give to thee,\\n    The more I have, for both are infinite.\\n\\n    Nurse calls within\\n    I hear some noise within; dear love, adieu!\\n    Anon, good nurse! Sweet Montague, be true.\\n    Stay but a little, I will come again.\\n\\n    Exit, above\\n\\nROMEO\\n\\n    O blessed, blessed night! I am afeard.\\n    Being in night, all this is but a dream,\\n    Too flattering-sweet to be substantial.\\n\\n    Re-enter JULIET, above\\n\\nJULIET\\n\\n    Three words, dear Romeo, and good night indeed.\\n    If that thy bent of love be honourable,\\n    Thy purpose marriage, send me word to-morrow,\\n    By one that I'll procure to come to thee,\\n    Where and what time thou wilt perform the rite;\\n    And all my fortunes at thy foot I'll lay\\n    And follow thee my lord throughout the world.\\n\\nNurse\\n\\n    [Within] Madam!\\n\\nJULIET\\n\\n    I come, anon.--But if thou mean'st not well,\\n    I do beseech thee--\\n\\nNurse\\n\\n    [Within] Madam!\\n\\nJULIET\\n\\n    By and by, I come:--\\n    To cease thy suit, and leave me to my grief:\\n    To-morrow will I send.\\n\\nROMEO\\n\\n    So thrive my soul--\\n\\nJULIET\\n\\n    A thousand times good night!\\n\\n    Exit, above\\n\\nROMEO\\n\\n    A thousand times the worse, to want thy light.\\n    Love goes toward love, as schoolboys from\\n    their books,\\n    But love from love, toward school with heavy looks.\\n\\n    Retiring\\n\\n    Re-enter JULIET, above\\n\\nJULIET\\n\\n    Hist! Romeo, hist! O, for a falconer's voice,\\n    To lure this tassel-gentle back again!\\n    Bondage is hoarse, and may not speak aloud;\\n    Else would I tear the cave where Echo lies,\\n    And make her airy tongue more hoarse than mine,\\n    With repetition of my Romeo's name.\\n\\nROMEO\\n\\n    It is my soul that calls upon my name:\\n    How silver-sweet sound lovers' tongues by night,\\n    Like softest music to attending ears!\\n\\nJULIET\\n\\n    Romeo!\\n\\nROMEO\\n\\n    My dear?\\n\\nJULIET\\n\\n    At what o'clock to-morrow\\n    Shall I send to thee?\\n\\nROMEO\\n\\n    At the hour of nine.\\n\\nJULIET\\n\\n    I will not fail: 'tis twenty years till then.\\n    I have forgot why I did call thee back.\\n\\nROMEO\\n\\n    Let me stand here till thou remember it.\\n\\nJULIET\\n\\n    I shall forget, to have thee still stand there,\\n    Remembering how I love thy company.\\n\\nROMEO\\n\\n    And I'll still stay, to have thee still forget,\\n    Forgetting any other home but this.\\n\\nJULIET\\n\\n    'Tis almost morning; I would have thee gone:\\n    And yet no further than a wanton's bird;\\n    Who lets it hop a little from her hand,\\n    Like a poor prisoner in his twisted gyves,\\n    And with a silk thread plucks it back again,\\n    So loving-jealous of his liberty.\\n\\nROMEO\\n\\n    I would I were thy bird.\\n\\nJULIET\\n\\n    Sweet, so would I:\\n    Yet I should kill thee with much cherishing.\\n    Good night, good night! parting is such\\n    sweet sorrow,\\n    That I shall say good night till it be morrow.\\n\\n    Exit above\\n\\nROMEO\\n\\n    Sleep dwell upon thine eyes, peace in thy breast!\\n    Would I were sleep and peace, so sweet to rest!\\n    Hence will I to my ghostly father's cell,\\n    His help to crave, and my dear hap to tell.\\n\\n    Exit\\n\\nSCENE III. Friar Laurence's cell.\\n\\n    Enter FRIAR LAURENCE, with a basket \\n\\nFRIAR LAURENCE\\n\\n    The grey-eyed morn smiles on the frowning night,\\n    Chequering the eastern clouds with streaks of light,\\n    And flecked darkness like a drunkard reels\\n    From forth day's path and Titan's fiery wheels:\\n    Now, ere the sun advance his burning eye,\\n    The day to cheer and night's dank dew to dry,\\n    I must up-fill this osier cage of ours\\n    With baleful weeds and precious-juiced flowers.\\n    The earth that's nature's mother is her tomb;\\n    What is her burying grave that is her womb,\\n    And from her womb children of divers kind\\n    We sucking on her natural bosom find,\\n    Many for many virtues excellent,\\n    None but for some and yet all different.\\n    O, mickle is the powerful grace that lies\\n    In herbs, plants, stones, and their true qualities:\\n    For nought so vile that on the earth doth live\\n    But to the earth some special good doth give,\\n    Nor aught so good but strain'd from that fair use\\n    Revolts from true birth, stumbling on abuse:\\n    Virtue itself turns vice, being misapplied;\\n    And vice sometimes by action dignified.\\n    Within the infant rind of this small flower\\n    Poison hath residence and medicine power:\\n    For this, being smelt, with that part cheers each part;\\n    Being tasted, slays all senses with the heart.\\n    Two such opposed kings encamp them still\\n    In man as well as herbs, grace and rude will;\\n    And where the worser is predominant,\\n    Full soon the canker death eats up that plant.\\n\\n    Enter ROMEO\\n\\nROMEO\\n\\n    Good morrow, father.\\n\\nFRIAR LAURENCE\\n\\n    Benedicite!\\n    What early tongue so sweet saluteth me?\\n    Young son, it argues a distemper'd head\\n    So soon to bid good morrow to thy bed:\\n    Care keeps his watch in every old man's eye,\\n    And where care lodges, sleep will never lie;\\n    But where unbruised youth with unstuff'd brain\\n    Doth couch his limbs, there golden sleep doth reign:\\n    Therefore thy earliness doth me assure\\n    Thou art up-roused by some distemperature;\\n    Or if not so, then here I hit it right,\\n    Our Romeo hath not been in bed to-night.\\n\\nROMEO\\n\\n    That last is true; the sweeter rest was mine.\\n\\nFRIAR LAURENCE\\n\\n    God pardon sin! wast thou with Rosaline?\\n\\nROMEO\\n\\n    With Rosaline, my ghostly father? no;\\n    I have forgot that name, and that name's woe.\\n\\nFRIAR LAURENCE\\n\\n    That's my good son: but where hast thou been, then?\\n\\nROMEO\\n\\n    I'll tell thee, ere thou ask it me again.\\n    I have been feasting with mine enemy,\\n    Where on a sudden one hath wounded me,\\n    That's by me wounded: both our remedies\\n    Within thy help and holy physic lies:\\n    I bear no hatred, blessed man, for, lo,\\n    My intercession likewise steads my foe.\\n\\nFRIAR LAURENCE\\n\\n    Be plain, good son, and homely in thy drift;\\n    Riddling confession finds but riddling shrift.\\n\\nROMEO\\n\\n    Then plainly know my heart's dear love is set\\n    On the fair daughter of rich Capulet:\\n    As mine on hers, so hers is set on mine;\\n    And all combined, save what thou must combine\\n    By holy marriage: when and where and how\\n    We met, we woo'd and made exchange of vow,\\n    I'll tell thee as we pass; but this I pray,\\n    That thou consent to marry us to-day.\\n\\nFRIAR LAURENCE\\n\\n    Holy Saint Francis, what a change is here!\\n    Is Rosaline, whom thou didst love so dear,\\n    So soon forsaken? young men's love then lies\\n    Not truly in their hearts, but in their eyes.\\n    Jesu Maria, what a deal of brine\\n    Hath wash'd thy sallow cheeks for Rosaline!\\n    How much salt water thrown away in waste,\\n    To season love, that of it doth not taste!\\n    The sun not yet thy sighs from heaven clears,\\n    Thy old groans ring yet in my ancient ears;\\n    Lo, here upon thy cheek the stain doth sit\\n    Of an old tear that is not wash'd off yet:\\n    If e'er thou wast thyself and these woes thine,\\n    Thou and these woes were all for Rosaline:\\n    And art thou changed? pronounce this sentence then,\\n    Women may fall, when there's no strength in men.\\n\\nROMEO\\n\\n    Thou chid'st me oft for loving Rosaline.\\n\\nFRIAR LAURENCE\\n\\n    For doting, not for loving, pupil mine.\\n\\nROMEO\\n\\n    And bad'st me bury love.\\n\\nFRIAR LAURENCE\\n\\n    Not in a grave,\\n    To lay one in, another out to have.\\n\\nROMEO\\n\\n    I pray thee, chide not; she whom I love now\\n    Doth grace for grace and love for love allow;\\n    The other did not so.\\n\\nFRIAR LAURENCE\\n\\n    O, she knew well\\n    Thy love did read by rote and could not spell.\\n    But come, young waverer, come, go with me,\\n    In one respect I'll thy assistant be;\\n    For this alliance may so happy prove,\\n    To turn your households' rancour to pure love.\\n\\nROMEO\\n\\n    O, let us hence; I stand on sudden haste.\\n\\nFRIAR LAURENCE\\n\\n    Wisely and slow; they stumble that run fast.\\n\\n    Exeunt\\n\\nSCENE IV. A street.\\n\\n    Enter BENVOLIO and MERCUTIO \\n\\nMERCUTIO\\n\\n    Where the devil should this Romeo be?\\n    Came he not home to-night?\\n\\nBENVOLIO\\n\\n    Not to his father's; I spoke with his man.\\n\\nMERCUTIO\\n\\n    Ah, that same pale hard-hearted wench, that Rosaline.\\n    Torments him so, that he will sure run mad.\\n\\nBENVOLIO\\n\\n    Tybalt, the kinsman of old Capulet,\\n    Hath sent a letter to his father's house.\\n\\nMERCUTIO\\n\\n    A challenge, on my life.\\n\\nBENVOLIO\\n\\n    Romeo will answer it.\\n\\nMERCUTIO\\n\\n    Any man that can write may answer a letter.\\n\\nBENVOLIO\\n\\n    Nay, he will answer the letter's master, how he\\n    dares, being dared.\\n\\nMERCUTIO\\n\\n    Alas poor Romeo! he is already dead; stabbed with a\\n    white wench's black eye; shot through the ear with a\\n    love-song; the very pin of his heart cleft with the\\n    blind bow-boy's butt-shaft: and is he a man to\\n    encounter Tybalt?\\n\\nBENVOLIO\\n\\n    Why, what is Tybalt?\\n\\nMERCUTIO\\n\\n    More than prince of cats, I can tell you. O, he is\\n    the courageous captain of compliments. He fights as\\n    you sing prick-song, keeps time, distance, and\\n    proportion; rests me his minim rest, one, two, and\\n    the third in your bosom: the very butcher of a silk\\n    button, a duellist, a duellist; a gentleman of the\\n    very first house, of the first and second cause:\\n    ah, the immortal passado! the punto reverso! the\\n    hai!\\n\\nBENVOLIO\\n\\n    The what?\\n\\nMERCUTIO\\n\\n    The pox of such antic, lisping, affecting\\n    fantasticoes; these new tuners of accents! 'By Jesu,\\n    a very good blade! a very tall man! a very good\\n    whore!' Why, is not this a lamentable thing,\\n    grandsire, that we should be thus afflicted with\\n    these strange flies, these fashion-mongers, these\\n    perdona-mi's, who stand so much on the new form,\\n    that they cannot at ease on the old bench? O, their\\n    bones, their bones!\\n\\n    Enter ROMEO\\n\\nBENVOLIO\\n\\n    Here comes Romeo, here comes Romeo.\\n\\nMERCUTIO\\n\\n    Without his roe, like a dried herring: flesh, flesh,\\n    how art thou fishified! Now is he for the numbers\\n    that Petrarch flowed in: Laura to his lady was but a\\n    kitchen-wench; marry, she had a better love to\\n    be-rhyme her; Dido a dowdy; Cleopatra a gipsy;\\n    Helen and Hero hildings and harlots; Thisbe a grey\\n    eye or so, but not to the purpose. Signior\\n    Romeo, bon jour! there's a French salutation\\n    to your French slop. You gave us the counterfeit\\n    fairly last night.\\n\\nROMEO\\n\\n    Good morrow to you both. What counterfeit did I give you?\\n\\nMERCUTIO\\n\\n    The ship, sir, the slip; can you not conceive?\\n\\nROMEO\\n\\n    Pardon, good Mercutio, my business was great; and in\\n    such a case as mine a man may strain courtesy.\\n\\nMERCUTIO\\n\\n    That's as much as to say, such a case as yours\\n    constrains a man to bow in the hams.\\n\\nROMEO\\n\\n    Meaning, to court'sy.\\n\\nMERCUTIO\\n\\n    Thou hast most kindly hit it.\\n\\nROMEO\\n\\n    A most courteous exposition.\\n\\nMERCUTIO\\n\\n    Nay, I am the very pink of courtesy.\\n\\nROMEO\\n\\n    Pink for flower.\\n\\nMERCUTIO\\n\\n    Right.\\n\\nROMEO\\n\\n    Why, then is my pump well flowered.\\n\\nMERCUTIO\\n\\n    Well said: follow me this jest now till thou hast\\n    worn out thy pump, that when the single sole of it\\n    is worn, the jest may remain after the wearing sole singular.\\n\\nROMEO\\n\\n    O single-soled jest, solely singular for the\\n    singleness.\\n\\nMERCUTIO\\n\\n    Come between us, good Benvolio; my wits faint.\\n\\nROMEO\\n\\n    Switch and spurs, switch and spurs; or I'll cry a match.\\n\\nMERCUTIO\\n\\n    Nay, if thy wits run the wild-goose chase, I have\\n    done, for thou hast more of the wild-goose in one of\\n    thy wits than, I am sure, I have in my whole five:\\n    was I with you there for the goose?\\n\\nROMEO\\n\\n    Thou wast never with me for any thing when thou wast\\n    not there for the goose.\\n\\nMERCUTIO\\n\\n    I will bite thee by the ear for that jest.\\n\\nROMEO\\n\\n    Nay, good goose, bite not.\\n\\nMERCUTIO\\n\\n    Thy wit is a very bitter sweeting; it is a most\\n    sharp sauce.\\n\\nROMEO\\n\\n    And is it not well served in to a sweet goose?\\n\\nMERCUTIO\\n\\n    O here's a wit of cheveril, that stretches from an\\n    inch narrow to an ell broad!\\n\\nROMEO\\n\\n    I stretch it out for that word 'broad;' which added\\n    to the goose, proves thee far and wide a broad goose.\\n\\nMERCUTIO\\n\\n    Why, is not this better now than groaning for love?\\n    now art thou sociable, now art thou Romeo; now art\\n    thou what thou art, by art as well as by nature:\\n    for this drivelling love is like a great natural,\\n    that runs lolling up and down to hide his bauble in a hole.\\n\\nBENVOLIO\\n\\n    Stop there, stop there.\\n\\nMERCUTIO\\n\\n    Thou desirest me to stop in my tale against the hair.\\n\\nBENVOLIO\\n\\n    Thou wouldst else have made thy tale large.\\n\\nMERCUTIO\\n\\n    O, thou art deceived; I would have made it short:\\n    for I was come to the whole depth of my tale; and\\n    meant, indeed, to occupy the argument no longer.\\n\\nROMEO\\n\\n    Here's goodly gear!\\n\\n    Enter Nurse and PETER\\n\\nMERCUTIO\\n\\n    A sail, a sail!\\n\\nBENVOLIO\\n\\n    Two, two; a shirt and a smock.\\n\\nNurse\\n\\n    Peter!\\n\\nPETER\\n\\n    Anon!\\n\\nNurse\\n\\n    My fan, Peter.\\n\\nMERCUTIO\\n\\n    Good Peter, to hide her face; for her fan's the\\n    fairer face.\\n\\nNurse\\n\\n    God ye good morrow, gentlemen.\\n\\nMERCUTIO\\n\\n    God ye good den, fair gentlewoman.\\n\\nNurse\\n\\n    Is it good den?\\n\\nMERCUTIO\\n\\n    'Tis no less, I tell you, for the bawdy hand of the\\n    dial is now upon the prick of noon.\\n\\nNurse\\n\\n    Out upon you! what a man are you!\\n\\nROMEO\\n\\n    One, gentlewoman, that God hath made for himself to\\n    mar.\\n\\nNurse\\n\\n    By my troth, it is well said; 'for himself to mar,'\\n    quoth a'? Gentlemen, can any of you tell me where I\\n    may find the young Romeo?\\n\\nROMEO\\n\\n    I can tell you; but young Romeo will be older when\\n    you have found him than he was when you sought him:\\n    I am the youngest of that name, for fault of a worse.\\n\\nNurse\\n\\n    You say well.\\n\\nMERCUTIO\\n\\n    Yea, is the worst well? very well took, i' faith;\\n    wisely, wisely.\\n\\nNurse\\n\\n    if you be he, sir, I desire some confidence with\\n    you.\\n\\nBENVOLIO\\n\\n    She will indite him to some supper.\\n\\nMERCUTIO\\n\\n    A bawd, a bawd, a bawd! so ho!\\n\\nROMEO\\n\\n    What hast thou found?\\n\\nMERCUTIO\\n\\n    No hare, sir; unless a hare, sir, in a lenten pie,\\n    that is something stale and hoar ere it be spent.\\n\\n    Sings\\n    An old hare hoar,\\n    And an old hare hoar,\\n    Is very good meat in lent\\n    But a hare that is hoar\\n    Is too much for a score,\\n    When it hoars ere it be spent.\\n    Romeo, will you come to your father's? we'll\\n    to dinner, thither.\\n\\nROMEO\\n\\n    I will follow you.\\n\\nMERCUTIO\\n\\n    Farewell, ancient lady; farewell,\\n\\n    Singing\\n    'lady, lady, lady.'\\n\\n    Exeunt MERCUTIO and BENVOLIO\\n\\nNurse\\n\\n    Marry, farewell! I pray you, sir, what saucy\\n    merchant was this, that was so full of his ropery?\\n\\nROMEO\\n\\n    A gentleman, nurse, that loves to hear himself talk,\\n    and will speak more in a minute than he will stand\\n    to in a month.\\n\\nNurse\\n\\n    An a' speak any thing against me, I'll take him\\n    down, an a' were lustier than he is, and twenty such\\n    Jacks; and if I cannot, I'll find those that shall.\\n    Scurvy knave! I am none of his flirt-gills; I am\\n    none of his skains-mates. And thou must stand by\\n    too, and suffer every knave to use me at his pleasure?\\n\\nPETER\\n\\n    I saw no man use you a pleasure; if I had, my weapon\\n    should quickly have been out, I warrant you: I dare\\n    draw as soon as another man, if I see occasion in a\\n    good quarrel, and the law on my side.\\n\\nNurse\\n\\n    Now, afore God, I am so vexed, that every part about\\n    me quivers. Scurvy knave! Pray you, sir, a word:\\n    and as I told you, my young lady bade me inquire you\\n    out; what she bade me say, I will keep to myself:\\n    but first let me tell ye, if ye should lead her into\\n    a fool's paradise, as they say, it were a very gross\\n    kind of behavior, as they say: for the gentlewoman\\n    is young; and, therefore, if you should deal double\\n    with her, truly it were an ill thing to be offered\\n    to any gentlewoman, and very weak dealing.\\n\\nROMEO\\n\\n    Nurse, commend me to thy lady and mistress. I\\n    protest unto thee--\\n\\nNurse\\n\\n    Good heart, and, i' faith, I will tell her as much:\\n    Lord, Lord, she will be a joyful woman.\\n\\nROMEO\\n\\n    What wilt thou tell her, nurse? thou dost not mark me.\\n\\nNurse\\n\\n    I will tell her, sir, that you do protest; which, as\\n    I take it, is a gentlemanlike offer.\\n\\nROMEO\\n\\n    Bid her devise\\n    Some means to come to shrift this afternoon;\\n    And there she shall at Friar Laurence' cell\\n    Be shrived and married. Here is for thy pains.\\n\\nNurse\\n\\n    No truly sir; not a penny.\\n\\nROMEO\\n\\n    Go to; I say you shall.\\n\\nNurse\\n\\n    This afternoon, sir? well, she shall be there.\\n\\nROMEO\\n\\n    And stay, good nurse, behind the abbey wall:\\n    Within this hour my man shall be with thee\\n    And bring thee cords made like a tackled stair;\\n    Which to the high top-gallant of my joy\\n    Must be my convoy in the secret night.\\n    Farewell; be trusty, and I'll quit thy pains:\\n    Farewell; commend me to thy mistress.\\n\\nNurse\\n\\n    Now God in heaven bless thee! Hark you, sir.\\n\\nROMEO\\n\\n    What say'st thou, my dear nurse?\\n\\nNurse\\n\\n    Is your man secret? Did you ne'er hear say,\\n    Two may keep counsel, putting one away?\\n\\nROMEO\\n\\n    I warrant thee, my man's as true as steel.\\n\\nNURSE\\n\\n    Well, sir; my mistress is the sweetest lady--Lord,\\n    Lord! when 'twas a little prating thing:--O, there\\n    is a nobleman in town, one Paris, that would fain\\n    lay knife aboard; but she, good soul, had as lief\\n    see a toad, a very toad, as see him. I anger her\\n    sometimes and tell her that Paris is the properer\\n    man; but, I'll warrant you, when I say so, she looks\\n    as pale as any clout in the versal world. Doth not\\n    rosemary and Romeo begin both with a letter?\\n\\nROMEO\\n\\n    Ay, nurse; what of that? both with an R.\\n\\nNurse\\n\\n    Ah. mocker! that's the dog's name; R is for\\n    the--No; I know it begins with some other\\n    letter:--and she hath the prettiest sententious of\\n    it, of you and rosemary, that it would do you good\\n    to hear it.\\n\\nROMEO\\n\\n    Commend me to thy lady.\\n\\nNurse\\n\\n    Ay, a thousand times.\\n\\n    Exit Romeo\\n    Peter!\\n\\nPETER\\n\\n    Anon!\\n\\nNurse\\n\\n    Peter, take my fan, and go before and apace.\\n\\n    Exeunt\\n\\nSCENE V. Capulet's orchard.\\n\\n    Enter JULIET \\n\\nJULIET\\n\\n    The clock struck nine when I did send the nurse;\\n    In half an hour she promised to return.\\n    Perchance she cannot meet him: that's not so.\\n    O, she is lame! love's heralds should be thoughts,\\n    Which ten times faster glide than the sun's beams,\\n    Driving back shadows over louring hills:\\n    Therefore do nimble-pinion'd doves draw love,\\n    And therefore hath the wind-swift Cupid wings.\\n    Now is the sun upon the highmost hill\\n    Of this day's journey, and from nine till twelve\\n    Is three long hours, yet she is not come.\\n    Had she affections and warm youthful blood,\\n    She would be as swift in motion as a ball;\\n    My words would bandy her to my sweet love,\\n    And his to me:\\n    But old folks, many feign as they were dead;\\n    Unwieldy, slow, heavy and pale as lead.\\n    O God, she comes!\\n\\n    Enter Nurse and PETER\\n    O honey nurse, what news?\\n    Hast thou met with him? Send thy man away.\\n\\nNurse\\n\\n    Peter, stay at the gate.\\n\\n    Exit PETER\\n\\nJULIET\\n\\n    Now, good sweet nurse,--O Lord, why look'st thou sad?\\n    Though news be sad, yet tell them merrily;\\n    If good, thou shamest the music of sweet news\\n    By playing it to me with so sour a face.\\n\\nNurse\\n\\n    I am a-weary, give me leave awhile:\\n    Fie, how my bones ache! what a jaunt have I had!\\n\\nJULIET\\n\\n    I would thou hadst my bones, and I thy news:\\n    Nay, come, I pray thee, speak; good, good nurse, speak.\\n\\nNurse\\n\\n    Jesu, what haste? can you not stay awhile?\\n    Do you not see that I am out of breath?\\n\\nJULIET\\n\\n    How art thou out of breath, when thou hast breath\\n    To say to me that thou art out of breath?\\n    The excuse that thou dost make in this delay\\n    Is longer than the tale thou dost excuse.\\n    Is thy news good, or bad? answer to that;\\n    Say either, and I'll stay the circumstance:\\n    Let me be satisfied, is't good or bad?\\n\\nNurse\\n\\n    Well, you have made a simple choice; you know not\\n    how to choose a man: Romeo! no, not he; though his\\n    face be better than any man's, yet his leg excels\\n    all men's; and for a hand, and a foot, and a body,\\n    though they be not to be talked on, yet they are\\n    past compare: he is not the flower of courtesy,\\n    but, I'll warrant him, as gentle as a lamb. Go thy\\n    ways, wench; serve God. What, have you dined at home?\\n\\nJULIET\\n\\n    No, no: but all this did I know before.\\n    What says he of our marriage? what of that?\\n\\nNurse\\n\\n    Lord, how my head aches! what a head have I!\\n    It beats as it would fall in twenty pieces.\\n    My back o' t' other side,--O, my back, my back!\\n    Beshrew your heart for sending me about,\\n    To catch my death with jaunting up and down!\\n\\nJULIET\\n\\n    I' faith, I am sorry that thou art not well.\\n    Sweet, sweet, sweet nurse, tell me, what says my love?\\n\\nNurse\\n\\n    Your love says, like an honest gentleman, and a\\n    courteous, and a kind, and a handsome, and, I\\n    warrant, a virtuous,--Where is your mother?\\n\\nJULIET\\n\\n    Where is my mother! why, she is within;\\n    Where should she be? How oddly thou repliest!\\n    'Your love says, like an honest gentleman,\\n    Where is your mother?'\\n\\nNurse\\n\\n    O God's lady dear!\\n    Are you so hot? marry, come up, I trow;\\n    Is this the poultice for my aching bones?\\n    Henceforward do your messages yourself.\\n\\nJULIET\\n\\n    Here's such a coil! come, what says Romeo?\\n\\nNurse\\n\\n    Have you got leave to go to shrift to-day?\\n\\nJULIET\\n\\n    I have.\\n\\nNurse\\n\\n    Then hie you hence to Friar Laurence' cell;\\n    There stays a husband to make you a wife:\\n    Now comes the wanton blood up in your cheeks,\\n    They'll be in scarlet straight at any news.\\n    Hie you to church; I must another way,\\n    To fetch a ladder, by the which your love\\n    Must climb a bird's nest soon when it is dark:\\n    I am the drudge and toil in your delight,\\n    But you shall bear the burden soon at night.\\n    Go; I'll to dinner: hie you to the cell.\\n\\nJULIET\\n\\n    Hie to high fortune! Honest nurse, farewell.\\n\\n    Exeunt\\n\\nSCENE VI. Friar Laurence's cell.\\n\\n    Enter FRIAR LAURENCE and ROMEO \\n\\nFRIAR LAURENCE\\n\\n    So smile the heavens upon this holy act,\\n    That after hours with sorrow chide us not!\\n\\nROMEO\\n\\n    Amen, amen! but come what sorrow can,\\n    It cannot countervail the exchange of joy\\n    That one short minute gives me in her sight:\\n    Do thou but close our hands with holy words,\\n    Then love-devouring death do what he dare;\\n    It is enough I may but call her mine.\\n\\nFRIAR LAURENCE\\n\\n    These violent delights have violent ends\\n    And in their triumph die, like fire and powder,\\n    Which as they kiss consume: the sweetest honey\\n    Is loathsome in his own deliciousness\\n    And in the taste confounds the appetite:\\n    Therefore love moderately; long love doth so;\\n    Too swift arrives as tardy as too slow.\\n\\n    Enter JULIET\\n    Here comes the lady: O, so light a foot\\n    Will ne'er wear out the everlasting flint:\\n    A lover may bestride the gossamer\\n    That idles in the wanton summer air,\\n    And yet not fall; so light is vanity.\\n\\nJULIET\\n\\n    Good even to my ghostly confessor.\\n\\nFRIAR LAURENCE\\n\\n    Romeo shall thank thee, daughter, for us both.\\n\\nJULIET\\n\\n    As much to him, else is his thanks too much.\\n\\nROMEO\\n\\n    Ah, Juliet, if the measure of thy joy\\n    Be heap'd like mine and that thy skill be more\\n    To blazon it, then sweeten with thy breath\\n    This neighbour air, and let rich music's tongue\\n    Unfold the imagined happiness that both\\n    Receive in either by this dear encounter.\\n\\nJULIET\\n\\n    Conceit, more rich in matter than in words,\\n    Brags of his substance, not of ornament:\\n    They are but beggars that can count their worth;\\n    But my true love is grown to such excess\\n    I cannot sum up sum of half my wealth.\\n\\nFRIAR LAURENCE\\n\\n    Come, come with me, and we will make short work;\\n    For, by your leaves, you shall not stay alone\\n    Till holy church incorporate two in one.\\n\\n    Exeunt\\n\\nACT III\\nSCENE I. A public place.\\n\\n    Enter MERCUTIO, BENVOLIO, Page, and Servants \\n\\nBENVOLIO\\n\\n    I pray thee, good Mercutio, let's retire:\\n    The day is hot, the Capulets abroad,\\n    And, if we meet, we shall not scape a brawl;\\n    For now, these hot days, is the mad blood stirring.\\n\\nMERCUTIO\\n\\n    Thou art like one of those fellows that when he\\n    enters the confines of a tavern claps me his sword\\n    upon the table and says 'God send me no need of\\n    thee!' and by the operation of the second cup draws\\n    it on the drawer, when indeed there is no need.\\n\\nBENVOLIO\\n\\n    Am I like such a fellow?\\n\\nMERCUTIO\\n\\n    Come, come, thou art as hot a Jack in thy mood as\\n    any in Italy, and as soon moved to be moody, and as\\n    soon moody to be moved.\\n\\nBENVOLIO\\n\\n    And what to?\\n\\nMERCUTIO\\n\\n    Nay, an there were two such, we should have none\\n    shortly, for one would kill the other. Thou! why,\\n    thou wilt quarrel with a man that hath a hair more,\\n    or a hair less, in his beard, than thou hast: thou\\n    wilt quarrel with a man for cracking nuts, having no\\n    other reason but because thou hast hazel eyes: what\\n    eye but such an eye would spy out such a quarrel?\\n    Thy head is as fun of quarrels as an egg is full of\\n    meat, and yet thy head hath been beaten as addle as\\n    an egg for quarrelling: thou hast quarrelled with a\\n    man for coughing in the street, because he hath\\n    wakened thy dog that hath lain asleep in the sun:\\n    didst thou not fall out with a tailor for wearing\\n    his new doublet before Easter? with another, for\\n    tying his new shoes with old riband? and yet thou\\n    wilt tutor me from quarrelling!\\n\\nBENVOLIO\\n\\n    An I were so apt to quarrel as thou art, any man\\n    should buy the fee-simple of my life for an hour and a quarter.\\n\\nMERCUTIO\\n\\n    The fee-simple! O simple!\\n\\nBENVOLIO\\n\\n    By my head, here come the Capulets.\\n\\nMERCUTIO\\n\\n    By my heel, I care not.\\n\\n    Enter TYBALT and others\\n\\nTYBALT\\n\\n    Follow me close, for I will speak to them.\\n    Gentlemen, good den: a word with one of you.\\n\\nMERCUTIO\\n\\n    And but one word with one of us? couple it with\\n    something; make it a word and a blow.\\n\\nTYBALT\\n\\n    You shall find me apt enough to that, sir, an you\\n    will give me occasion.\\n\\nMERCUTIO\\n\\n    Could you not take some occasion without giving?\\n\\nTYBALT\\n\\n    Mercutio, thou consort'st with Romeo,--\\n\\nMERCUTIO\\n\\n    Consort! what, dost thou make us minstrels? an\\n    thou make minstrels of us, look to hear nothing but\\n    discords: here's my fiddlestick; here's that shall\\n    make you dance. 'Zounds, consort!\\n\\nBENVOLIO\\n\\n    We talk here in the public haunt of men:\\n    Either withdraw unto some private place,\\n    And reason coldly of your grievances,\\n    Or else depart; here all eyes gaze on us.\\n\\nMERCUTIO\\n\\n    Men's eyes were made to look, and let them gaze;\\n    I will not budge for no man's pleasure, I.\\n\\n    Enter ROMEO\\n\\nTYBALT\\n\\n    Well, peace be with you, sir: here comes my man.\\n\\nMERCUTIO\\n\\n    But I'll be hanged, sir, if he wear your livery:\\n    Marry, go before to field, he'll be your follower;\\n    Your worship in that sense may call him 'man.'\\n\\nTYBALT\\n\\n    Romeo, the hate I bear thee can afford\\n    No better term than this,--thou art a villain.\\n\\nROMEO\\n\\n    Tybalt, the reason that I have to love thee\\n    Doth much excuse the appertaining rage\\n    To such a greeting: villain am I none;\\n    Therefore farewell; I see thou know'st me not.\\n\\nTYBALT\\n\\n    Boy, this shall not excuse the injuries\\n    That thou hast done me; therefore turn and draw.\\n\\nROMEO\\n\\n    I do protest, I never injured thee,\\n    But love thee better than thou canst devise,\\n    Till thou shalt know the reason of my love:\\n    And so, good Capulet,--which name I tender\\n    As dearly as my own,--be satisfied.\\n\\nMERCUTIO\\n\\n    O calm, dishonourable, vile submission!\\n    Alla stoccata carries it away.\\n\\n    Draws\\n    Tybalt, you rat-catcher, will you walk?\\n\\nTYBALT\\n\\n    What wouldst thou have with me?\\n\\nMERCUTIO\\n\\n    Good king of cats, nothing but one of your nine\\n    lives; that I mean to make bold withal, and as you\\n    shall use me hereafter, drybeat the rest of the\\n    eight. Will you pluck your sword out of his pitcher\\n    by the ears? make haste, lest mine be about your\\n    ears ere it be out.\\n\\nTYBALT\\n\\n    I am for you.\\n\\n    Drawing\\n\\nROMEO\\n\\n    Gentle Mercutio, put thy rapier up.\\n\\nMERCUTIO\\n\\n    Come, sir, your passado.\\n\\n    They fight\\n\\nROMEO\\n\\n    Draw, Benvolio; beat down their weapons.\\n    Gentlemen, for shame, forbear this outrage!\\n    Tybalt, Mercutio, the prince expressly hath\\n    Forbidden bandying in Verona streets:\\n    Hold, Tybalt! good Mercutio!\\n\\n    TYBALT under ROMEO's arm stabs MERCUTIO, and flies with his followers\\n\\nMERCUTIO\\n\\n    I am hurt.\\n    A plague o' both your houses! I am sped.\\n    Is he gone, and hath nothing?\\n\\nBENVOLIO\\n\\n    What, art thou hurt?\\n\\nMERCUTIO\\n\\n    Ay, ay, a scratch, a scratch; marry, 'tis enough.\\n    Where is my page? Go, villain, fetch a surgeon.\\n\\n    Exit Page\\n\\nROMEO\\n\\n    Courage, man; the hurt cannot be much.\\n\\nMERCUTIO\\n\\n    No, 'tis not so deep as a well, nor so wide as a\\n    church-door; but 'tis enough,'twill serve: ask for\\n    me to-morrow, and you shall find me a grave man. I\\n    am peppered, I warrant, for this world. A plague o'\\n    both your houses! 'Zounds, a dog, a rat, a mouse, a\\n    cat, to scratch a man to death! a braggart, a\\n    rogue, a villain, that fights by the book of\\n    arithmetic! Why the devil came you between us? I\\n    was hurt under your arm.\\n\\nROMEO\\n\\n    I thought all for the best.\\n\\nMERCUTIO\\n\\n    Help me into some house, Benvolio,\\n    Or I shall faint. A plague o' both your houses!\\n    They have made worms' meat of me: I have it,\\n    And soundly too: your houses!\\n\\n    Exeunt MERCUTIO and BENVOLIO\\n\\nROMEO\\n\\n    This gentleman, the prince's near ally,\\n    My very friend, hath got his mortal hurt\\n    In my behalf; my reputation stain'd\\n    With Tybalt's slander,--Tybalt, that an hour\\n    Hath been my kinsman! O sweet Juliet,\\n    Thy beauty hath made me effeminate\\n    And in my temper soften'd valour's steel!\\n\\n    Re-enter BENVOLIO\\n\\nBENVOLIO\\n\\n    O Romeo, Romeo, brave Mercutio's dead!\\n    That gallant spirit hath aspired the clouds,\\n    Which too untimely here did scorn the earth.\\n\\nROMEO\\n\\n    This day's black fate on more days doth depend;\\n    This but begins the woe, others must end.\\n\\nBENVOLIO\\n\\n    Here comes the furious Tybalt back again.\\n\\nROMEO\\n\\n    Alive, in triumph! and Mercutio slain!\\n    Away to heaven, respective lenity,\\n    And fire-eyed fury be my conduct now!\\n\\n    Re-enter TYBALT\\n    Now, Tybalt, take the villain back again,\\n    That late thou gavest me; for Mercutio's soul\\n    Is but a little way above our heads,\\n    Staying for thine to keep him company:\\n    Either thou, or I, or both, must go with him.\\n\\nTYBALT\\n\\n    Thou, wretched boy, that didst consort him here,\\n    Shalt with him hence.\\n\\nROMEO\\n\\n    This shall determine that.\\n\\n    They fight; TYBALT falls\\n\\nBENVOLIO\\n\\n    Romeo, away, be gone!\\n    The citizens are up, and Tybalt slain.\\n    Stand not amazed: the prince will doom thee death,\\n    If thou art taken: hence, be gone, away!\\n\\nROMEO\\n\\n    O, I am fortune's fool!\\n\\nBENVOLIO\\n\\n    Why dost thou stay?\\n\\n    Exit ROMEO\\n\\n    Enter Citizens, & c\\n\\nFirst Citizen\\n\\n    Which way ran he that kill'd Mercutio?\\n    Tybalt, that murderer, which way ran he?\\n\\nBENVOLIO\\n\\n    There lies that Tybalt.\\n\\nFirst Citizen\\n\\n    Up, sir, go with me;\\n    I charge thee in the princes name, obey.\\n\\n    Enter Prince, attended; MONTAGUE, CAPULET, their Wives, and others\\n\\nPRINCE\\n\\n    Where are the vile beginners of this fray?\\n\\nBENVOLIO\\n\\n    O noble prince, I can discover all\\n    The unlucky manage of this fatal brawl:\\n    There lies the man, slain by young Romeo,\\n    That slew thy kinsman, brave Mercutio.\\n\\nLADY CAPULET\\n\\n    Tybalt, my cousin! O my brother's child!\\n    O prince! O cousin! husband! O, the blood is spilt\\n    O my dear kinsman! Prince, as thou art true,\\n    For blood of ours, shed blood of Montague.\\n    O cousin, cousin!\\n\\nPRINCE\\n\\n    Benvolio, who began this bloody fray?\\n\\nBENVOLIO\\n\\n    Tybalt, here slain, whom Romeo's hand did slay;\\n    Romeo that spoke him fair, bade him bethink\\n    How nice the quarrel was, and urged withal\\n    Your high displeasure: all this uttered\\n    With gentle breath, calm look, knees humbly bow'd,\\n    Could not take truce with the unruly spleen\\n    Of Tybalt deaf to peace, but that he tilts\\n    With piercing steel at bold Mercutio's breast,\\n    Who all as hot, turns deadly point to point,\\n    And, with a martial scorn, with one hand beats\\n    Cold death aside, and with the other sends\\n    It back to Tybalt, whose dexterity,\\n    Retorts it: Romeo he cries aloud,\\n    'Hold, friends! friends, part!' and, swifter than\\n    his tongue,\\n    His agile arm beats down their fatal points,\\n    And 'twixt them rushes; underneath whose arm\\n    An envious thrust from Tybalt hit the life\\n    Of stout Mercutio, and then Tybalt fled;\\n    But by and by comes back to Romeo,\\n    Who had but newly entertain'd revenge,\\n    And to 't they go like lightning, for, ere I\\n    Could draw to part them, was stout Tybalt slain.\\n    And, as he fell, did Romeo turn and fly.\\n    This is the truth, or let Benvolio die.\\n\\nLADY CAPULET\\n\\n    He is a kinsman to the Montague;\\n    Affection makes him false; he speaks not true:\\n    Some twenty of them fought in this black strife,\\n    And all those twenty could but kill one life.\\n    I beg for justice, which thou, prince, must give;\\n    Romeo slew Tybalt, Romeo must not live.\\n\\nPRINCE\\n\\n    Romeo slew him, he slew Mercutio;\\n    Who now the price of his dear blood doth owe?\\n\\nMONTAGUE\\n\\n    Not Romeo, prince, he was Mercutio's friend;\\n    His fault concludes but what the law should end,\\n    The life of Tybalt.\\n\\nPRINCE\\n\\n    And for that offence\\n    Immediately we do exile him hence:\\n    I have an interest in your hate's proceeding,\\n    My blood for your rude brawls doth lie a-bleeding;\\n    But I'll amerce you with so strong a fine\\n    That you shall all repent the loss of mine:\\n    I will be deaf to pleading and excuses;\\n    Nor tears nor prayers shall purchase out abuses:\\n    Therefore use none: let Romeo hence in haste,\\n    Else, when he's found, that hour is his last.\\n    Bear hence this body and attend our will:\\n    Mercy but murders, pardoning those that kill.\\n\\n    Exeunt\\n\\nSCENE II. Capulet's orchard.\\n\\n    Enter JULIET \\n\\nJULIET\\n\\n    Gallop apace, you fiery-footed steeds,\\n    Towards Phoebus' lodging: such a wagoner\\n    As Phaethon would whip you to the west,\\n    And bring in cloudy night immediately.\\n    Spread thy close curtain, love-performing night,\\n    That runaway's eyes may wink and Romeo\\n    Leap to these arms, untalk'd of and unseen.\\n    Lovers can see to do their amorous rites\\n    By their own beauties; or, if love be blind,\\n    It best agrees with night. Come, civil night,\\n    Thou sober-suited matron, all in black,\\n    And learn me how to lose a winning match,\\n    Play'd for a pair of stainless maidenhoods:\\n    Hood my unmann'd blood, bating in my cheeks,\\n    With thy black mantle; till strange love, grown bold,\\n    Think true love acted simple modesty.\\n    Come, night; come, Romeo; come, thou day in night;\\n    For thou wilt lie upon the wings of night\\n    Whiter than new snow on a raven's back.\\n    Come, gentle night, come, loving, black-brow'd night,\\n    Give me my Romeo; and, when he shall die,\\n    Take him and cut him out in little stars,\\n    And he will make the face of heaven so fine\\n    That all the world will be in love with night\\n    And pay no worship to the garish sun.\\n    O, I have bought the mansion of a love,\\n    But not possess'd it, and, though I am sold,\\n    Not yet enjoy'd: so tedious is this day\\n    As is the night before some festival\\n    To an impatient child that hath new robes\\n    And may not wear them. O, here comes my nurse,\\n    And she brings news; and every tongue that speaks\\n    But Romeo's name speaks heavenly eloquence.\\n\\n    Enter Nurse, with cords\\n    Now, nurse, what news? What hast thou there? the cords\\n    That Romeo bid thee fetch?\\n\\nNurse\\n\\n    Ay, ay, the cords.\\n\\n    Throws them down\\n\\nJULIET\\n\\n    Ay me! what news? why dost thou wring thy hands?\\n\\nNurse\\n\\n    Ah, well-a-day! he's dead, he's dead, he's dead!\\n    We are undone, lady, we are undone!\\n    Alack the day! he's gone, he's kill'd, he's dead!\\n\\nJULIET\\n\\n    Can heaven be so envious?\\n\\nNurse\\n\\n    Romeo can,\\n    Though heaven cannot: O Romeo, Romeo!\\n    Who ever would have thought it? Romeo!\\n\\nJULIET\\n\\n    What devil art thou, that dost torment me thus?\\n    This torture should be roar'd in dismal hell.\\n    Hath Romeo slain himself? say thou but 'I,'\\n    And that bare vowel 'I' shall poison more\\n    Than the death-darting eye of cockatrice:\\n    I am not I, if there be such an I;\\n    Or those eyes shut, that make thee answer 'I.'\\n    If he be slain, say 'I'; or if not, no:\\n    Brief sounds determine of my weal or woe.\\n\\nNurse\\n\\n    I saw the wound, I saw it with mine eyes,--\\n    God save the mark!--here on his manly breast:\\n    A piteous corse, a bloody piteous corse;\\n    Pale, pale as ashes, all bedaub'd in blood,\\n    All in gore-blood; I swounded at the sight.\\n\\nJULIET\\n\\n    O, break, my heart! poor bankrupt, break at once!\\n    To prison, eyes, ne'er look on liberty!\\n    Vile earth, to earth resign; end motion here;\\n    And thou and Romeo press one heavy bier!\\n\\nNurse\\n\\n    O Tybalt, Tybalt, the best friend I had!\\n    O courteous Tybalt! honest gentleman!\\n    That ever I should live to see thee dead!\\n\\nJULIET\\n\\n    What storm is this that blows so contrary?\\n    Is Romeo slaughter'd, and is Tybalt dead?\\n    My dear-loved cousin, and my dearer lord?\\n    Then, dreadful trumpet, sound the general doom!\\n    For who is living, if those two are gone?\\n\\nNurse\\n\\n    Tybalt is gone, and Romeo banished;\\n    Romeo that kill'd him, he is banished.\\n\\nJULIET\\n\\n    O God! did Romeo's hand shed Tybalt's blood?\\n\\nNurse\\n\\n    It did, it did; alas the day, it did!\\n\\nJULIET\\n\\n    O serpent heart, hid with a flowering face!\\n    Did ever dragon keep so fair a cave?\\n    Beautiful tyrant! fiend angelical!\\n    Dove-feather'd raven! wolvish-ravening lamb!\\n    Despised substance of divinest show!\\n    Just opposite to what thou justly seem'st,\\n    A damned saint, an honourable villain!\\n    O nature, what hadst thou to do in hell,\\n    When thou didst bower the spirit of a fiend\\n    In moral paradise of such sweet flesh?\\n    Was ever book containing such vile matter\\n    So fairly bound? O that deceit should dwell\\n    In such a gorgeous palace!\\n\\nNurse\\n\\n    There's no trust,\\n    No faith, no honesty in men; all perjured,\\n    All forsworn, all naught, all dissemblers.\\n    Ah, where's my man? give me some aqua vitae:\\n    These griefs, these woes, these sorrows make me old.\\n    Shame come to Romeo!\\n\\nJULIET\\n\\n    Blister'd be thy tongue\\n    For such a wish! he was not born to shame:\\n    Upon his brow shame is ashamed to sit;\\n    For 'tis a throne where honour may be crown'd\\n    Sole monarch of the universal earth.\\n    O, what a beast was I to chide at him!\\n\\nNurse\\n\\n    Will you speak well of him that kill'd your cousin?\\n\\nJULIET\\n\\n    Shall I speak ill of him that is my husband?\\n    Ah, poor my lord, what tongue shall smooth thy name,\\n    When I, thy three-hours wife, have mangled it?\\n    But, wherefore, villain, didst thou kill my cousin?\\n    That villain cousin would have kill'd my husband:\\n    Back, foolish tears, back to your native spring;\\n    Your tributary drops belong to woe,\\n    Which you, mistaking, offer up to joy.\\n    My husband lives, that Tybalt would have slain;\\n    And Tybalt's dead, that would have slain my husband:\\n    All this is comfort; wherefore weep I then?\\n    Some word there was, worser than Tybalt's death,\\n    That murder'd me: I would forget it fain;\\n    But, O, it presses to my memory,\\n    Like damned guilty deeds to sinners' minds:\\n    'Tybalt is dead, and Romeo--banished;'\\n    That 'banished,' that one word 'banished,'\\n    Hath slain ten thousand Tybalts. Tybalt's death\\n    Was woe enough, if it had ended there:\\n    Or, if sour woe delights in fellowship\\n    And needly will be rank'd with other griefs,\\n    Why follow'd not, when she said 'Tybalt's dead,'\\n    Thy father, or thy mother, nay, or both,\\n    Which modern lamentations might have moved?\\n    But with a rear-ward following Tybalt's death,\\n    'Romeo is banished,' to speak that word,\\n    Is father, mother, Tybalt, Romeo, Juliet,\\n    All slain, all dead. 'Romeo is banished!'\\n    There is no end, no limit, measure, bound,\\n    In that word's death; no words can that woe sound.\\n    Where is my father, and my mother, nurse?\\n\\nNurse\\n\\n    Weeping and wailing over Tybalt's corse:\\n    Will you go to them? I will bring you thither.\\n\\nJULIET\\n\\n    Wash they his wounds with tears: mine shall be spent,\\n    When theirs are dry, for Romeo's banishment.\\n    Take up those cords: poor ropes, you are beguiled,\\n    Both you and I; for Romeo is exiled:\\n    He made you for a highway to my bed;\\n    But I, a maid, die maiden-widowed.\\n    Come, cords, come, nurse; I'll to my wedding-bed;\\n    And death, not Romeo, take my maidenhead!\\n\\nNurse\\n\\n    Hie to your chamber: I'll find Romeo\\n    To comfort you: I wot well where he is.\\n    Hark ye, your Romeo will be here at night:\\n    I'll to him; he is hid at Laurence' cell.\\n\\nJULIET\\n\\n    O, find him! give this ring to my true knight,\\n    And bid him come to take his last farewell.\\n\\n    Exeunt\\n\\nSCENE III. Friar Laurence's cell.\\n\\n    Enter FRIAR LAURENCE \\n\\nFRIAR LAURENCE\\n\\n    Romeo, come forth; come forth, thou fearful man:\\n    Affliction is enamour'd of thy parts,\\n    And thou art wedded to calamity.\\n\\n    Enter ROMEO\\n\\nROMEO\\n\\n    Father, what news? what is the prince's doom?\\n    What sorrow craves acquaintance at my hand,\\n    That I yet know not?\\n\\nFRIAR LAURENCE\\n\\n    Too familiar\\n    Is my dear son with such sour company:\\n    I bring thee tidings of the prince's doom.\\n\\nROMEO\\n\\n    What less than dooms-day is the prince's doom?\\n\\nFRIAR LAURENCE\\n\\n    A gentler judgment vanish'd from his lips,\\n    Not body's death, but body's banishment.\\n\\nROMEO\\n\\n    Ha, banishment! be merciful, say 'death;'\\n    For exile hath more terror in his look,\\n    Much more than death: do not say 'banishment.'\\n\\nFRIAR LAURENCE\\n\\n    Hence from Verona art thou banished:\\n    Be patient, for the world is broad and wide.\\n\\nROMEO\\n\\n    There is no world without Verona walls,\\n    But purgatory, torture, hell itself.\\n    Hence-banished is banish'd from the world,\\n    And world's exile is death: then banished,\\n    Is death mis-term'd: calling death banishment,\\n    Thou cutt'st my head off with a golden axe,\\n    And smilest upon the stroke that murders me.\\n\\nFRIAR LAURENCE\\n\\n    O deadly sin! O rude unthankfulness!\\n    Thy fault our law calls death; but the kind prince,\\n    Taking thy part, hath rush'd aside the law,\\n    And turn'd that black word death to banishment:\\n    This is dear mercy, and thou seest it not.\\n\\nROMEO\\n\\n    'Tis torture, and not mercy: heaven is here,\\n    Where Juliet lives; and every cat and dog\\n    And little mouse, every unworthy thing,\\n    Live here in heaven and may look on her;\\n    But Romeo may not: more validity,\\n    More honourable state, more courtship lives\\n    In carrion-flies than Romeo: they my seize\\n    On the white wonder of dear Juliet's hand\\n    And steal immortal blessing from her lips,\\n    Who even in pure and vestal modesty,\\n    Still blush, as thinking their own kisses sin;\\n    But Romeo may not; he is banished:\\n    Flies may do this, but I from this must fly:\\n    They are free men, but I am banished.\\n    And say'st thou yet that exile is not death?\\n    Hadst thou no poison mix'd, no sharp-ground knife,\\n    No sudden mean of death, though ne'er so mean,\\n    But 'banished' to kill me?--'banished'?\\n    O friar, the damned use that word in hell;\\n    Howlings attend it: how hast thou the heart,\\n    Being a divine, a ghostly confessor,\\n    A sin-absolver, and my friend profess'd,\\n    To mangle me with that word 'banished'?\\n\\nFRIAR LAURENCE\\n\\n    Thou fond mad man, hear me but speak a word.\\n\\nROMEO\\n\\n    O, thou wilt speak again of banishment.\\n\\nFRIAR LAURENCE\\n\\n    I'll give thee armour to keep off that word:\\n    Adversity's sweet milk, philosophy,\\n    To comfort thee, though thou art banished.\\n\\nROMEO\\n\\n    Yet 'banished'? Hang up philosophy!\\n    Unless philosophy can make a Juliet,\\n    Displant a town, reverse a prince's doom,\\n    It helps not, it prevails not: talk no more.\\n\\nFRIAR LAURENCE\\n\\n    O, then I see that madmen have no ears.\\n\\nROMEO\\n\\n    How should they, when that wise men have no eyes?\\n\\nFRIAR LAURENCE\\n\\n    Let me dispute with thee of thy estate.\\n\\nROMEO\\n\\n    Thou canst not speak of that thou dost not feel:\\n    Wert thou as young as I, Juliet thy love,\\n    An hour but married, Tybalt murdered,\\n    Doting like me and like me banished,\\n    Then mightst thou speak, then mightst thou tear thy hair,\\n    And fall upon the ground, as I do now,\\n    Taking the measure of an unmade grave.\\n\\n    Knocking within\\n\\nFRIAR LAURENCE\\n\\n    Arise; one knocks; good Romeo, hide thyself.\\n\\nROMEO\\n\\n    Not I; unless the breath of heartsick groans,\\n    Mist-like, infold me from the search of eyes.\\n\\n    Knocking\\n\\nFRIAR LAURENCE\\n\\n    Hark, how they knock! Who's there? Romeo, arise;\\n    Thou wilt be taken. Stay awhile! Stand up;\\n\\n    Knocking\\n    Run to my study. By and by! God's will,\\n    What simpleness is this! I come, I come!\\n\\n    Knocking\\n    Who knocks so hard? whence come you? what's your will?\\n\\nNurse\\n\\n    [Within] Let me come in, and you shall know\\n    my errand;\\n    I come from Lady Juliet.\\n\\nFRIAR LAURENCE\\n\\n    Welcome, then.\\n\\n    Enter Nurse\\n\\nNurse\\n\\n    O holy friar, O, tell me, holy friar,\\n    Where is my lady's lord, where's Romeo?\\n\\nFRIAR LAURENCE\\n\\n    There on the ground, with his own tears made drunk.\\n\\nNurse\\n\\n    O, he is even in my mistress' case,\\n    Just in her case! O woful sympathy!\\n    Piteous predicament! Even so lies she,\\n    Blubbering and weeping, weeping and blubbering.\\n    Stand up, stand up; stand, and you be a man:\\n    For Juliet's sake, for her sake, rise and stand;\\n    Why should you fall into so deep an O?\\n\\nROMEO\\n\\n    Nurse!\\n\\nNurse\\n\\n    Ah sir! ah sir! Well, death's the end of all.\\n\\nROMEO\\n\\n    Spakest thou of Juliet? how is it with her?\\n    Doth she not think me an old murderer,\\n    Now I have stain'd the childhood of our joy\\n    With blood removed but little from her own?\\n    Where is she? and how doth she? and what says\\n    My conceal'd lady to our cancell'd love?\\n\\nNurse\\n\\n    O, she says nothing, sir, but weeps and weeps;\\n    And now falls on her bed; and then starts up,\\n    And Tybalt calls; and then on Romeo cries,\\n    And then down falls again.\\n\\nROMEO\\n\\n    As if that name,\\n    Shot from the deadly level of a gun,\\n    Did murder her; as that name's cursed hand\\n    Murder'd her kinsman. O, tell me, friar, tell me,\\n    In what vile part of this anatomy\\n    Doth my name lodge? tell me, that I may sack\\n    The hateful mansion.\\n\\n    Drawing his sword\\n\\nFRIAR LAURENCE\\n\\n    Hold thy desperate hand:\\n    Art thou a man? thy form cries out thou art:\\n    Thy tears are womanish; thy wild acts denote\\n    The unreasonable fury of a beast:\\n    Unseemly woman in a seeming man!\\n    Or ill-beseeming beast in seeming both!\\n    Thou hast amazed me: by my holy order,\\n    I thought thy disposition better temper'd.\\n    Hast thou slain Tybalt? wilt thou slay thyself?\\n    And stay thy lady too that lives in thee,\\n    By doing damned hate upon thyself?\\n    Why rail'st thou on thy birth, the heaven, and earth?\\n    Since birth, and heaven, and earth, all three do meet\\n    In thee at once; which thou at once wouldst lose.\\n    Fie, fie, thou shamest thy shape, thy love, thy wit;\\n    Which, like a usurer, abound'st in all,\\n    And usest none in that true use indeed\\n    Which should bedeck thy shape, thy love, thy wit:\\n    Thy noble shape is but a form of wax,\\n    Digressing from the valour of a man;\\n    Thy dear love sworn but hollow perjury,\\n    Killing that love which thou hast vow'd to cherish;\\n    Thy wit, that ornament to shape and love,\\n    Misshapen in the conduct of them both,\\n    Like powder in a skitless soldier's flask,\\n    Is set afire by thine own ignorance,\\n    And thou dismember'd with thine own defence.\\n    What, rouse thee, man! thy Juliet is alive,\\n    For whose dear sake thou wast but lately dead;\\n    There art thou happy: Tybalt would kill thee,\\n    But thou slew'st Tybalt; there are thou happy too:\\n    The law that threaten'd death becomes thy friend\\n    And turns it to exile; there art thou happy:\\n    A pack of blessings lights up upon thy back;\\n    Happiness courts thee in her best array;\\n    But, like a misbehaved and sullen wench,\\n    Thou pout'st upon thy fortune and thy love:\\n    Take heed, take heed, for such die miserable.\\n    Go, get thee to thy love, as was decreed,\\n    Ascend her chamber, hence and comfort her:\\n    But look thou stay not till the watch be set,\\n    For then thou canst not pass to Mantua;\\n    Where thou shalt live, till we can find a time\\n    To blaze your marriage, reconcile your friends,\\n    Beg pardon of the prince, and call thee back\\n    With twenty hundred thousand times more joy\\n    Than thou went'st forth in lamentation.\\n    Go before, nurse: commend me to thy lady;\\n    And bid her hasten all the house to bed,\\n    Which heavy sorrow makes them apt unto:\\n    Romeo is coming.\\n\\nNurse\\n\\n    O Lord, I could have stay'd here all the night\\n    To hear good counsel: O, what learning is!\\n    My lord, I'll tell my lady you will come.\\n\\nROMEO\\n\\n    Do so, and bid my sweet prepare to chide.\\n\\nNurse\\n\\n    Here, sir, a ring she bid me give you, sir:\\n    Hie you, make haste, for it grows very late.\\n\\n    Exit\\n\\nROMEO\\n\\n    How well my comfort is revived by this!\\n\\nFRIAR LAURENCE\\n\\n    Go hence; good night; and here stands all your state:\\n    Either be gone before the watch be set,\\n    Or by the break of day disguised from hence:\\n    Sojourn in Mantua; I'll find out your man,\\n    And he shall signify from time to time\\n    Every good hap to you that chances here:\\n    Give me thy hand; 'tis late: farewell; good night.\\n\\nROMEO\\n\\n    But that a joy past joy calls out on me,\\n    It were a grief, so brief to part with thee: Farewell.\\n\\n    Exeunt\\n\\nSCENE IV. A room in Capulet's house.\\n\\n    Enter CAPULET, LADY CAPULET, and PARIS \\n\\nCAPULET\\n\\n    Things have fall'n out, sir, so unluckily,\\n    That we have had no time to move our daughter:\\n    Look you, she loved her kinsman Tybalt dearly,\\n    And so did I:--Well, we were born to die.\\n    'Tis very late, she'll not come down to-night:\\n    I promise you, but for your company,\\n    I would have been a-bed an hour ago.\\n\\nPARIS\\n\\n    These times of woe afford no time to woo.\\n    Madam, good night: commend me to your daughter.\\n\\nLADY CAPULET\\n\\n    I will, and know her mind early to-morrow;\\n    To-night she is mew'd up to her heaviness.\\n\\nCAPULET\\n\\n    Sir Paris, I will make a desperate tender\\n    Of my child's love: I think she will be ruled\\n    In all respects by me; nay, more, I doubt it not.\\n    Wife, go you to her ere you go to bed;\\n    Acquaint her here of my son Paris' love;\\n    And bid her, mark you me, on Wednesday next--\\n    But, soft! what day is this?\\n\\nPARIS\\n\\n    Monday, my lord,\\n\\nCAPULET\\n\\n    Monday! ha, ha! Well, Wednesday is too soon,\\n    O' Thursday let it be: o' Thursday, tell her,\\n    She shall be married to this noble earl.\\n    Will you be ready? do you like this haste?\\n    We'll keep no great ado,--a friend or two;\\n    For, hark you, Tybalt being slain so late,\\n    It may be thought we held him carelessly,\\n    Being our kinsman, if we revel much:\\n    Therefore we'll have some half a dozen friends,\\n    And there an end. But what say you to Thursday?\\n\\nPARIS\\n\\n    My lord, I would that Thursday were to-morrow.\\n\\nCAPULET\\n\\n    Well get you gone: o' Thursday be it, then.\\n    Go you to Juliet ere you go to bed,\\n    Prepare her, wife, against this wedding-day.\\n    Farewell, my lord. Light to my chamber, ho!\\n    Afore me! it is so very very late,\\n    That we may call it early by and by.\\n    Good night.\\n\\n    Exeunt\\n\\nSCENE V. Capulet's orchard.\\n\\n    Enter ROMEO and JULIET above, at the window \\n\\nJULIET\\n\\n    Wilt thou be gone? it is not yet near day:\\n    It was the nightingale, and not the lark,\\n    That pierced the fearful hollow of thine ear;\\n    Nightly she sings on yon pomegranate-tree:\\n    Believe me, love, it was the nightingale.\\n\\nROMEO\\n\\n    It was the lark, the herald of the morn,\\n    No nightingale: look, love, what envious streaks\\n    Do lace the severing clouds in yonder east:\\n    Night's candles are burnt out, and jocund day\\n    Stands tiptoe on the misty mountain tops.\\n    I must be gone and live, or stay and die.\\n\\nJULIET\\n\\n    Yon light is not day-light, I know it, I:\\n    It is some meteor that the sun exhales,\\n    To be to thee this night a torch-bearer,\\n    And light thee on thy way to Mantua:\\n    Therefore stay yet; thou need'st not to be gone.\\n\\nROMEO\\n\\n    Let me be ta'en, let me be put to death;\\n    I am content, so thou wilt have it so.\\n    I'll say yon grey is not the morning's eye,\\n    'Tis but the pale reflex of Cynthia's brow;\\n    Nor that is not the lark, whose notes do beat\\n    The vaulty heaven so high above our heads:\\n    I have more care to stay than will to go:\\n    Come, death, and welcome! Juliet wills it so.\\n    How is't, my soul? let's talk; it is not day.\\n\\nJULIET\\n\\n    It is, it is: hie hence, be gone, away!\\n    It is the lark that sings so out of tune,\\n    Straining harsh discords and unpleasing sharps.\\n    Some say the lark makes sweet division;\\n    This doth not so, for she divideth us:\\n    Some say the lark and loathed toad change eyes,\\n    O, now I would they had changed voices too!\\n    Since arm from arm that voice doth us affray,\\n    Hunting thee hence with hunt's-up to the day,\\n    O, now be gone; more light and light it grows.\\n\\nROMEO\\n\\n    More light and light; more dark and dark our woes!\\n\\n    Enter Nurse, to the chamber\\n\\nNurse\\n\\n    Madam!\\n\\nJULIET\\n\\n    Nurse?\\n\\nNurse\\n\\n    Your lady mother is coming to your chamber:\\n    The day is broke; be wary, look about.\\n\\n    Exit\\n\\nJULIET\\n\\n    Then, window, let day in, and let life out.\\n\\nROMEO\\n\\n    Farewell, farewell! one kiss, and I'll descend.\\n\\n    He goeth down\\n\\nJULIET\\n\\n    Art thou gone so? love, lord, ay, husband, friend!\\n    I must hear from thee every day in the hour,\\n    For in a minute there are many days:\\n    O, by this count I shall be much in years\\n    Ere I again behold my Romeo!\\n\\nROMEO\\n\\n    Farewell!\\n    I will omit no opportunity\\n    That may convey my greetings, love, to thee.\\n\\nJULIET\\n\\n    O think'st thou we shall ever meet again?\\n\\nROMEO\\n\\n    I doubt it not; and all these woes shall serve\\n    For sweet discourses in our time to come.\\n\\nJULIET\\n\\n    O God, I have an ill-divining soul!\\n    Methinks I see thee, now thou art below,\\n    As one dead in the bottom of a tomb:\\n    Either my eyesight fails, or thou look'st pale.\\n\\nROMEO\\n\\n    And trust me, love, in my eye so do you:\\n    Dry sorrow drinks our blood. Adieu, adieu!\\n\\n    Exit\\n\\nJULIET\\n\\n    O fortune, fortune! all men call thee fickle:\\n    If thou art fickle, what dost thou with him.\\n    That is renown'd for faith? Be fickle, fortune;\\n    For then, I hope, thou wilt not keep him long,\\n    But send him back.\\n\\nLADY CAPULET\\n\\n    [Within] Ho, daughter! are you up?\\n\\nJULIET\\n\\n    Who is't that calls? is it my lady mother?\\n    Is she not down so late, or up so early?\\n    What unaccustom'd cause procures her hither?\\n\\n    Enter LADY CAPULET\\n\\nLADY CAPULET\\n\\n    Why, how now, Juliet!\\n\\nJULIET\\n\\n    Madam, I am not well.\\n\\nLADY CAPULET\\n\\n    Evermore weeping for your cousin's death?\\n    What, wilt thou wash him from his grave with tears?\\n    An if thou couldst, thou couldst not make him live;\\n    Therefore, have done: some grief shows much of love;\\n    But much of grief shows still some want of wit.\\n\\nJULIET\\n\\n    Yet let me weep for such a feeling loss.\\n\\nLADY CAPULET\\n\\n    So shall you feel the loss, but not the friend\\n    Which you weep for.\\n\\nJULIET\\n\\n    Feeling so the loss,\\n    Cannot choose but ever weep the friend.\\n\\nLADY CAPULET\\n\\n    Well, girl, thou weep'st not so much for his death,\\n    As that the villain lives which slaughter'd him.\\n\\nJULIET\\n\\n    What villain madam?\\n\\nLADY CAPULET\\n\\n    That same villain, Romeo.\\n\\nJULIET\\n\\n    [Aside] Villain and he be many miles asunder.--\\n    God Pardon him! I do, with all my heart;\\n    And yet no man like he doth grieve my heart.\\n\\nLADY CAPULET\\n\\n    That is, because the traitor murderer lives.\\n\\nJULIET\\n\\n    Ay, madam, from the reach of these my hands:\\n    Would none but I might venge my cousin's death!\\n\\nLADY CAPULET\\n\\n    We will have vengeance for it, fear thou not:\\n    Then weep no more. I'll send to one in Mantua,\\n    Where that same banish'd runagate doth live,\\n    Shall give him such an unaccustom'd dram,\\n    That he shall soon keep Tybalt company:\\n    And then, I hope, thou wilt be satisfied.\\n\\nJULIET\\n\\n    Indeed, I never shall be satisfied\\n    With Romeo, till I behold him--dead--\\n    Is my poor heart for a kinsman vex'd.\\n    Madam, if you could find out but a man\\n    To bear a poison, I would temper it;\\n    That Romeo should, upon receipt thereof,\\n    Soon sleep in quiet. O, how my heart abhors\\n    To hear him named, and cannot come to him.\\n    To wreak the love I bore my cousin\\n    Upon his body that slaughter'd him!\\n\\nLADY CAPULET\\n\\n    Find thou the means, and I'll find such a man.\\n    But now I'll tell thee joyful tidings, girl.\\n\\nJULIET\\n\\n    And joy comes well in such a needy time:\\n    What are they, I beseech your ladyship?\\n\\nLADY CAPULET\\n\\n    Well, well, thou hast a careful father, child;\\n    One who, to put thee from thy heaviness,\\n    Hath sorted out a sudden day of joy,\\n    That thou expect'st not nor I look'd not for.\\n\\nJULIET\\n\\n    Madam, in happy time, what day is that?\\n\\nLADY CAPULET\\n\\n    Marry, my child, early next Thursday morn,\\n    The gallant, young and noble gentleman,\\n    The County Paris, at Saint Peter's Church,\\n    Shall happily make thee there a joyful bride.\\n\\nJULIET\\n\\n    Now, by Saint Peter's Church and Peter too,\\n    He shall not make me there a joyful bride.\\n    I wonder at this haste; that I must wed\\n    Ere he, that should be husband, comes to woo.\\n    I pray you, tell my lord and father, madam,\\n    I will not marry yet; and, when I do, I swear,\\n    It shall be Romeo, whom you know I hate,\\n    Rather than Paris. These are news indeed!\\n\\nLADY CAPULET\\n\\n    Here comes your father; tell him so yourself,\\n    And see how he will take it at your hands.\\n\\n    Enter CAPULET and Nurse\\n\\nCAPULET\\n\\n    When the sun sets, the air doth drizzle dew;\\n    But for the sunset of my brother's son\\n    It rains downright.\\n    How now! a conduit, girl? what, still in tears?\\n    Evermore showering? In one little body\\n    Thou counterfeit'st a bark, a sea, a wind;\\n    For still thy eyes, which I may call the sea,\\n    Do ebb and flow with tears; the bark thy body is,\\n    Sailing in this salt flood; the winds, thy sighs;\\n    Who, raging with thy tears, and they with them,\\n    Without a sudden calm, will overset\\n    Thy tempest-tossed body. How now, wife!\\n    Have you deliver'd to her our decree?\\n\\nLADY CAPULET\\n\\n    Ay, sir; but she will none, she gives you thanks.\\n    I would the fool were married to her grave!\\n\\nCAPULET\\n\\n    Soft! take me with you, take me with you, wife.\\n    How! will she none? doth she not give us thanks?\\n    Is she not proud? doth she not count her blest,\\n    Unworthy as she is, that we have wrought\\n    So worthy a gentleman to be her bridegroom?\\n\\nJULIET\\n\\n    Not proud, you have; but thankful, that you have:\\n    Proud can I never be of what I hate;\\n    But thankful even for hate, that is meant love.\\n\\nCAPULET\\n\\n    How now, how now, chop-logic! What is this?\\n    'Proud,' and 'I thank you,' and 'I thank you not;'\\n    And yet 'not proud,' mistress minion, you,\\n    Thank me no thankings, nor, proud me no prouds,\\n    But fettle your fine joints 'gainst Thursday next,\\n    To go with Paris to Saint Peter's Church,\\n    Or I will drag thee on a hurdle thither.\\n    Out, you green-sickness carrion! out, you baggage!\\n    You tallow-face!\\n\\nLADY CAPULET\\n\\n    Fie, fie! what, are you mad?\\n\\nJULIET\\n\\n    Good father, I beseech you on my knees,\\n    Hear me with patience but to speak a word.\\n\\nCAPULET\\n\\n    Hang thee, young baggage! disobedient wretch!\\n    I tell thee what: get thee to church o' Thursday,\\n    Or never after look me in the face:\\n    Speak not, reply not, do not answer me;\\n    My fingers itch. Wife, we scarce thought us blest\\n    That God had lent us but this only child;\\n    But now I see this one is one too much,\\n    And that we have a curse in having her:\\n    Out on her, hilding!\\n\\nNurse\\n\\n    God in heaven bless her!\\n    You are to blame, my lord, to rate her so.\\n\\nCAPULET\\n\\n    And why, my lady wisdom? hold your tongue,\\n    Good prudence; smatter with your gossips, go.\\n\\nNurse\\n\\n    I speak no treason.\\n\\nCAPULET\\n\\n    O, God ye god-den.\\n\\nNurse\\n\\n    May not one speak?\\n\\nCAPULET\\n\\n    Peace, you mumbling fool!\\n    Utter your gravity o'er a gossip's bowl;\\n    For here we need it not.\\n\\nLADY CAPULET\\n\\n    You are too hot.\\n\\nCAPULET\\n\\n    God's bread! it makes me mad:\\n    Day, night, hour, tide, time, work, play,\\n    Alone, in company, still my care hath been\\n    To have her match'd: and having now provided\\n    A gentleman of noble parentage,\\n    Of fair demesnes, youthful, and nobly train'd,\\n    Stuff'd, as they say, with honourable parts,\\n    Proportion'd as one's thought would wish a man;\\n    And then to have a wretched puling fool,\\n    A whining mammet, in her fortune's tender,\\n    To answer 'I'll not wed; I cannot love,\\n    I am too young; I pray you, pardon me.'\\n    But, as you will not wed, I'll pardon you:\\n    Graze where you will you shall not house with me:\\n    Look to't, think on't, I do not use to jest.\\n    Thursday is near; lay hand on heart, advise:\\n    An you be mine, I'll give you to my friend;\\n    And you be not, hang, beg, starve, die in\\n    the streets,\\n    For, by my soul, I'll ne'er acknowledge thee,\\n    Nor what is mine shall never do thee good:\\n    Trust to't, bethink you; I'll not be forsworn.\\n\\n    Exit\\n\\nJULIET\\n\\n    Is there no pity sitting in the clouds,\\n    That sees into the bottom of my grief?\\n    O, sweet my mother, cast me not away!\\n    Delay this marriage for a month, a week;\\n    Or, if you do not, make the bridal bed\\n    In that dim monument where Tybalt lies.\\n\\nLADY CAPULET\\n\\n    Talk not to me, for I'll not speak a word:\\n    Do as thou wilt, for I have done with thee.\\n\\n    Exit\\n\\nJULIET\\n\\n    O God!--O nurse, how shall this be prevented?\\n    My husband is on earth, my faith in heaven;\\n    How shall that faith return again to earth,\\n    Unless that husband send it me from heaven\\n    By leaving earth? comfort me, counsel me.\\n    Alack, alack, that heaven should practise stratagems\\n    Upon so soft a subject as myself!\\n    What say'st thou? hast thou not a word of joy?\\n    Some comfort, nurse.\\n\\nNurse\\n\\n    Faith, here it is.\\n    Romeo is banish'd; and all the world to nothing,\\n    That he dares ne'er come back to challenge you;\\n    Or, if he do, it needs must be by stealth.\\n    Then, since the case so stands as now it doth,\\n    I think it best you married with the county.\\n    O, he's a lovely gentleman!\\n    Romeo's a dishclout to him: an eagle, madam,\\n    Hath not so green, so quick, so fair an eye\\n    As Paris hath. Beshrew my very heart,\\n    I think you are happy in this second match,\\n    For it excels your first: or if it did not,\\n    Your first is dead; or 'twere as good he were,\\n    As living here and you no use of him.\\n\\nJULIET\\n\\n    Speakest thou from thy heart?\\n\\nNurse\\n\\n    And from my soul too;\\n    Or else beshrew them both.\\n\\nJULIET\\n\\n    Amen!\\n\\nNurse\\n\\n    What?\\n\\nJULIET\\n\\n    Well, thou hast comforted me marvellous much.\\n    Go in: and tell my lady I am gone,\\n    Having displeased my father, to Laurence' cell,\\n    To make confession and to be absolved.\\n\\nNurse\\n\\n    Marry, I will; and this is wisely done.\\n\\n    Exit\\n\\nJULIET\\n\\n    Ancient damnation! O most wicked fiend!\\n    Is it more sin to wish me thus forsworn,\\n    Or to dispraise my lord with that same tongue\\n    Which she hath praised him with above compare\\n    So many thousand times? Go, counsellor;\\n    Thou and my bosom henceforth shall be twain.\\n    I'll to the friar, to know his remedy:\\n    If all else fail, myself have power to die.\\n\\n    Exit\\n\\nACT IV\\nSCENE I. Friar Laurence's cell.\\n\\n    Enter FRIAR LAURENCE and PARIS \\n\\nFRIAR LAURENCE\\n\\n    On Thursday, sir? the time is very short.\\n\\nPARIS\\n\\n    My father Capulet will have it so;\\n    And I am nothing slow to slack his haste.\\n\\nFRIAR LAURENCE\\n\\n    You say you do not know the lady's mind:\\n    Uneven is the course, I like it not.\\n\\nPARIS\\n\\n    Immoderately she weeps for Tybalt's death,\\n    And therefore have I little talk'd of love;\\n    For Venus smiles not in a house of tears.\\n    Now, sir, her father counts it dangerous\\n    That she doth give her sorrow so much sway,\\n    And in his wisdom hastes our marriage,\\n    To stop the inundation of her tears;\\n    Which, too much minded by herself alone,\\n    May be put from her by society:\\n    Now do you know the reason of this haste.\\n\\nFRIAR LAURENCE\\n\\n    [Aside] I would I knew not why it should be slow'd.\\n    Look, sir, here comes the lady towards my cell.\\n\\n    Enter JULIET\\n\\nPARIS\\n\\n    Happily met, my lady and my wife!\\n\\nJULIET\\n\\n    That may be, sir, when I may be a wife.\\n\\nPARIS\\n\\n    That may be must be, love, on Thursday next.\\n\\nJULIET\\n\\n    What must be shall be.\\n\\nFRIAR LAURENCE\\n\\n    That's a certain text.\\n\\nPARIS\\n\\n    Come you to make confession to this father?\\n\\nJULIET\\n\\n    To answer that, I should confess to you.\\n\\nPARIS\\n\\n    Do not deny to him that you love me.\\n\\nJULIET\\n\\n    I will confess to you that I love him.\\n\\nPARIS\\n\\n    So will ye, I am sure, that you love me.\\n\\nJULIET\\n\\n    If I do so, it will be of more price,\\n    Being spoke behind your back, than to your face.\\n\\nPARIS\\n\\n    Poor soul, thy face is much abused with tears.\\n\\nJULIET\\n\\n    The tears have got small victory by that;\\n    For it was bad enough before their spite.\\n\\nPARIS\\n\\n    Thou wrong'st it, more than tears, with that report.\\n\\nJULIET\\n\\n    That is no slander, sir, which is a truth;\\n    And what I spake, I spake it to my face.\\n\\nPARIS\\n\\n    Thy face is mine, and thou hast slander'd it.\\n\\nJULIET\\n\\n    It may be so, for it is not mine own.\\n    Are you at leisure, holy father, now;\\n    Or shall I come to you at evening mass?\\n\\nFRIAR LAURENCE\\n\\n    My leisure serves me, pensive daughter, now.\\n    My lord, we must entreat the time alone.\\n\\nPARIS\\n\\n    God shield I should disturb devotion!\\n    Juliet, on Thursday early will I rouse ye:\\n    Till then, adieu; and keep this holy kiss.\\n\\n    Exit\\n\\nJULIET\\n\\n    O shut the door! and when thou hast done so,\\n    Come weep with me; past hope, past cure, past help!\\n\\nFRIAR LAURENCE\\n\\n    Ah, Juliet, I already know thy grief;\\n    It strains me past the compass of my wits:\\n    I hear thou must, and nothing may prorogue it,\\n    On Thursday next be married to this county.\\n\\nJULIET\\n\\n    Tell me not, friar, that thou hear'st of this,\\n    Unless thou tell me how I may prevent it:\\n    If, in thy wisdom, thou canst give no help,\\n    Do thou but call my resolution wise,\\n    And with this knife I'll help it presently.\\n    God join'd my heart and Romeo's, thou our hands;\\n    And ere this hand, by thee to Romeo seal'd,\\n    Shall be the label to another deed,\\n    Or my true heart with treacherous revolt\\n    Turn to another, this shall slay them both:\\n    Therefore, out of thy long-experienced time,\\n    Give me some present counsel, or, behold,\\n    'Twixt my extremes and me this bloody knife\\n    Shall play the umpire, arbitrating that\\n    Which the commission of thy years and art\\n    Could to no issue of true honour bring.\\n    Be not so long to speak; I long to die,\\n    If what thou speak'st speak not of remedy.\\n\\nFRIAR LAURENCE\\n\\n    Hold, daughter: I do spy a kind of hope,\\n    Which craves as desperate an execution.\\n    As that is desperate which we would prevent.\\n    If, rather than to marry County Paris,\\n    Thou hast the strength of will to slay thyself,\\n    Then is it likely thou wilt undertake\\n    A thing like death to chide away this shame,\\n    That copest with death himself to scape from it:\\n    And, if thou darest, I'll give thee remedy.\\n\\nJULIET\\n\\n    O, bid me leap, rather than marry Paris,\\n    From off the battlements of yonder tower;\\n    Or walk in thievish ways; or bid me lurk\\n    Where serpents are; chain me with roaring bears;\\n    Or shut me nightly in a charnel-house,\\n    O'er-cover'd quite with dead men's rattling bones,\\n    With reeky shanks and yellow chapless skulls;\\n    Or bid me go into a new-made grave\\n    And hide me with a dead man in his shroud;\\n    Things that, to hear them told, have made me tremble;\\n    And I will do it without fear or doubt,\\n    To live an unstain'd wife to my sweet love.\\n\\nFRIAR LAURENCE\\n\\n    Hold, then; go home, be merry, give consent\\n    To marry Paris: Wednesday is to-morrow:\\n    To-morrow night look that thou lie alone;\\n    Let not thy nurse lie with thee in thy chamber:\\n    Take thou this vial, being then in bed,\\n    And this distilled liquor drink thou off;\\n    When presently through all thy veins shall run\\n    A cold and drowsy humour, for no pulse\\n    Shall keep his native progress, but surcease:\\n    No warmth, no breath, shall testify thou livest;\\n    The roses in thy lips and cheeks shall fade\\n    To paly ashes, thy eyes' windows fall,\\n    Like death, when he shuts up the day of life;\\n    Each part, deprived of supple government,\\n    Shall, stiff and stark and cold, appear like death:\\n    And in this borrow'd likeness of shrunk death\\n    Thou shalt continue two and forty hours,\\n    And then awake as from a pleasant sleep.\\n    Now, when the bridegroom in the morning comes\\n    To rouse thee from thy bed, there art thou dead:\\n    Then, as the manner of our country is,\\n    In thy best robes uncover'd on the bier\\n    Thou shalt be borne to that same ancient vault\\n    Where all the kindred of the Capulets lie.\\n    In the mean time, against thou shalt awake,\\n    Shall Romeo by my letters know our drift,\\n    And hither shall he come: and he and I\\n    Will watch thy waking, and that very night\\n    Shall Romeo bear thee hence to Mantua.\\n    And this shall free thee from this present shame;\\n    If no inconstant toy, nor womanish fear,\\n    Abate thy valour in the acting it.\\n\\nJULIET\\n\\n    Give me, give me! O, tell not me of fear!\\n\\nFRIAR LAURENCE\\n\\n    Hold; get you gone, be strong and prosperous\\n    In this resolve: I'll send a friar with speed\\n    To Mantua, with my letters to thy lord.\\n\\nJULIET\\n\\n    Love give me strength! and strength shall help afford.\\n    Farewell, dear father!\\n\\n    Exeunt\\n\\nSCENE II. Hall in Capulet's house.\\n\\n    Enter CAPULET, LADY CAPULET, Nurse, and two Servingmen \\n\\nCAPULET\\n\\n    So many guests invite as here are writ.\\n\\n    Exit First Servant\\n    Sirrah, go hire me twenty cunning cooks.\\n\\nSecond Servant\\n\\n    You shall have none ill, sir; for I'll try if they\\n    can lick their fingers.\\n\\nCAPULET\\n\\n    How canst thou try them so?\\n\\nSecond Servant\\n\\n    Marry, sir, 'tis an ill cook that cannot lick his\\n    own fingers: therefore he that cannot lick his\\n    fingers goes not with me.\\n\\nCAPULET\\n\\n    Go, be gone.\\n\\n    Exit Second Servant\\n    We shall be much unfurnished for this time.\\n    What, is my daughter gone to Friar Laurence?\\n\\nNurse\\n\\n    Ay, forsooth.\\n\\nCAPULET\\n\\n    Well, he may chance to do some good on her:\\n    A peevish self-will'd harlotry it is.\\n\\nNurse\\n\\n    See where she comes from shrift with merry look.\\n\\n    Enter JULIET\\n\\nCAPULET\\n\\n    How now, my headstrong! where have you been gadding?\\n\\nJULIET\\n\\n    Where I have learn'd me to repent the sin\\n    Of disobedient opposition\\n    To you and your behests, and am enjoin'd\\n    By holy Laurence to fall prostrate here,\\n    And beg your pardon: pardon, I beseech you!\\n    Henceforward I am ever ruled by you.\\n\\nCAPULET\\n\\n    Send for the county; go tell him of this:\\n    I'll have this knot knit up to-morrow morning.\\n\\nJULIET\\n\\n    I met the youthful lord at Laurence' cell;\\n    And gave him what becomed love I might,\\n    Not step o'er the bounds of modesty.\\n\\nCAPULET\\n\\n    Why, I am glad on't; this is well: stand up:\\n    This is as't should be. Let me see the county;\\n    Ay, marry, go, I say, and fetch him hither.\\n    Now, afore God! this reverend holy friar,\\n    Our whole city is much bound to him.\\n\\nJULIET\\n\\n    Nurse, will you go with me into my closet,\\n    To help me sort such needful ornaments\\n    As you think fit to furnish me to-morrow?\\n\\nLADY CAPULET\\n\\n    No, not till Thursday; there is time enough.\\n\\nCAPULET\\n\\n    Go, nurse, go with her: we'll to church to-morrow.\\n\\n    Exeunt JULIET and Nurse\\n\\nLADY CAPULET\\n\\n    We shall be short in our provision:\\n    'Tis now near night.\\n\\nCAPULET\\n\\n    Tush, I will stir about,\\n    And all things shall be well, I warrant thee, wife:\\n    Go thou to Juliet, help to deck up her;\\n    I'll not to bed to-night; let me alone;\\n    I'll play the housewife for this once. What, ho!\\n    They are all forth. Well, I will walk myself\\n    To County Paris, to prepare him up\\n    Against to-morrow: my heart is wondrous light,\\n    Since this same wayward girl is so reclaim'd.\\n\\n    Exeunt\\n\\nSCENE III. Juliet's chamber.\\n\\n    Enter JULIET and Nurse \\n\\nJULIET\\n\\n    Ay, those attires are best: but, gentle nurse,\\n    I pray thee, leave me to my self to-night,\\n    For I have need of many orisons\\n    To move the heavens to smile upon my state,\\n    Which, well thou know'st, is cross, and full of sin.\\n\\n    Enter LADY CAPULET\\n\\nLADY CAPULET\\n\\n    What, are you busy, ho? need you my help?\\n\\nJULIET\\n\\n    No, madam; we have cull'd such necessaries\\n    As are behoveful for our state to-morrow:\\n    So please you, let me now be left alone,\\n    And let the nurse this night sit up with you;\\n    For, I am sure, you have your hands full all,\\n    In this so sudden business.\\n\\nLADY CAPULET\\n\\n    Good night:\\n    Get thee to bed, and rest; for thou hast need.\\n\\n    Exeunt LADY CAPULET and Nurse\\n\\nJULIET\\n\\n    Farewell! God knows when we shall meet again.\\n    I have a faint cold fear thrills through my veins,\\n    That almost freezes up the heat of life:\\n    I'll call them back again to comfort me:\\n    Nurse! What should she do here?\\n    My dismal scene I needs must act alone.\\n    Come, vial.\\n    What if this mixture do not work at all?\\n    Shall I be married then to-morrow morning?\\n    No, no: this shall forbid it: lie thou there.\\n\\n    Laying down her dagger\\n    What if it be a poison, which the friar\\n    Subtly hath minister'd to have me dead,\\n    Lest in this marriage he should be dishonour'd,\\n    Because he married me before to Romeo?\\n    I fear it is: and yet, methinks, it should not,\\n    For he hath still been tried a holy man.\\n    How if, when I am laid into the tomb,\\n    I wake before the time that Romeo\\n    Come to redeem me? there's a fearful point!\\n    Shall I not, then, be stifled in the vault,\\n    To whose foul mouth no healthsome air breathes in,\\n    And there die strangled ere my Romeo comes?\\n    Or, if I live, is it not very like,\\n    The horrible conceit of death and night,\\n    Together with the terror of the place,--\\n    As in a vault, an ancient receptacle,\\n    Where, for these many hundred years, the bones\\n    Of all my buried ancestors are packed:\\n    Where bloody Tybalt, yet but green in earth,\\n    Lies festering in his shroud; where, as they say,\\n    At some hours in the night spirits resort;--\\n    Alack, alack, is it not like that I,\\n    So early waking, what with loathsome smells,\\n    And shrieks like mandrakes' torn out of the earth,\\n    That living mortals, hearing them, run mad:--\\n    O, if I wake, shall I not be distraught,\\n    Environed with all these hideous fears?\\n    And madly play with my forefather's joints?\\n    And pluck the mangled Tybalt from his shroud?\\n    And, in this rage, with some great kinsman's bone,\\n    As with a club, dash out my desperate brains?\\n    O, look! methinks I see my cousin's ghost\\n    Seeking out Romeo, that did spit his body\\n    Upon a rapier's point: stay, Tybalt, stay!\\n    Romeo, I come! this do I drink to thee.\\n\\n    She falls upon her bed, within the curtains\\n\\nSCENE IV. Hall in Capulet's house.\\n\\n    Enter LADY CAPULET and Nurse \\n\\nLADY CAPULET\\n\\n    Hold, take these keys, and fetch more spices, nurse.\\n\\nNurse\\n\\n    They call for dates and quinces in the pastry.\\n\\n    Enter CAPULET\\n\\nCAPULET\\n\\n    Come, stir, stir, stir! the second cock hath crow'd,\\n    The curfew-bell hath rung, 'tis three o'clock:\\n    Look to the baked meats, good Angelica:\\n    Spare not for the cost.\\n\\nNurse\\n\\n    Go, you cot-quean, go,\\n    Get you to bed; faith, You'll be sick to-morrow\\n    For this night's watching.\\n\\nCAPULET\\n\\n    No, not a whit: what! I have watch'd ere now\\n    All night for lesser cause, and ne'er been sick.\\n\\nLADY CAPULET\\n\\n    Ay, you have been a mouse-hunt in your time;\\n    But I will watch you from such watching now.\\n\\n    Exeunt LADY CAPULET and Nurse\\n\\nCAPULET\\n\\n    A jealous hood, a jealous hood!\\n\\n    Enter three or four Servingmen, with spits, logs, and baskets\\n    Now, fellow,\\n    What's there?\\n\\nFirst Servant\\n\\n    Things for the cook, sir; but I know not what.\\n\\nCAPULET\\n\\n    Make haste, make haste.\\n\\n    Exit First Servant\\n    Sirrah, fetch drier logs:\\n    Call Peter, he will show thee where they are.\\n\\nSecond Servant\\n\\n    I have a head, sir, that will find out logs,\\n    And never trouble Peter for the matter.\\n\\n    Exit\\n\\nCAPULET\\n\\n    Mass, and well said; a merry whoreson, ha!\\n    Thou shalt be logger-head. Good faith, 'tis day:\\n    The county will be here with music straight,\\n    For so he said he would: I hear him near.\\n\\n    Music within\\n    Nurse! Wife! What, ho! What, nurse, I say!\\n\\n    Re-enter Nurse\\n    Go waken Juliet, go and trim her up;\\n    I'll go and chat with Paris: hie, make haste,\\n    Make haste; the bridegroom he is come already:\\n    Make haste, I say.\\n\\n    Exeunt\\n\\nSCENE V. Juliet's chamber.\\n\\n    Enter Nurse \\n\\nNurse\\n\\n    Mistress! what, mistress! Juliet! fast, I warrant her, she:\\n    Why, lamb! why, lady! fie, you slug-a-bed!\\n    Why, love, I say! madam! sweet-heart! why, bride!\\n    What, not a word? you take your pennyworths now;\\n    Sleep for a week; for the next night, I warrant,\\n    The County Paris hath set up his rest,\\n    That you shall rest but little. God forgive me,\\n    Marry, and amen, how sound is she asleep!\\n    I must needs wake her. Madam, madam, madam!\\n    Ay, let the county take you in your bed;\\n    He'll fright you up, i' faith. Will it not be?\\n\\n    Undraws the curtains\\n    What, dress'd! and in your clothes! and down again!\\n    I must needs wake you; Lady! lady! lady!\\n    Alas, alas! Help, help! my lady's dead!\\n    O, well-a-day, that ever I was born!\\n    Some aqua vitae, ho! My lord! my lady!\\n\\n    Enter LADY CAPULET\\n\\nLADY CAPULET\\n\\n    What noise is here?\\n\\nNurse\\n\\n    O lamentable day!\\n\\nLADY CAPULET\\n\\n    What is the matter?\\n\\nNurse\\n\\n    Look, look! O heavy day!\\n\\nLADY CAPULET\\n\\n    O me, O me! My child, my only life,\\n    Revive, look up, or I will die with thee!\\n    Help, help! Call help.\\n\\n    Enter CAPULET\\n\\nCAPULET\\n\\n    For shame, bring Juliet forth; her lord is come.\\n\\nNurse\\n\\n    She's dead, deceased, she's dead; alack the day!\\n\\nLADY CAPULET\\n\\n    Alack the day, she's dead, she's dead, she's dead!\\n\\nCAPULET\\n\\n    Ha! let me see her: out, alas! she's cold:\\n    Her blood is settled, and her joints are stiff;\\n    Life and these lips have long been separated:\\n    Death lies on her like an untimely frost\\n    Upon the sweetest flower of all the field.\\n\\nNurse\\n\\n    O lamentable day!\\n\\nLADY CAPULET\\n\\n    O woful time!\\n\\nCAPULET\\n\\n    Death, that hath ta'en her hence to make me wail,\\n    Ties up my tongue, and will not let me speak.\\n\\n    Enter FRIAR LAURENCE and PARIS, with Musicians\\n\\nFRIAR LAURENCE\\n\\n    Come, is the bride ready to go to church?\\n\\nCAPULET\\n\\n    Ready to go, but never to return.\\n    O son! the night before thy wedding-day\\n    Hath Death lain with thy wife. There she lies,\\n    Flower as she was, deflowered by him.\\n    Death is my son-in-law, Death is my heir;\\n    My daughter he hath wedded: I will die,\\n    And leave him all; life, living, all is Death's.\\n\\nPARIS\\n\\n    Have I thought long to see this morning's face,\\n    And doth it give me such a sight as this?\\n\\nLADY CAPULET\\n\\n    Accursed, unhappy, wretched, hateful day!\\n    Most miserable hour that e'er time saw\\n    In lasting labour of his pilgrimage!\\n    But one, poor one, one poor and loving child,\\n    But one thing to rejoice and solace in,\\n    And cruel death hath catch'd it from my sight!\\n\\nNurse\\n\\n    O woe! O woful, woful, woful day!\\n    Most lamentable day, most woful day,\\n    That ever, ever, I did yet behold!\\n    O day! O day! O day! O hateful day!\\n    Never was seen so black a day as this:\\n    O woful day, O woful day!\\n\\nPARIS\\n\\n    Beguiled, divorced, wronged, spited, slain!\\n    Most detestable death, by thee beguil'd,\\n    By cruel cruel thee quite overthrown!\\n    O love! O life! not life, but love in death!\\n\\nCAPULET\\n\\n    Despised, distressed, hated, martyr'd, kill'd!\\n    Uncomfortable time, why camest thou now\\n    To murder, murder our solemnity?\\n    O child! O child! my soul, and not my child!\\n    Dead art thou! Alack! my child is dead;\\n    And with my child my joys are buried.\\n\\nFRIAR LAURENCE\\n\\n    Peace, ho, for shame! confusion's cure lives not\\n    In these confusions. Heaven and yourself\\n    Had part in this fair maid; now heaven hath all,\\n    And all the better is it for the maid:\\n    Your part in her you could not keep from death,\\n    But heaven keeps his part in eternal life.\\n    The most you sought was her promotion;\\n    For 'twas your heaven she should be advanced:\\n    And weep ye now, seeing she is advanced\\n    Above the clouds, as high as heaven itself?\\n    O, in this love, you love your child so ill,\\n    That you run mad, seeing that she is well:\\n    She's not well married that lives married long;\\n    But she's best married that dies married young.\\n    Dry up your tears, and stick your rosemary\\n    On this fair corse; and, as the custom is,\\n    In all her best array bear her to church:\\n    For though fond nature bids us an lament,\\n    Yet nature's tears are reason's merriment.\\n\\nCAPULET\\n\\n    All things that we ordained festival,\\n    Turn from their office to black funeral;\\n    Our instruments to melancholy bells,\\n    Our wedding cheer to a sad burial feast,\\n    Our solemn hymns to sullen dirges change,\\n    Our bridal flowers serve for a buried corse,\\n    And all things change them to the contrary.\\n\\nFRIAR LAURENCE\\n\\n    Sir, go you in; and, madam, go with him;\\n    And go, Sir Paris; every one prepare\\n    To follow this fair corse unto her grave:\\n    The heavens do lour upon you for some ill;\\n    Move them no more by crossing their high will.\\n\\n    Exeunt CAPULET, LADY CAPULET, PARIS, and FRIAR LAURENCE\\n\\nFirst Musician\\n\\n    Faith, we may put up our pipes, and be gone.\\n\\nNurse\\n\\n    Honest goodfellows, ah, put up, put up;\\n    For, well you know, this is a pitiful case.\\n\\n    Exit\\n\\nFirst Musician\\n\\n    Ay, by my troth, the case may be amended.\\n\\n    Enter PETER\\n\\nPETER\\n\\n    Musicians, O, musicians, 'Heart's ease, Heart's\\n    ease:' O, an you will have me live, play 'Heart's ease.'\\n\\nFirst Musician\\n\\n    Why 'Heart's ease?'\\n\\nPETER\\n\\n    O, musicians, because my heart itself plays 'My\\n    heart is full of woe:' O, play me some merry dump,\\n    to comfort me.\\n\\nFirst Musician\\n\\n    Not a dump we; 'tis no time to play now.\\n\\nPETER\\n\\n    You will not, then?\\n\\nFirst Musician\\n\\n    No.\\n\\nPETER\\n\\n    I will then give it you soundly.\\n\\nFirst Musician\\n\\n    What will you give us?\\n\\nPETER\\n\\n    No money, on my faith, but the gleek;\\n    I will give you the minstrel.\\n\\nFirst Musician\\n\\n    Then I will give you the serving-creature.\\n\\nPETER\\n\\n    Then will I lay the serving-creature's dagger on\\n    your pate. I will carry no crotchets: I'll re you,\\n    I'll fa you; do you note me?\\n\\nFirst Musician\\n\\n    An you re us and fa us, you note us.\\n\\nSecond Musician\\n\\n    Pray you, put up your dagger, and put out your wit.\\n\\nPETER\\n\\n    Then have at you with my wit! I will dry-beat you\\n    with an iron wit, and put up my iron dagger. Answer\\n    me like men:\\n    'When griping grief the heart doth wound,\\n    And doleful dumps the mind oppress,\\n    Then music with her silver sound'--\\n    why 'silver sound'? why 'music with her silver\\n    sound'? What say you, Simon Catling?\\n\\nMusician\\n\\n    Marry, sir, because silver hath a sweet sound.\\n\\nPETER\\n\\n    Pretty! What say you, Hugh Rebeck?\\n\\nSecond Musician\\n\\n    I say 'silver sound,' because musicians sound for silver.\\n\\nPETER\\n\\n    Pretty too! What say you, James Soundpost?\\n\\nThird Musician\\n\\n    Faith, I know not what to say.\\n\\nPETER\\n\\n    O, I cry you mercy; you are the singer: I will say\\n    for you. It is 'music with her silver sound,'\\n    because musicians have no gold for sounding:\\n    'Then music with her silver sound\\n    With speedy help doth lend redress.'\\n\\n    Exit\\n\\nFirst Musician\\n\\n    What a pestilent knave is this same!\\n\\nSecond Musician\\n\\n    Hang him, Jack! Come, we'll in here; tarry for the\\n    mourners, and stay dinner.\\n\\n    Exeunt\\n\\nACT V\\nSCENE I. Mantua. A street.\\n\\n    Enter ROMEO \\n\\nROMEO\\n\\n    If I may trust the flattering truth of sleep,\\n    My dreams presage some joyful news at hand:\\n    My bosom's lord sits lightly in his throne;\\n    And all this day an unaccustom'd spirit\\n    Lifts me above the ground with cheerful thoughts.\\n    I dreamt my lady came and found me dead--\\n    Strange dream, that gives a dead man leave\\n    to think!--\\n    And breathed such life with kisses in my lips,\\n    That I revived, and was an emperor.\\n    Ah me! how sweet is love itself possess'd,\\n    When but love's shadows are so rich in joy!\\n\\n    Enter BALTHASAR, booted\\n    News from Verona!--How now, Balthasar!\\n    Dost thou not bring me letters from the friar?\\n    How doth my lady? Is my father well?\\n    How fares my Juliet? that I ask again;\\n    For nothing can be ill, if she be well.\\n\\nBALTHASAR\\n\\n    Then she is well, and nothing can be ill:\\n    Her body sleeps in Capel's monument,\\n    And her immortal part with angels lives.\\n    I saw her laid low in her kindred's vault,\\n    And presently took post to tell it you:\\n    O, pardon me for bringing these ill news,\\n    Since you did leave it for my office, sir.\\n\\nROMEO\\n\\n    Is it even so? then I defy you, stars!\\n    Thou know'st my lodging: get me ink and paper,\\n    And hire post-horses; I will hence to-night.\\n\\nBALTHASAR\\n\\n    I do beseech you, sir, have patience:\\n    Your looks are pale and wild, and do import\\n    Some misadventure.\\n\\nROMEO\\n\\n    Tush, thou art deceived:\\n    Leave me, and do the thing I bid thee do.\\n    Hast thou no letters to me from the friar?\\n\\nBALTHASAR\\n\\n    No, my good lord.\\n\\nROMEO\\n\\n    No matter: get thee gone,\\n    And hire those horses; I'll be with thee straight.\\n\\n    Exit BALTHASAR\\n    Well, Juliet, I will lie with thee to-night.\\n    Let's see for means: O mischief, thou art swift\\n    To enter in the thoughts of desperate men!\\n    I do remember an apothecary,--\\n    And hereabouts he dwells,--which late I noted\\n    In tatter'd weeds, with overwhelming brows,\\n    Culling of simples; meagre were his looks,\\n    Sharp misery had worn him to the bones:\\n    And in his needy shop a tortoise hung,\\n    An alligator stuff'd, and other skins\\n    Of ill-shaped fishes; and about his shelves\\n    A beggarly account of empty boxes,\\n    Green earthen pots, bladders and musty seeds,\\n    Remnants of packthread and old cakes of roses,\\n    Were thinly scatter'd, to make up a show.\\n    Noting this penury, to myself I said\\n    'An if a man did need a poison now,\\n    Whose sale is present death in Mantua,\\n    Here lives a caitiff wretch would sell it him.'\\n    O, this same thought did but forerun my need;\\n    And this same needy man must sell it me.\\n    As I remember, this should be the house.\\n    Being holiday, the beggar's shop is shut.\\n    What, ho! apothecary!\\n\\n    Enter Apothecary\\n\\nApothecary\\n\\n    Who calls so loud?\\n\\nROMEO\\n\\n    Come hither, man. I see that thou art poor:\\n    Hold, there is forty ducats: let me have\\n    A dram of poison, such soon-speeding gear\\n    As will disperse itself through all the veins\\n    That the life-weary taker may fall dead\\n    And that the trunk may be discharged of breath\\n    As violently as hasty powder fired\\n    Doth hurry from the fatal cannon's womb.\\n\\nApothecary\\n\\n    Such mortal drugs I have; but Mantua's law\\n    Is death to any he that utters them.\\n\\nROMEO\\n\\n    Art thou so bare and full of wretchedness,\\n    And fear'st to die? famine is in thy cheeks,\\n    Need and oppression starveth in thine eyes,\\n    Contempt and beggary hangs upon thy back;\\n    The world is not thy friend nor the world's law;\\n    The world affords no law to make thee rich;\\n    Then be not poor, but break it, and take this.\\n\\nApothecary\\n\\n    My poverty, but not my will, consents.\\n\\nROMEO\\n\\n    I pay thy poverty, and not thy will.\\n\\nApothecary\\n\\n    Put this in any liquid thing you will,\\n    And drink it off; and, if you had the strength\\n    Of twenty men, it would dispatch you straight.\\n\\nROMEO\\n\\n    There is thy gold, worse poison to men's souls,\\n    Doing more murders in this loathsome world,\\n    Than these poor compounds that thou mayst not sell.\\n    I sell thee poison; thou hast sold me none.\\n    Farewell: buy food, and get thyself in flesh.\\n    Come, cordial and not poison, go with me\\n    To Juliet's grave; for there must I use thee.\\n\\n    Exeunt\\n\\nSCENE II. Friar Laurence's cell.\\n\\n    Enter FRIAR JOHN \\n\\nFRIAR JOHN\\n\\n    Holy Franciscan friar! brother, ho!\\n\\n    Enter FRIAR LAURENCE\\n\\nFRIAR LAURENCE\\n\\n    This same should be the voice of Friar John.\\n    Welcome from Mantua: what says Romeo?\\n    Or, if his mind be writ, give me his letter.\\n\\nFRIAR JOHN\\n\\n    Going to find a bare-foot brother out\\n    One of our order, to associate me,\\n    Here in this city visiting the sick,\\n    And finding him, the searchers of the town,\\n    Suspecting that we both were in a house\\n    Where the infectious pestilence did reign,\\n    Seal'd up the doors, and would not let us forth;\\n    So that my speed to Mantua there was stay'd.\\n\\nFRIAR LAURENCE\\n\\n    Who bare my letter, then, to Romeo?\\n\\nFRIAR JOHN\\n\\n    I could not send it,--here it is again,--\\n    Nor get a messenger to bring it thee,\\n    So fearful were they of infection.\\n\\nFRIAR LAURENCE\\n\\n    Unhappy fortune! by my brotherhood,\\n    The letter was not nice but full of charge\\n    Of dear import, and the neglecting it\\n    May do much danger. Friar John, go hence;\\n    Get me an iron crow, and bring it straight\\n    Unto my cell.\\n\\nFRIAR JOHN\\n\\n    Brother, I'll go and bring it thee.\\n\\n    Exit\\n\\nFRIAR LAURENCE\\n\\n    Now must I to the monument alone;\\n    Within three hours will fair Juliet wake:\\n    She will beshrew me much that Romeo\\n    Hath had no notice of these accidents;\\n    But I will write again to Mantua,\\n    And keep her at my cell till Romeo come;\\n    Poor living corse, closed in a dead man's tomb!\\n\\n    Exit\\n\\nSCENE III. A churchyard; in it a tomb belonging to the Capulets.\\n\\n    Enter PARIS, and his Page bearing flowers and a torch \\n\\nPARIS\\n\\n    Give me thy torch, boy: hence, and stand aloof:\\n    Yet put it out, for I would not be seen.\\n    Under yond yew-trees lay thee all along,\\n    Holding thine ear close to the hollow ground;\\n    So shall no foot upon the churchyard tread,\\n    Being loose, unfirm, with digging up of graves,\\n    But thou shalt hear it: whistle then to me,\\n    As signal that thou hear'st something approach.\\n    Give me those flowers. Do as I bid thee, go.\\n\\nPAGE\\n\\n    [Aside] I am almost afraid to stand alone\\n    Here in the churchyard; yet I will adventure.\\n\\n    Retires\\n\\nPARIS\\n\\n    Sweet flower, with flowers thy bridal bed I strew,--\\n    O woe! thy canopy is dust and stones;--\\n    Which with sweet water nightly I will dew,\\n    Or, wanting that, with tears distill'd by moans:\\n    The obsequies that I for thee will keep\\n    Nightly shall be to strew thy grave and weep.\\n\\n    The Page whistles\\n    The boy gives warning something doth approach.\\n    What cursed foot wanders this way to-night,\\n    To cross my obsequies and true love's rite?\\n    What with a torch! muffle me, night, awhile.\\n\\n    Retires\\n\\n    Enter ROMEO and BALTHASAR, with a torch, mattock, & c\\n\\nROMEO\\n\\n    Give me that mattock and the wrenching iron.\\n    Hold, take this letter; early in the morning\\n    See thou deliver it to my lord and father.\\n    Give me the light: upon thy life, I charge thee,\\n    Whate'er thou hear'st or seest, stand all aloof,\\n    And do not interrupt me in my course.\\n    Why I descend into this bed of death,\\n    Is partly to behold my lady's face;\\n    But chiefly to take thence from her dead finger\\n    A precious ring, a ring that I must use\\n    In dear employment: therefore hence, be gone:\\n    But if thou, jealous, dost return to pry\\n    In what I further shall intend to do,\\n    By heaven, I will tear thee joint by joint\\n    And strew this hungry churchyard with thy limbs:\\n    The time and my intents are savage-wild,\\n    More fierce and more inexorable far\\n    Than empty tigers or the roaring sea.\\n\\nBALTHASAR\\n\\n    I will be gone, sir, and not trouble you.\\n\\nROMEO\\n\\n    So shalt thou show me friendship. Take thou that:\\n    Live, and be prosperous: and farewell, good fellow.\\n\\nBALTHASAR\\n\\n    [Aside] For all this same, I'll hide me hereabout:\\n    His looks I fear, and his intents I doubt.\\n\\n    Retires\\n\\nROMEO\\n\\n    Thou detestable maw, thou womb of death,\\n    Gorged with the dearest morsel of the earth,\\n    Thus I enforce thy rotten jaws to open,\\n    And, in despite, I'll cram thee with more food!\\n\\n    Opens the tomb\\n\\nPARIS\\n\\n    This is that banish'd haughty Montague,\\n    That murder'd my love's cousin, with which grief,\\n    It is supposed, the fair creature died;\\n    And here is come to do some villanous shame\\n    To the dead bodies: I will apprehend him.\\n\\n    Comes forward\\n    Stop thy unhallow'd toil, vile Montague!\\n    Can vengeance be pursued further than death?\\n    Condemned villain, I do apprehend thee:\\n    Obey, and go with me; for thou must die.\\n\\nROMEO\\n\\n    I must indeed; and therefore came I hither.\\n    Good gentle youth, tempt not a desperate man;\\n    Fly hence, and leave me: think upon these gone;\\n    Let them affright thee. I beseech thee, youth,\\n    Put not another sin upon my head,\\n    By urging me to fury: O, be gone!\\n    By heaven, I love thee better than myself;\\n    For I come hither arm'd against myself:\\n    Stay not, be gone; live, and hereafter say,\\n    A madman's mercy bade thee run away.\\n\\nPARIS\\n\\n    I do defy thy conjurations,\\n    And apprehend thee for a felon here.\\n\\nROMEO\\n\\n    Wilt thou provoke me? then have at thee, boy!\\n\\n    They fight\\n\\nPAGE\\n\\n    O Lord, they fight! I will go call the watch.\\n\\n    Exit\\n\\nPARIS\\n\\n    O, I am slain!\\n\\n    Falls\\n    If thou be merciful,\\n    Open the tomb, lay me with Juliet.\\n\\n    Dies\\n\\nROMEO\\n\\n    In faith, I will. Let me peruse this face.\\n    Mercutio's kinsman, noble County Paris!\\n    What said my man, when my betossed soul\\n    Did not attend him as we rode? I think\\n    He told me Paris should have married Juliet:\\n    Said he not so? or did I dream it so?\\n    Or am I mad, hearing him talk of Juliet,\\n    To think it was so? O, give me thy hand,\\n    One writ with me in sour misfortune's book!\\n    I'll bury thee in a triumphant grave;\\n    A grave? O no! a lantern, slaughter'd youth,\\n    For here lies Juliet, and her beauty makes\\n    This vault a feasting presence full of light.\\n    Death, lie thou there, by a dead man interr'd.\\n\\n    Laying PARIS in the tomb\\n    How oft when men are at the point of death\\n    Have they been merry! which their keepers call\\n    A lightning before death: O, how may I\\n    Call this a lightning? O my love! my wife!\\n    Death, that hath suck'd the honey of thy breath,\\n    Hath had no power yet upon thy beauty:\\n    Thou art not conquer'd; beauty's ensign yet\\n    Is crimson in thy lips and in thy cheeks,\\n    And death's pale flag is not advanced there.\\n    Tybalt, liest thou there in thy bloody sheet?\\n    O, what more favour can I do to thee,\\n    Than with that hand that cut thy youth in twain\\n    To sunder his that was thine enemy?\\n    Forgive me, cousin! Ah, dear Juliet,\\n    Why art thou yet so fair? shall I believe\\n    That unsubstantial death is amorous,\\n    And that the lean abhorred monster keeps\\n    Thee here in dark to be his paramour?\\n    For fear of that, I still will stay with thee;\\n    And never from this palace of dim night\\n    Depart again: here, here will I remain\\n    With worms that are thy chamber-maids; O, here\\n    Will I set up my everlasting rest,\\n    And shake the yoke of inauspicious stars\\n    From this world-wearied flesh. Eyes, look your last!\\n    Arms, take your last embrace! and, lips, O you\\n    The doors of breath, seal with a righteous kiss\\n    A dateless bargain to engrossing death!\\n    Come, bitter conduct, come, unsavoury guide!\\n    Thou desperate pilot, now at once run on\\n    The dashing rocks thy sea-sick weary bark!\\n    Here's to my love!\\n\\n    Drinks\\n    O true apothecary!\\n    Thy drugs are quick. Thus with a kiss I die.\\n\\n    Dies\\n\\n    Enter, at the other end of the churchyard, FRIAR LAURENCE, with a lantern, crow, and spade\\n\\nFRIAR LAURENCE\\n\\n    Saint Francis be my speed! how oft to-night\\n    Have my old feet stumbled at graves! Who's there?\\n\\nBALTHASAR\\n\\n    Here's one, a friend, and one that knows you well.\\n\\nFRIAR LAURENCE\\n\\n    Bliss be upon you! Tell me, good my friend,\\n    What torch is yond, that vainly lends his light\\n    To grubs and eyeless skulls? as I discern,\\n    It burneth in the Capel's monument.\\n\\nBALTHASAR\\n\\n    It doth so, holy sir; and there's my master,\\n    One that you love.\\n\\nFRIAR LAURENCE\\n\\n    Who is it?\\n\\nBALTHASAR\\n\\n    Romeo.\\n\\nFRIAR LAURENCE\\n\\n    How long hath he been there?\\n\\nBALTHASAR\\n\\n    Full half an hour.\\n\\nFRIAR LAURENCE\\n\\n    Go with me to the vault.\\n\\nBALTHASAR\\n\\n    I dare not, sir\\n    My master knows not but I am gone hence;\\n    And fearfully did menace me with death,\\n    If I did stay to look on his intents.\\n\\nFRIAR LAURENCE\\n\\n    Stay, then; I'll go alone. Fear comes upon me:\\n    O, much I fear some ill unlucky thing.\\n\\nBALTHASAR\\n\\n    As I did sleep under this yew-tree here,\\n    I dreamt my master and another fought,\\n    And that my master slew him.\\n\\nFRIAR LAURENCE\\n\\n    Romeo!\\n\\n    Advances\\n    Alack, alack, what blood is this, which stains\\n    The stony entrance of this sepulchre?\\n    What mean these masterless and gory swords\\n    To lie discolour'd by this place of peace?\\n\\n    Enters the tomb\\n    Romeo! O, pale! Who else? what, Paris too?\\n    And steep'd in blood? Ah, what an unkind hour\\n    Is guilty of this lamentable chance!\\n    The lady stirs.\\n\\n    JULIET wakes\\n\\nJULIET\\n\\n    O comfortable friar! where is my lord?\\n    I do remember well where I should be,\\n    And there I am. Where is my Romeo?\\n\\n    Noise within\\n\\nFRIAR LAURENCE\\n\\n    I hear some noise. Lady, come from that nest\\n    Of death, contagion, and unnatural sleep:\\n    A greater power than we can contradict\\n    Hath thwarted our intents. Come, come away.\\n    Thy husband in thy bosom there lies dead;\\n    And Paris too. Come, I'll dispose of thee\\n    Among a sisterhood of holy nuns:\\n    Stay not to question, for the watch is coming;\\n    Come, go, good Juliet,\\n\\n    Noise again\\n    I dare no longer stay.\\n\\nJULIET\\n\\n    Go, get thee hence, for I will not away.\\n\\n    Exit FRIAR LAURENCE\\n    What's here? a cup, closed in my true love's hand?\\n    Poison, I see, hath been his timeless end:\\n    O churl! drunk all, and left no friendly drop\\n    To help me after? I will kiss thy lips;\\n    Haply some poison yet doth hang on them,\\n    To make die with a restorative.\\n\\n    Kisses him\\n    Thy lips are warm.\\n\\nFirst Watchman\\n\\n    [Within] Lead, boy: which way?\\n\\nJULIET\\n\\n    Yea, noise? then I'll be brief. O happy dagger!\\n\\n    Snatching ROMEO's dagger\\n    This is thy sheath;\\n\\n    Stabs herself\\n    there rust, and let me die.\\n\\n    Falls on ROMEO's body, and dies\\n\\n    Enter Watch, with the Page of PARIS\\n\\nPAGE\\n\\n    This is the place; there, where the torch doth burn.\\n\\nFirst Watchman\\n\\n    The ground is bloody; search about the churchyard:\\n    Go, some of you, whoe'er you find attach.\\n    Pitiful sight! here lies the county slain,\\n    And Juliet bleeding, warm, and newly dead,\\n    Who here hath lain these two days buried.\\n    Go, tell the prince: run to the Capulets:\\n    Raise up the Montagues: some others search:\\n    We see the ground whereon these woes do lie;\\n    But the true ground of all these piteous woes\\n    We cannot without circumstance descry.\\n\\n    Re-enter some of the Watch, with BALTHASAR\\n\\nSecond Watchman\\n\\n    Here's Romeo's man; we found him in the churchyard.\\n\\nFirst Watchman\\n\\n    Hold him in safety, till the prince come hither.\\n\\n    Re-enter others of the Watch, with FRIAR LAURENCE\\n\\nThird Watchman\\n\\n    Here is a friar, that trembles, sighs and weeps:\\n    We took this mattock and this spade from him,\\n    As he was coming from this churchyard side.\\n\\nFirst Watchman\\n\\n    A great suspicion: stay the friar too.\\n\\n    Enter the PRINCE and Attendants\\n\\nPRINCE\\n\\n    What misadventure is so early up,\\n    That calls our person from our morning's rest?\\n\\n    Enter CAPULET, LADY CAPULET, and others\\n\\nCAPULET\\n\\n    What should it be, that they so shriek abroad?\\n\\nLADY CAPULET\\n\\n    The people in the street cry Romeo,\\n    Some Juliet, and some Paris; and all run,\\n    With open outcry toward our monument.\\n\\nPRINCE\\n\\n    What fear is this which startles in our ears?\\n\\nFirst Watchman\\n\\n    Sovereign, here lies the County Paris slain;\\n    And Romeo dead; and Juliet, dead before,\\n    Warm and new kill'd.\\n\\nPRINCE\\n\\n    Search, seek, and know how this foul murder comes.\\n\\nFirst Watchman\\n\\n    Here is a friar, and slaughter'd Romeo's man;\\n    With instruments upon them, fit to open\\n    These dead men's tombs.\\n\\nCAPULET\\n\\n    O heavens! O wife, look how our daughter bleeds!\\n    This dagger hath mista'en--for, lo, his house\\n    Is empty on the back of Montague,--\\n    And it mis-sheathed in my daughter's bosom!\\n\\nLADY CAPULET\\n\\n    O me! this sight of death is as a bell,\\n    That warns my old age to a sepulchre.\\n\\n    Enter MONTAGUE and others\\n\\nPRINCE\\n\\n    Come, Montague; for thou art early up,\\n    To see thy son and heir more early down.\\n\\nMONTAGUE\\n\\n    Alas, my liege, my wife is dead to-night;\\n    Grief of my son's exile hath stopp'd her breath:\\n    What further woe conspires against mine age?\\n\\nPRINCE\\n\\n    Look, and thou shalt see.\\n\\nMONTAGUE\\n\\n    O thou untaught! what manners is in this?\\n    To press before thy father to a grave?\\n\\nPRINCE\\n\\n    Seal up the mouth of outrage for a while,\\n    Till we can clear these ambiguities,\\n    And know their spring, their head, their\\n    true descent;\\n    And then will I be general of your woes,\\n    And lead you even to death: meantime forbear,\\n    And let mischance be slave to patience.\\n    Bring forth the parties of suspicion.\\n\\nFRIAR LAURENCE\\n\\n    I am the greatest, able to do least,\\n    Yet most suspected, as the time and place\\n    Doth make against me of this direful murder;\\n    And here I stand, both to impeach and purge\\n    Myself condemned and myself excused.\\n\\nPRINCE\\n\\n    Then say at once what thou dost know in this.\\n\\nFRIAR LAURENCE\\n\\n    I will be brief, for my short date of breath\\n    Is not so long as is a tedious tale.\\n    Romeo, there dead, was husband to that Juliet;\\n    And she, there dead, that Romeo's faithful wife:\\n    I married them; and their stol'n marriage-day\\n    Was Tybalt's dooms-day, whose untimely death\\n    Banish'd the new-made bridegroom from the city,\\n    For whom, and not for Tybalt, Juliet pined.\\n    You, to remove that siege of grief from her,\\n    Betroth'd and would have married her perforce\\n    To County Paris: then comes she to me,\\n    And, with wild looks, bid me devise some mean\\n    To rid her from this second marriage,\\n    Or in my cell there would she kill herself.\\n    Then gave I her, so tutor'd by my art,\\n    A sleeping potion; which so took effect\\n    As I intended, for it wrought on her\\n    The form of death: meantime I writ to Romeo,\\n    That he should hither come as this dire night,\\n    To help to take her from her borrow'd grave,\\n    Being the time the potion's force should cease.\\n    But he which bore my letter, Friar John,\\n    Was stay'd by accident, and yesternight\\n    Return'd my letter back. Then all alone\\n    At the prefixed hour of her waking,\\n    Came I to take her from her kindred's vault;\\n    Meaning to keep her closely at my cell,\\n    Till I conveniently could send to Romeo:\\n    But when I came, some minute ere the time\\n    Of her awaking, here untimely lay\\n    The noble Paris and true Romeo dead.\\n    She wakes; and I entreated her come forth,\\n    And bear this work of heaven with patience:\\n    But then a noise did scare me from the tomb;\\n    And she, too desperate, would not go with me,\\n    But, as it seems, did violence on herself.\\n    All this I know; and to the marriage\\n    Her nurse is privy: and, if aught in this\\n    Miscarried by my fault, let my old life\\n    Be sacrificed, some hour before his time,\\n    Unto the rigour of severest law.\\n\\nPRINCE\\n\\n    We still have known thee for a holy man.\\n    Where's Romeo's man? what can he say in this?\\n\\nBALTHASAR\\n\\n    I brought my master news of Juliet's death;\\n    And then in post he came from Mantua\\n    To this same place, to this same monument.\\n    This letter he early bid me give his father,\\n    And threatened me with death, going in the vault,\\n    I departed not and left him there.\\n\\nPRINCE\\n\\n    Give me the letter; I will look on it.\\n    Where is the county's page, that raised the watch?\\n    Sirrah, what made your master in this place?\\n\\nPAGE\\n\\n    He came with flowers to strew his lady's grave;\\n    And bid me stand aloof, and so I did:\\n    Anon comes one with light to ope the tomb;\\n    And by and by my master drew on him;\\n    And then I ran away to call the watch.\\n\\nPRINCE\\n\\n    This letter doth make good the friar's words,\\n    Their course of love, the tidings of her death:\\n    And here he writes that he did buy a poison\\n    Of a poor 'pothecary, and therewithal\\n    Came to this vault to die, and lie with Juliet.\\n    Where be these enemies? Capulet! Montague!\\n    See, what a scourge is laid upon your hate,\\n    That heaven finds means to kill your joys with love.\\n    And I for winking at your discords too\\n    Have lost a brace of kinsmen: all are punish'd.\\n\\nCAPULET\\n\\n    O brother Montague, give me thy hand:\\n    This is my daughter's jointure, for no more\\n    Can I demand.\\n\\nMONTAGUE\\n\\n    But I can give thee more:\\n    For I will raise her statue in pure gold;\\n    That while Verona by that name is known,\\n    There shall no figure at such rate be set\\n    As that of true and faithful Juliet.\\n\\nCAPULET\\n\\n    As rich shall Romeo's by his lady's lie;\\n    Poor sacrifices of our enmity!\\n\\nPRINCE\\n\\n    A glooming peace this morning with it brings;\\n    The sun, for sorrow, will not show his head:\\n    Go hence, to have more talk of these sad things;\\n    Some shall be pardon'd, and some punished:\\n    For never was a story of more woe\\n    Than this of Juliet and her Romeo.\\n\\n    Exeunt\""
      ]
     },
     "execution_count": 18,
     "metadata": {},
     "output_type": "execute_result"
    }
   ],
   "source": [
    "x"
   ]
  },
  {
   "cell_type": "code",
   "execution_count": 21,
   "id": "7df9bc16-79fa-4cdf-8352-41be5a6980d4",
   "metadata": {},
   "outputs": [],
   "source": [
    "acts = x.split('ACT')"
   ]
  },
  {
   "cell_type": "code",
   "execution_count": 22,
   "id": "b1a48744-8407-47d0-8725-1bef51ae31b6",
   "metadata": {},
   "outputs": [],
   "source": [
    "characters = ['ESCALUS',\n",
    "'MERCUTIO', \n",
    "'PARIS', \n",
    "'MONTAGUE', \n",
    "'LADY MONTAGUE',\n",
    "'ROMEO', \n",
    "'BENVOLIO',\n",
    "'ABRAM',\n",
    "'ALTHASAR',\n",
    "'CAPULET',\n",
    "'LADY CAPULET', \n",
    "'JULIET', \n",
    "'TYBALT', \n",
    "'CAPULET’S COUSIN',\n",
    "'NURSE',\n",
    "'PETER', \n",
    "'SAMPSON', \n",
    "'GREGORY', \n",
    "'FRIAR LAWRENCE',\n",
    "'FRIAR JOHN',\n",
    "'CHORUS'\n",
    "]"
   ]
  },
  {
   "cell_type": "code",
   "execution_count": 23,
   "id": "70537550-59bd-49cb-95bd-5cc5d3bca2cc",
   "metadata": {},
   "outputs": [
    {
     "data": {
      "text/plain": [
       "6"
      ]
     },
     "execution_count": 23,
     "metadata": {},
     "output_type": "execute_result"
    }
   ],
   "source": [
    "len(acts)"
   ]
  },
  {
   "cell_type": "markdown",
   "id": "76b8ddc4-e4c1-4f7a-ae26-0884e3d6b85e",
   "metadata": {},
   "source": [
    "Nodes of the graph will be the characters, and the edges will be the interactions between characters. "
   ]
  },
  {
   "cell_type": "code",
   "execution_count": 24,
   "id": "f9846370-69f6-42df-a432-380643f9f038",
   "metadata": {},
   "outputs": [],
   "source": [
    "charnum = {}\n",
    "\n",
    "connections = {}\n",
    "for i in range(len(characters)-1):\n",
    "    for j in range(i+1,len(characters)):\n",
    "        connections[(characters[i],characters[j])] = 0\n",
    "\n",
    "for k in characters:\n",
    "    charnum[k] = 0\n",
    "\n",
    "for i in acts:\n",
    "    for j in i.split('SCENE')[1:]:\n",
    "        scenechars = []\n",
    "        for k in characters:\n",
    "            if j.find(k) != -1:\n",
    "                scenechars.append(k)\n",
    "                charnum[k] += 1\n",
    "        for a in range(len(scenechars)-1):\n",
    "            for b in range(a+1,len(scenechars)):\n",
    "                connections[(scenechars[a],scenechars[b])] += 1"
   ]
  },
  {
   "cell_type": "code",
   "execution_count": 25,
   "id": "a26a1146-375e-48ab-a654-1da3e849296a",
   "metadata": {
    "collapsed": true,
    "jupyter": {
     "outputs_hidden": true
    },
    "tags": []
   },
   "outputs": [
    {
     "data": {
      "text/plain": [
       "{'ESCALUS': 0,\n",
       " 'MERCUTIO': 4,\n",
       " 'PARIS': 5,\n",
       " 'MONTAGUE': 3,\n",
       " 'LADY MONTAGUE': 1,\n",
       " 'ROMEO': 14,\n",
       " 'BENVOLIO': 7,\n",
       " 'ABRAM': 0,\n",
       " 'ALTHASAR': 3,\n",
       " 'CAPULET': 12,\n",
       " 'LADY CAPULET': 10,\n",
       " 'JULIET': 11,\n",
       " 'TYBALT': 3,\n",
       " 'CAPULET’S COUSIN': 0,\n",
       " 'NURSE': 1,\n",
       " 'PETER': 3,\n",
       " 'SAMPSON': 1,\n",
       " 'GREGORY': 1,\n",
       " 'FRIAR LAWRENCE': 0,\n",
       " 'FRIAR JOHN': 1,\n",
       " 'CHORUS': 0}"
      ]
     },
     "execution_count": 25,
     "metadata": {},
     "output_type": "execute_result"
    }
   ],
   "source": [
    "charnum"
   ]
  },
  {
   "cell_type": "code",
   "execution_count": 26,
   "id": "1c8eca9b-8b15-4fee-8ef4-0c855ebd21be",
   "metadata": {
    "collapsed": true,
    "jupyter": {
     "outputs_hidden": true
    },
    "tags": []
   },
   "outputs": [
    {
     "data": {
      "text/plain": [
       "{('ESCALUS', 'MERCUTIO'): 0,\n",
       " ('ESCALUS', 'PARIS'): 0,\n",
       " ('ESCALUS', 'MONTAGUE'): 0,\n",
       " ('ESCALUS', 'LADY MONTAGUE'): 0,\n",
       " ('ESCALUS', 'ROMEO'): 0,\n",
       " ('ESCALUS', 'BENVOLIO'): 0,\n",
       " ('ESCALUS', 'ABRAM'): 0,\n",
       " ('ESCALUS', 'ALTHASAR'): 0,\n",
       " ('ESCALUS', 'CAPULET'): 0,\n",
       " ('ESCALUS', 'LADY CAPULET'): 0,\n",
       " ('ESCALUS', 'JULIET'): 0,\n",
       " ('ESCALUS', 'TYBALT'): 0,\n",
       " ('ESCALUS', 'CAPULET’S COUSIN'): 0,\n",
       " ('ESCALUS', 'NURSE'): 0,\n",
       " ('ESCALUS', 'PETER'): 0,\n",
       " ('ESCALUS', 'SAMPSON'): 0,\n",
       " ('ESCALUS', 'GREGORY'): 0,\n",
       " ('ESCALUS', 'FRIAR LAWRENCE'): 0,\n",
       " ('ESCALUS', 'FRIAR JOHN'): 0,\n",
       " ('ESCALUS', 'CHORUS'): 0,\n",
       " ('MERCUTIO', 'PARIS'): 0,\n",
       " ('MERCUTIO', 'MONTAGUE'): 1,\n",
       " ('MERCUTIO', 'LADY MONTAGUE'): 0,\n",
       " ('MERCUTIO', 'ROMEO'): 4,\n",
       " ('MERCUTIO', 'BENVOLIO'): 4,\n",
       " ('MERCUTIO', 'ABRAM'): 0,\n",
       " ('MERCUTIO', 'ALTHASAR'): 0,\n",
       " ('MERCUTIO', 'CAPULET'): 1,\n",
       " ('MERCUTIO', 'LADY CAPULET'): 1,\n",
       " ('MERCUTIO', 'JULIET'): 0,\n",
       " ('MERCUTIO', 'TYBALT'): 1,\n",
       " ('MERCUTIO', 'CAPULET’S COUSIN'): 0,\n",
       " ('MERCUTIO', 'NURSE'): 1,\n",
       " ('MERCUTIO', 'PETER'): 1,\n",
       " ('MERCUTIO', 'SAMPSON'): 0,\n",
       " ('MERCUTIO', 'GREGORY'): 0,\n",
       " ('MERCUTIO', 'FRIAR LAWRENCE'): 0,\n",
       " ('MERCUTIO', 'FRIAR JOHN'): 0,\n",
       " ('MERCUTIO', 'CHORUS'): 0,\n",
       " ('PARIS', 'MONTAGUE'): 1,\n",
       " ('PARIS', 'LADY MONTAGUE'): 0,\n",
       " ('PARIS', 'ROMEO'): 2,\n",
       " ('PARIS', 'BENVOLIO'): 1,\n",
       " ('PARIS', 'ABRAM'): 0,\n",
       " ('PARIS', 'ALTHASAR'): 1,\n",
       " ('PARIS', 'CAPULET'): 4,\n",
       " ('PARIS', 'LADY CAPULET'): 3,\n",
       " ('PARIS', 'JULIET'): 2,\n",
       " ('PARIS', 'TYBALT'): 0,\n",
       " ('PARIS', 'CAPULET’S COUSIN'): 0,\n",
       " ('PARIS', 'NURSE'): 0,\n",
       " ('PARIS', 'PETER'): 1,\n",
       " ('PARIS', 'SAMPSON'): 0,\n",
       " ('PARIS', 'GREGORY'): 0,\n",
       " ('PARIS', 'FRIAR LAWRENCE'): 0,\n",
       " ('PARIS', 'FRIAR JOHN'): 0,\n",
       " ('PARIS', 'CHORUS'): 0,\n",
       " ('MONTAGUE', 'LADY MONTAGUE'): 1,\n",
       " ('MONTAGUE', 'ROMEO'): 3,\n",
       " ('MONTAGUE', 'BENVOLIO'): 2,\n",
       " ('MONTAGUE', 'ABRAM'): 0,\n",
       " ('MONTAGUE', 'ALTHASAR'): 2,\n",
       " ('MONTAGUE', 'CAPULET'): 3,\n",
       " ('MONTAGUE', 'LADY CAPULET'): 3,\n",
       " ('MONTAGUE', 'JULIET'): 1,\n",
       " ('MONTAGUE', 'TYBALT'): 2,\n",
       " ('MONTAGUE', 'CAPULET’S COUSIN'): 0,\n",
       " ('MONTAGUE', 'NURSE'): 0,\n",
       " ('MONTAGUE', 'PETER'): 0,\n",
       " ('MONTAGUE', 'SAMPSON'): 1,\n",
       " ('MONTAGUE', 'GREGORY'): 1,\n",
       " ('MONTAGUE', 'FRIAR LAWRENCE'): 0,\n",
       " ('MONTAGUE', 'FRIAR JOHN'): 0,\n",
       " ('MONTAGUE', 'CHORUS'): 0,\n",
       " ('LADY MONTAGUE', 'ROMEO'): 1,\n",
       " ('LADY MONTAGUE', 'BENVOLIO'): 1,\n",
       " ('LADY MONTAGUE', 'ABRAM'): 0,\n",
       " ('LADY MONTAGUE', 'ALTHASAR'): 1,\n",
       " ('LADY MONTAGUE', 'CAPULET'): 1,\n",
       " ('LADY MONTAGUE', 'LADY CAPULET'): 1,\n",
       " ('LADY MONTAGUE', 'JULIET'): 0,\n",
       " ('LADY MONTAGUE', 'TYBALT'): 1,\n",
       " ('LADY MONTAGUE', 'CAPULET’S COUSIN'): 0,\n",
       " ('LADY MONTAGUE', 'NURSE'): 0,\n",
       " ('LADY MONTAGUE', 'PETER'): 0,\n",
       " ('LADY MONTAGUE', 'SAMPSON'): 1,\n",
       " ('LADY MONTAGUE', 'GREGORY'): 1,\n",
       " ('LADY MONTAGUE', 'FRIAR LAWRENCE'): 0,\n",
       " ('LADY MONTAGUE', 'FRIAR JOHN'): 0,\n",
       " ('LADY MONTAGUE', 'CHORUS'): 0,\n",
       " ('ROMEO', 'BENVOLIO'): 7,\n",
       " ('ROMEO', 'ABRAM'): 0,\n",
       " ('ROMEO', 'ALTHASAR'): 3,\n",
       " ('ROMEO', 'CAPULET'): 6,\n",
       " ('ROMEO', 'LADY CAPULET'): 4,\n",
       " ('ROMEO', 'JULIET'): 5,\n",
       " ('ROMEO', 'TYBALT'): 3,\n",
       " ('ROMEO', 'CAPULET’S COUSIN'): 0,\n",
       " ('ROMEO', 'NURSE'): 1,\n",
       " ('ROMEO', 'PETER'): 1,\n",
       " ('ROMEO', 'SAMPSON'): 1,\n",
       " ('ROMEO', 'GREGORY'): 1,\n",
       " ('ROMEO', 'FRIAR LAWRENCE'): 0,\n",
       " ('ROMEO', 'FRIAR JOHN'): 0,\n",
       " ('ROMEO', 'CHORUS'): 0,\n",
       " ('BENVOLIO', 'ABRAM'): 0,\n",
       " ('BENVOLIO', 'ALTHASAR'): 1,\n",
       " ('BENVOLIO', 'CAPULET'): 4,\n",
       " ('BENVOLIO', 'LADY CAPULET'): 2,\n",
       " ('BENVOLIO', 'JULIET'): 1,\n",
       " ('BENVOLIO', 'TYBALT'): 3,\n",
       " ('BENVOLIO', 'CAPULET’S COUSIN'): 0,\n",
       " ('BENVOLIO', 'NURSE'): 1,\n",
       " ('BENVOLIO', 'PETER'): 1,\n",
       " ('BENVOLIO', 'SAMPSON'): 1,\n",
       " ('BENVOLIO', 'GREGORY'): 1,\n",
       " ('BENVOLIO', 'FRIAR LAWRENCE'): 0,\n",
       " ('BENVOLIO', 'FRIAR JOHN'): 0,\n",
       " ('BENVOLIO', 'CHORUS'): 0,\n",
       " ('ABRAM', 'ALTHASAR'): 0,\n",
       " ('ABRAM', 'CAPULET'): 0,\n",
       " ('ABRAM', 'LADY CAPULET'): 0,\n",
       " ('ABRAM', 'JULIET'): 0,\n",
       " ('ABRAM', 'TYBALT'): 0,\n",
       " ('ABRAM', 'CAPULET’S COUSIN'): 0,\n",
       " ('ABRAM', 'NURSE'): 0,\n",
       " ('ABRAM', 'PETER'): 0,\n",
       " ('ABRAM', 'SAMPSON'): 0,\n",
       " ('ABRAM', 'GREGORY'): 0,\n",
       " ('ABRAM', 'FRIAR LAWRENCE'): 0,\n",
       " ('ABRAM', 'FRIAR JOHN'): 0,\n",
       " ('ABRAM', 'CHORUS'): 0,\n",
       " ('ALTHASAR', 'CAPULET'): 2,\n",
       " ('ALTHASAR', 'LADY CAPULET'): 2,\n",
       " ('ALTHASAR', 'JULIET'): 1,\n",
       " ('ALTHASAR', 'TYBALT'): 1,\n",
       " ('ALTHASAR', 'CAPULET’S COUSIN'): 0,\n",
       " ('ALTHASAR', 'NURSE'): 0,\n",
       " ('ALTHASAR', 'PETER'): 0,\n",
       " ('ALTHASAR', 'SAMPSON'): 1,\n",
       " ('ALTHASAR', 'GREGORY'): 1,\n",
       " ('ALTHASAR', 'FRIAR LAWRENCE'): 0,\n",
       " ('ALTHASAR', 'FRIAR JOHN'): 0,\n",
       " ('ALTHASAR', 'CHORUS'): 0,\n",
       " ('CAPULET', 'LADY CAPULET'): 10,\n",
       " ('CAPULET', 'JULIET'): 6,\n",
       " ('CAPULET', 'TYBALT'): 3,\n",
       " ('CAPULET', 'CAPULET’S COUSIN'): 0,\n",
       " ('CAPULET', 'NURSE'): 0,\n",
       " ('CAPULET', 'PETER'): 1,\n",
       " ('CAPULET', 'SAMPSON'): 1,\n",
       " ('CAPULET', 'GREGORY'): 1,\n",
       " ('CAPULET', 'FRIAR LAWRENCE'): 0,\n",
       " ('CAPULET', 'FRIAR JOHN'): 0,\n",
       " ('CAPULET', 'CHORUS'): 0,\n",
       " ('LADY CAPULET', 'JULIET'): 5,\n",
       " ('LADY CAPULET', 'TYBALT'): 2,\n",
       " ('LADY CAPULET', 'CAPULET’S COUSIN'): 0,\n",
       " ('LADY CAPULET', 'NURSE'): 0,\n",
       " ('LADY CAPULET', 'PETER'): 1,\n",
       " ('LADY CAPULET', 'SAMPSON'): 1,\n",
       " ('LADY CAPULET', 'GREGORY'): 1,\n",
       " ('LADY CAPULET', 'FRIAR LAWRENCE'): 0,\n",
       " ('LADY CAPULET', 'FRIAR JOHN'): 0,\n",
       " ('LADY CAPULET', 'CHORUS'): 0,\n",
       " ('JULIET', 'TYBALT'): 1,\n",
       " ('JULIET', 'CAPULET’S COUSIN'): 0,\n",
       " ('JULIET', 'NURSE'): 0,\n",
       " ('JULIET', 'PETER'): 1,\n",
       " ('JULIET', 'SAMPSON'): 0,\n",
       " ('JULIET', 'GREGORY'): 0,\n",
       " ('JULIET', 'FRIAR LAWRENCE'): 0,\n",
       " ('JULIET', 'FRIAR JOHN'): 0,\n",
       " ('JULIET', 'CHORUS'): 0,\n",
       " ('TYBALT', 'CAPULET’S COUSIN'): 0,\n",
       " ('TYBALT', 'NURSE'): 0,\n",
       " ('TYBALT', 'PETER'): 0,\n",
       " ('TYBALT', 'SAMPSON'): 1,\n",
       " ('TYBALT', 'GREGORY'): 1,\n",
       " ('TYBALT', 'FRIAR LAWRENCE'): 0,\n",
       " ('TYBALT', 'FRIAR JOHN'): 0,\n",
       " ('TYBALT', 'CHORUS'): 0,\n",
       " ('CAPULET’S COUSIN', 'NURSE'): 0,\n",
       " ('CAPULET’S COUSIN', 'PETER'): 0,\n",
       " ('CAPULET’S COUSIN', 'SAMPSON'): 0,\n",
       " ('CAPULET’S COUSIN', 'GREGORY'): 0,\n",
       " ('CAPULET’S COUSIN', 'FRIAR LAWRENCE'): 0,\n",
       " ('CAPULET’S COUSIN', 'FRIAR JOHN'): 0,\n",
       " ('CAPULET’S COUSIN', 'CHORUS'): 0,\n",
       " ('NURSE', 'PETER'): 1,\n",
       " ('NURSE', 'SAMPSON'): 0,\n",
       " ('NURSE', 'GREGORY'): 0,\n",
       " ('NURSE', 'FRIAR LAWRENCE'): 0,\n",
       " ('NURSE', 'FRIAR JOHN'): 0,\n",
       " ('NURSE', 'CHORUS'): 0,\n",
       " ('PETER', 'SAMPSON'): 0,\n",
       " ('PETER', 'GREGORY'): 0,\n",
       " ('PETER', 'FRIAR LAWRENCE'): 0,\n",
       " ('PETER', 'FRIAR JOHN'): 0,\n",
       " ('PETER', 'CHORUS'): 0,\n",
       " ('SAMPSON', 'GREGORY'): 1,\n",
       " ('SAMPSON', 'FRIAR LAWRENCE'): 0,\n",
       " ('SAMPSON', 'FRIAR JOHN'): 0,\n",
       " ('SAMPSON', 'CHORUS'): 0,\n",
       " ('GREGORY', 'FRIAR LAWRENCE'): 0,\n",
       " ('GREGORY', 'FRIAR JOHN'): 0,\n",
       " ('GREGORY', 'CHORUS'): 0,\n",
       " ('FRIAR LAWRENCE', 'FRIAR JOHN'): 0,\n",
       " ('FRIAR LAWRENCE', 'CHORUS'): 0,\n",
       " ('FRIAR JOHN', 'CHORUS'): 0}"
      ]
     },
     "execution_count": 26,
     "metadata": {},
     "output_type": "execute_result"
    }
   ],
   "source": [
    "connections"
   ]
  },
  {
   "cell_type": "code",
   "execution_count": 27,
   "id": "a68451fa-49ea-4350-a457-97c74a7a9326",
   "metadata": {
    "collapsed": true,
    "jupyter": {
     "outputs_hidden": true
    },
    "tags": []
   },
   "outputs": [
    {
     "name": "stdout",
     "output_type": "stream",
     "text": [
      "ESCALUS 0\n",
      "MERCUTIO 4\n",
      "PARIS 5\n",
      "MONTAGUE 3\n",
      "LADY MONTAGUE 1\n",
      "ROMEO 14\n",
      "BENVOLIO 7\n",
      "ABRAM 0\n",
      "ALTHASAR 3\n",
      "CAPULET 12\n",
      "LADY CAPULET 10\n",
      "JULIET 11\n",
      "TYBALT 3\n",
      "CAPULET’S COUSIN 0\n",
      "NURSE 1\n",
      "PETER 3\n",
      "SAMPSON 1\n",
      "GREGORY 1\n",
      "FRIAR LAWRENCE 0\n",
      "FRIAR JOHN 1\n",
      "CHORUS 0\n"
     ]
    }
   ],
   "source": [
    "for k,v in charnum.items():\n",
    "    print(k,v)"
   ]
  },
  {
   "cell_type": "code",
   "execution_count": 32,
   "id": "d20ca4f8-3602-4deb-a380-203cf5f600bc",
   "metadata": {},
   "outputs": [
    {
     "name": "stdout",
     "output_type": "stream",
     "text": [
      "Dash app running on https://jupyter.idre.ucla.edu/user/mtran9600@ucla.edu/proxy/8050/\n"
     ]
    }
   ],
   "source": [
    "app = JupyterDash(__name__)\n",
    "\n",
    "app.layout = html.Div([\n",
    "    cyto.Cytoscape(\n",
    "        layout={'name': 'cose'},\n",
    "        elements=graphitems,\n",
    "        style={'width': '100%', 'height': '750px'},\n",
    "        stylesheet=[\n",
    "            {\n",
    "                'selector': 'node',\n",
    "                'style': {\n",
    "                    'content':'data(label)',\n",
    "                    'text-halign':'center',\n",
    "                    'text-valign':'center',\n",
    "                    'width': 'data(size)',\n",
    "                    'height': 'data(size)',\n",
    "                    'font-size':4,\n",
    "                    'color': 'blue',\n",
    "                    'text-outline-color': 'white',\n",
    "                    'text-outline-width': 0.2,\n",
    "                    'shape':'circle'\n",
    "                }\n",
    "            },\n",
    "            {\n",
    "                'selector':'edge',\n",
    "                'style': {\n",
    "                    'width':'data(str(int(weight)/10))',\n",
    "                    'line-color': 'blue',\n",
    "                  }\n",
    "            },\n",
    "        ]\n",
    "    )\n",
    "])\n",
    "\n",
    "app.run_server(debug=True)"
   ]
  },
  {
   "cell_type": "code",
   "execution_count": 71,
   "id": "506bf563-3731-4001-b9fb-eef3cad997a2",
   "metadata": {},
   "outputs": [
    {
     "name": "stdout",
     "output_type": "stream",
     "text": [
      "10\n"
     ]
    }
   ],
   "source": [
    "graphitems = []\n",
    "\n",
    "for k,v in charnum.items():\n",
    "    dashnode = {'data': {'id': k,\n",
    "                         'label': k.title(),\n",
    "                         'size': str(v)}}\n",
    "    graphitems.append(dashnode)\n",
    "\n",
    "correction_factor = max(connections.values())\n",
    "print(correction_factor)\n",
    "for k,v in connections.items():\n",
    "    if v != 0:\n",
    "        dashedge = {'data': {'source': k[0],\n",
    "                             'target': k[1],\n",
    "                             'weight': v/correction_factor}}\n",
    "        graphitems.append(dashedge)\n",
    "    \n",
    "#graphitems"
   ]
  },
  {
   "cell_type": "code",
   "execution_count": 72,
   "id": "644918ee-ee71-46e9-a470-cd3764da3044",
   "metadata": {},
   "outputs": [
    {
     "name": "stdout",
     "output_type": "stream",
     "text": [
      "Dash app running on https://jupyter.idre.ucla.edu/user/mtran9600@ucla.edu/proxy/8050/\n"
     ]
    }
   ],
   "source": [
    "app = JupyterDash(__name__)\n",
    "\n",
    "app.layout = html.Div([\n",
    "    cyto.Cytoscape(\n",
    "        layout={'name': 'cose'},\n",
    "        elements=graphitems,\n",
    "        style={'width': '100%', 'height': '750px'},\n",
    "        stylesheet=[\n",
    "            {\n",
    "                'selector': 'node',\n",
    "                'style': {\n",
    "                    'content':'data(label)',\n",
    "                    'text-halign':'center',\n",
    "                    'text-valign':'center',\n",
    "                    'width': 'data(size)',\n",
    "                    'height': 'data(size)',\n",
    "                    'font-size':4,\n",
    "                    'color': 'black',\n",
    "                    'background-color': 'red',\n",
    "                    'text-outline-color': 'white',\n",
    "                    'text-outline-width': 0.2,\n",
    "                    'shape':'circle'\n",
    "                }\n",
    "            },\n",
    "            {\n",
    "                'selector':'edge',\n",
    "                'style': {\n",
    "                    'width':'data(weight)',\n",
    "                    'line-color': 'blue',\n",
    "                  }\n",
    "            },\n",
    "        ]\n",
    "    )\n",
    "])\n",
    "\n",
    "app.run_server(debug=True)"
   ]
  },
  {
   "cell_type": "code",
   "execution_count": 35,
   "id": "f086e017-55fe-42d1-9fbf-dcdee599c16b",
   "metadata": {
    "collapsed": true,
    "jupyter": {
     "outputs_hidden": true
    },
    "tags": []
   },
   "outputs": [
    {
     "data": {
      "text/plain": [
       "[{'data': {'id': 'ESCALUS', 'label': 'Escalus', 'size': '0'}},\n",
       " {'data': {'id': 'MERCUTIO', 'label': 'Mercutio', 'size': '4'}},\n",
       " {'data': {'id': 'PARIS', 'label': 'Paris', 'size': '5'}},\n",
       " {'data': {'id': 'MONTAGUE', 'label': 'Montague', 'size': '3'}},\n",
       " {'data': {'id': 'LADY MONTAGUE', 'label': 'Lady Montague', 'size': '1'}},\n",
       " {'data': {'id': 'ROMEO', 'label': 'Romeo', 'size': '14'}},\n",
       " {'data': {'id': 'BENVOLIO', 'label': 'Benvolio', 'size': '7'}},\n",
       " {'data': {'id': 'ABRAM', 'label': 'Abram', 'size': '0'}},\n",
       " {'data': {'id': 'ALTHASAR', 'label': 'Althasar', 'size': '3'}},\n",
       " {'data': {'id': 'CAPULET', 'label': 'Capulet', 'size': '12'}},\n",
       " {'data': {'id': 'LADY CAPULET', 'label': 'Lady Capulet', 'size': '10'}},\n",
       " {'data': {'id': 'JULIET', 'label': 'Juliet', 'size': '11'}},\n",
       " {'data': {'id': 'TYBALT', 'label': 'Tybalt', 'size': '3'}},\n",
       " {'data': {'id': 'CAPULET’S COUSIN',\n",
       "   'label': 'Capulet’S Cousin',\n",
       "   'size': '0'}},\n",
       " {'data': {'id': 'NURSE', 'label': 'Nurse', 'size': '1'}},\n",
       " {'data': {'id': 'PETER', 'label': 'Peter', 'size': '3'}},\n",
       " {'data': {'id': 'SAMPSON', 'label': 'Sampson', 'size': '1'}},\n",
       " {'data': {'id': 'GREGORY', 'label': 'Gregory', 'size': '1'}},\n",
       " {'data': {'id': 'FRIAR LAWRENCE', 'label': 'Friar Lawrence', 'size': '0'}},\n",
       " {'data': {'id': 'FRIAR JOHN', 'label': 'Friar John', 'size': '1'}},\n",
       " {'data': {'id': 'CHORUS', 'label': 'Chorus', 'size': '0'}},\n",
       " {'data': {'source': 'MERCUTIO', 'target': 'MONTAGUE', 'weight': 0.1}},\n",
       " {'data': {'source': 'MERCUTIO', 'target': 'ROMEO', 'weight': 0.4}},\n",
       " {'data': {'source': 'MERCUTIO', 'target': 'BENVOLIO', 'weight': 0.4}},\n",
       " {'data': {'source': 'MERCUTIO', 'target': 'CAPULET', 'weight': 0.1}},\n",
       " {'data': {'source': 'MERCUTIO', 'target': 'LADY CAPULET', 'weight': 0.1}},\n",
       " {'data': {'source': 'MERCUTIO', 'target': 'TYBALT', 'weight': 0.1}},\n",
       " {'data': {'source': 'MERCUTIO', 'target': 'NURSE', 'weight': 0.1}},\n",
       " {'data': {'source': 'MERCUTIO', 'target': 'PETER', 'weight': 0.1}},\n",
       " {'data': {'source': 'PARIS', 'target': 'MONTAGUE', 'weight': 0.1}},\n",
       " {'data': {'source': 'PARIS', 'target': 'ROMEO', 'weight': 0.2}},\n",
       " {'data': {'source': 'PARIS', 'target': 'BENVOLIO', 'weight': 0.1}},\n",
       " {'data': {'source': 'PARIS', 'target': 'ALTHASAR', 'weight': 0.1}},\n",
       " {'data': {'source': 'PARIS', 'target': 'CAPULET', 'weight': 0.4}},\n",
       " {'data': {'source': 'PARIS', 'target': 'LADY CAPULET', 'weight': 0.3}},\n",
       " {'data': {'source': 'PARIS', 'target': 'JULIET', 'weight': 0.2}},\n",
       " {'data': {'source': 'PARIS', 'target': 'PETER', 'weight': 0.1}},\n",
       " {'data': {'source': 'MONTAGUE', 'target': 'LADY MONTAGUE', 'weight': 0.1}},\n",
       " {'data': {'source': 'MONTAGUE', 'target': 'ROMEO', 'weight': 0.3}},\n",
       " {'data': {'source': 'MONTAGUE', 'target': 'BENVOLIO', 'weight': 0.2}},\n",
       " {'data': {'source': 'MONTAGUE', 'target': 'ALTHASAR', 'weight': 0.2}},\n",
       " {'data': {'source': 'MONTAGUE', 'target': 'CAPULET', 'weight': 0.3}},\n",
       " {'data': {'source': 'MONTAGUE', 'target': 'LADY CAPULET', 'weight': 0.3}},\n",
       " {'data': {'source': 'MONTAGUE', 'target': 'JULIET', 'weight': 0.1}},\n",
       " {'data': {'source': 'MONTAGUE', 'target': 'TYBALT', 'weight': 0.2}},\n",
       " {'data': {'source': 'MONTAGUE', 'target': 'SAMPSON', 'weight': 0.1}},\n",
       " {'data': {'source': 'MONTAGUE', 'target': 'GREGORY', 'weight': 0.1}},\n",
       " {'data': {'source': 'LADY MONTAGUE', 'target': 'ROMEO', 'weight': 0.1}},\n",
       " {'data': {'source': 'LADY MONTAGUE', 'target': 'BENVOLIO', 'weight': 0.1}},\n",
       " {'data': {'source': 'LADY MONTAGUE', 'target': 'ALTHASAR', 'weight': 0.1}},\n",
       " {'data': {'source': 'LADY MONTAGUE', 'target': 'CAPULET', 'weight': 0.1}},\n",
       " {'data': {'source': 'LADY MONTAGUE',\n",
       "   'target': 'LADY CAPULET',\n",
       "   'weight': 0.1}},\n",
       " {'data': {'source': 'LADY MONTAGUE', 'target': 'TYBALT', 'weight': 0.1}},\n",
       " {'data': {'source': 'LADY MONTAGUE', 'target': 'SAMPSON', 'weight': 0.1}},\n",
       " {'data': {'source': 'LADY MONTAGUE', 'target': 'GREGORY', 'weight': 0.1}},\n",
       " {'data': {'source': 'ROMEO', 'target': 'BENVOLIO', 'weight': 0.7}},\n",
       " {'data': {'source': 'ROMEO', 'target': 'ALTHASAR', 'weight': 0.3}},\n",
       " {'data': {'source': 'ROMEO', 'target': 'CAPULET', 'weight': 0.6}},\n",
       " {'data': {'source': 'ROMEO', 'target': 'LADY CAPULET', 'weight': 0.4}},\n",
       " {'data': {'source': 'ROMEO', 'target': 'JULIET', 'weight': 0.5}},\n",
       " {'data': {'source': 'ROMEO', 'target': 'TYBALT', 'weight': 0.3}},\n",
       " {'data': {'source': 'ROMEO', 'target': 'NURSE', 'weight': 0.1}},\n",
       " {'data': {'source': 'ROMEO', 'target': 'PETER', 'weight': 0.1}},\n",
       " {'data': {'source': 'ROMEO', 'target': 'SAMPSON', 'weight': 0.1}},\n",
       " {'data': {'source': 'ROMEO', 'target': 'GREGORY', 'weight': 0.1}},\n",
       " {'data': {'source': 'BENVOLIO', 'target': 'ALTHASAR', 'weight': 0.1}},\n",
       " {'data': {'source': 'BENVOLIO', 'target': 'CAPULET', 'weight': 0.4}},\n",
       " {'data': {'source': 'BENVOLIO', 'target': 'LADY CAPULET', 'weight': 0.2}},\n",
       " {'data': {'source': 'BENVOLIO', 'target': 'JULIET', 'weight': 0.1}},\n",
       " {'data': {'source': 'BENVOLIO', 'target': 'TYBALT', 'weight': 0.3}},\n",
       " {'data': {'source': 'BENVOLIO', 'target': 'NURSE', 'weight': 0.1}},\n",
       " {'data': {'source': 'BENVOLIO', 'target': 'PETER', 'weight': 0.1}},\n",
       " {'data': {'source': 'BENVOLIO', 'target': 'SAMPSON', 'weight': 0.1}},\n",
       " {'data': {'source': 'BENVOLIO', 'target': 'GREGORY', 'weight': 0.1}},\n",
       " {'data': {'source': 'ALTHASAR', 'target': 'CAPULET', 'weight': 0.2}},\n",
       " {'data': {'source': 'ALTHASAR', 'target': 'LADY CAPULET', 'weight': 0.2}},\n",
       " {'data': {'source': 'ALTHASAR', 'target': 'JULIET', 'weight': 0.1}},\n",
       " {'data': {'source': 'ALTHASAR', 'target': 'TYBALT', 'weight': 0.1}},\n",
       " {'data': {'source': 'ALTHASAR', 'target': 'SAMPSON', 'weight': 0.1}},\n",
       " {'data': {'source': 'ALTHASAR', 'target': 'GREGORY', 'weight': 0.1}},\n",
       " {'data': {'source': 'CAPULET', 'target': 'LADY CAPULET', 'weight': 1.0}},\n",
       " {'data': {'source': 'CAPULET', 'target': 'JULIET', 'weight': 0.6}},\n",
       " {'data': {'source': 'CAPULET', 'target': 'TYBALT', 'weight': 0.3}},\n",
       " {'data': {'source': 'CAPULET', 'target': 'PETER', 'weight': 0.1}},\n",
       " {'data': {'source': 'CAPULET', 'target': 'SAMPSON', 'weight': 0.1}},\n",
       " {'data': {'source': 'CAPULET', 'target': 'GREGORY', 'weight': 0.1}},\n",
       " {'data': {'source': 'LADY CAPULET', 'target': 'JULIET', 'weight': 0.5}},\n",
       " {'data': {'source': 'LADY CAPULET', 'target': 'TYBALT', 'weight': 0.2}},\n",
       " {'data': {'source': 'LADY CAPULET', 'target': 'PETER', 'weight': 0.1}},\n",
       " {'data': {'source': 'LADY CAPULET', 'target': 'SAMPSON', 'weight': 0.1}},\n",
       " {'data': {'source': 'LADY CAPULET', 'target': 'GREGORY', 'weight': 0.1}},\n",
       " {'data': {'source': 'JULIET', 'target': 'TYBALT', 'weight': 0.1}},\n",
       " {'data': {'source': 'JULIET', 'target': 'PETER', 'weight': 0.1}},\n",
       " {'data': {'source': 'TYBALT', 'target': 'SAMPSON', 'weight': 0.1}},\n",
       " {'data': {'source': 'TYBALT', 'target': 'GREGORY', 'weight': 0.1}},\n",
       " {'data': {'source': 'NURSE', 'target': 'PETER', 'weight': 0.1}},\n",
       " {'data': {'source': 'SAMPSON', 'target': 'GREGORY', 'weight': 0.1}}]"
      ]
     },
     "execution_count": 35,
     "metadata": {},
     "output_type": "execute_result"
    }
   ],
   "source": [
    "graphitems"
   ]
  },
  {
   "cell_type": "code",
   "execution_count": 36,
   "id": "1c4b6f7a-c154-447a-b7a4-5b0fe0de84bb",
   "metadata": {},
   "outputs": [],
   "source": [
    "import networkx as nx\n",
    "import matplotlib.pyplot as plt"
   ]
  },
  {
   "cell_type": "code",
   "execution_count": 37,
   "id": "41bd03fc-bf25-458f-b89c-f9643fb13790",
   "metadata": {
    "collapsed": true,
    "jupyter": {
     "outputs_hidden": true
    },
    "tags": []
   },
   "outputs": [
    {
     "data": {
      "text/plain": [
       "[('MERCUTIO', 'MONTAGUE'),\n",
       " ('MERCUTIO', 'ROMEO'),\n",
       " ('MERCUTIO', 'BENVOLIO'),\n",
       " ('MERCUTIO', 'CAPULET'),\n",
       " ('MERCUTIO', 'LADY CAPULET'),\n",
       " ('MERCUTIO', 'TYBALT'),\n",
       " ('MERCUTIO', 'NURSE'),\n",
       " ('MERCUTIO', 'PETER'),\n",
       " ('PARIS', 'MONTAGUE'),\n",
       " ('PARIS', 'ROMEO'),\n",
       " ('PARIS', 'BENVOLIO'),\n",
       " ('PARIS', 'ALTHASAR'),\n",
       " ('PARIS', 'CAPULET'),\n",
       " ('PARIS', 'LADY CAPULET'),\n",
       " ('PARIS', 'JULIET'),\n",
       " ('PARIS', 'PETER'),\n",
       " ('MONTAGUE', 'LADY MONTAGUE'),\n",
       " ('MONTAGUE', 'ROMEO'),\n",
       " ('MONTAGUE', 'BENVOLIO'),\n",
       " ('MONTAGUE', 'ALTHASAR'),\n",
       " ('MONTAGUE', 'CAPULET'),\n",
       " ('MONTAGUE', 'LADY CAPULET'),\n",
       " ('MONTAGUE', 'JULIET'),\n",
       " ('MONTAGUE', 'TYBALT'),\n",
       " ('MONTAGUE', 'SAMPSON'),\n",
       " ('MONTAGUE', 'GREGORY'),\n",
       " ('LADY MONTAGUE', 'ROMEO'),\n",
       " ('LADY MONTAGUE', 'BENVOLIO'),\n",
       " ('LADY MONTAGUE', 'ALTHASAR'),\n",
       " ('LADY MONTAGUE', 'CAPULET'),\n",
       " ('LADY MONTAGUE', 'LADY CAPULET'),\n",
       " ('LADY MONTAGUE', 'TYBALT'),\n",
       " ('LADY MONTAGUE', 'SAMPSON'),\n",
       " ('LADY MONTAGUE', 'GREGORY'),\n",
       " ('ROMEO', 'BENVOLIO'),\n",
       " ('ROMEO', 'ALTHASAR'),\n",
       " ('ROMEO', 'CAPULET'),\n",
       " ('ROMEO', 'LADY CAPULET'),\n",
       " ('ROMEO', 'JULIET'),\n",
       " ('ROMEO', 'TYBALT'),\n",
       " ('ROMEO', 'NURSE'),\n",
       " ('ROMEO', 'PETER'),\n",
       " ('ROMEO', 'SAMPSON'),\n",
       " ('ROMEO', 'GREGORY'),\n",
       " ('BENVOLIO', 'ALTHASAR'),\n",
       " ('BENVOLIO', 'CAPULET'),\n",
       " ('BENVOLIO', 'LADY CAPULET'),\n",
       " ('BENVOLIO', 'JULIET'),\n",
       " ('BENVOLIO', 'TYBALT'),\n",
       " ('BENVOLIO', 'NURSE'),\n",
       " ('BENVOLIO', 'PETER'),\n",
       " ('BENVOLIO', 'SAMPSON'),\n",
       " ('BENVOLIO', 'GREGORY'),\n",
       " ('ALTHASAR', 'CAPULET'),\n",
       " ('ALTHASAR', 'LADY CAPULET'),\n",
       " ('ALTHASAR', 'JULIET'),\n",
       " ('ALTHASAR', 'TYBALT'),\n",
       " ('ALTHASAR', 'SAMPSON'),\n",
       " ('ALTHASAR', 'GREGORY'),\n",
       " ('CAPULET', 'LADY CAPULET'),\n",
       " ('CAPULET', 'JULIET'),\n",
       " ('CAPULET', 'TYBALT'),\n",
       " ('CAPULET', 'PETER'),\n",
       " ('CAPULET', 'SAMPSON'),\n",
       " ('CAPULET', 'GREGORY'),\n",
       " ('LADY CAPULET', 'JULIET'),\n",
       " ('LADY CAPULET', 'TYBALT'),\n",
       " ('LADY CAPULET', 'PETER'),\n",
       " ('LADY CAPULET', 'SAMPSON'),\n",
       " ('LADY CAPULET', 'GREGORY'),\n",
       " ('JULIET', 'TYBALT'),\n",
       " ('JULIET', 'PETER'),\n",
       " ('TYBALT', 'SAMPSON'),\n",
       " ('TYBALT', 'GREGORY'),\n",
       " ('NURSE', 'PETER'),\n",
       " ('SAMPSON', 'GREGORY')]"
      ]
     },
     "execution_count": 37,
     "metadata": {},
     "output_type": "execute_result"
    }
   ],
   "source": [
    "nxgraphitems = []\n",
    "\n",
    "# for k,v in charnum.items():\n",
    "#     dashnode = k\n",
    "#     graphitems.append(dashnode)\n",
    "\n",
    "for k,v in connections.items():\n",
    "    if v != 0:\n",
    "        dashedge = (k[0],k[1])\n",
    "        nxgraphitems.append(dashedge)\n",
    "    \n",
    "nxgraphitems"
   ]
  },
  {
   "cell_type": "code",
   "execution_count": 38,
   "id": "d8ac0f78-863b-4a98-804e-577333ec717a",
   "metadata": {},
   "outputs": [],
   "source": [
    "G = nx.Graph()"
   ]
  },
  {
   "cell_type": "code",
   "execution_count": 39,
   "id": "e030f47c-43ec-4883-ac5c-a45e2788d650",
   "metadata": {},
   "outputs": [],
   "source": [
    "G.add_edges_from(nxgraphitems)"
   ]
  },
  {
   "cell_type": "code",
   "execution_count": 40,
   "id": "25506ec4-51b8-4620-8ddb-7d81f15f3496",
   "metadata": {},
   "outputs": [
    {
     "data": {
      "text/plain": [
       "NodeView(('MERCUTIO', 'MONTAGUE', 'ROMEO', 'BENVOLIO', 'CAPULET', 'LADY CAPULET', 'TYBALT', 'NURSE', 'PETER', 'PARIS', 'ALTHASAR', 'JULIET', 'LADY MONTAGUE', 'SAMPSON', 'GREGORY'))"
      ]
     },
     "execution_count": 40,
     "metadata": {},
     "output_type": "execute_result"
    }
   ],
   "source": [
    "G.nodes"
   ]
  },
  {
   "cell_type": "code",
   "execution_count": 41,
   "id": "4a7e3ff6-457d-4006-a482-aee26b483e74",
   "metadata": {
    "collapsed": true,
    "jupyter": {
     "outputs_hidden": true
    },
    "tags": []
   },
   "outputs": [
    {
     "data": {
      "text/plain": [
       "{'MERCUTIO': 0.5714285714285714,\n",
       " 'MONTAGUE': 0.8571428571428571,\n",
       " 'ROMEO': 1.0,\n",
       " 'BENVOLIO': 1.0,\n",
       " 'CAPULET': 0.9285714285714285,\n",
       " 'LADY CAPULET': 0.9285714285714285,\n",
       " 'TYBALT': 0.7857142857142857,\n",
       " 'NURSE': 0.2857142857142857,\n",
       " 'PETER': 0.5714285714285714,\n",
       " 'PARIS': 0.5714285714285714,\n",
       " 'ALTHASAR': 0.7857142857142857,\n",
       " 'JULIET': 0.6428571428571428,\n",
       " 'LADY MONTAGUE': 0.6428571428571428,\n",
       " 'SAMPSON': 0.6428571428571428,\n",
       " 'GREGORY': 0.6428571428571428}"
      ]
     },
     "execution_count": 41,
     "metadata": {},
     "output_type": "execute_result"
    }
   ],
   "source": [
    "nx.degree_centrality(G)"
   ]
  },
  {
   "cell_type": "code",
   "execution_count": 42,
   "id": "81a97071-cfdd-4701-bf49-8b3fefe04619",
   "metadata": {
    "tags": []
   },
   "outputs": [
    {
     "name": "stdout",
     "output_type": "stream",
     "text": [
      "Romeo          : 1.000\n",
      "Benvolio       : 1.000\n",
      "Capulet        : 0.929\n",
      "Lady Capulet   : 0.929\n",
      "Montague       : 0.857\n",
      "Tybalt         : 0.786\n",
      "Althasar       : 0.786\n",
      "Juliet         : 0.643\n",
      "Lady Montague  : 0.643\n",
      "Sampson        : 0.643\n",
      "Gregory        : 0.643\n",
      "Mercutio       : 0.571\n",
      "Peter          : 0.571\n",
      "Paris          : 0.571\n",
      "Nurse          : 0.286\n"
     ]
    }
   ],
   "source": [
    "dc = nx.degree_centrality(G)\n",
    "for i in sorted(dc, key=dc.get, reverse=True):\n",
    "    print('{:15s}: {:.3f}'.format(i.title(), dc[i]))"
   ]
  },
  {
   "cell_type": "code",
   "execution_count": 43,
   "id": "699027ed-6633-4dc4-b649-c9a0fb971613",
   "metadata": {
    "collapsed": true,
    "jupyter": {
     "outputs_hidden": true
    },
    "tags": []
   },
   "outputs": [
    {
     "data": {
      "text/plain": [
       "{'MERCUTIO': 0.01622187336473051,\n",
       " 'MONTAGUE': 0.02250130821559393,\n",
       " 'ROMEO': 0.07810047095761383,\n",
       " 'BENVOLIO': 0.07810047095761383,\n",
       " 'CAPULET': 0.03597592883307169,\n",
       " 'LADY CAPULET': 0.03597592883307169,\n",
       " 'TYBALT': 0.01360544217687075,\n",
       " 'NURSE': 0.0,\n",
       " 'PETER': 0.01622187336473051,\n",
       " 'PARIS': 0.0034013605442176874,\n",
       " 'ALTHASAR': 0.011773940345368918,\n",
       " 'JULIET': 0.006802721088435375,\n",
       " 'LADY MONTAGUE': 0.0,\n",
       " 'SAMPSON': 0.0,\n",
       " 'GREGORY': 0.0}"
      ]
     },
     "execution_count": 43,
     "metadata": {},
     "output_type": "execute_result"
    }
   ],
   "source": [
    "nx.betweenness_centrality(G)"
   ]
  },
  {
   "cell_type": "code",
   "execution_count": 44,
   "id": "5bf353f4-00ce-4db2-ba33-abac392c3465",
   "metadata": {
    "collapsed": true,
    "jupyter": {
     "outputs_hidden": true
    },
    "tags": []
   },
   "outputs": [
    {
     "name": "stdout",
     "output_type": "stream",
     "text": [
      "Romeo          : 0.078\n",
      "Benvolio       : 0.078\n",
      "Capulet        : 0.036\n",
      "Lady Capulet   : 0.036\n",
      "Montague       : 0.023\n",
      "Mercutio       : 0.016\n",
      "Peter          : 0.016\n",
      "Tybalt         : 0.014\n",
      "Althasar       : 0.012\n",
      "Juliet         : 0.007\n",
      "Paris          : 0.003\n",
      "Nurse          : 0.000\n",
      "Lady Montague  : 0.000\n",
      "Sampson        : 0.000\n",
      "Gregory        : 0.000\n"
     ]
    }
   ],
   "source": [
    "dc = nx.betweenness_centrality(G)\n",
    "for i in sorted(dc, key=dc.get, reverse=True):\n",
    "    print('{:15s}: {:.3f}'.format(i.title(), dc[i]))"
   ]
  },
  {
   "cell_type": "code",
   "execution_count": 45,
   "id": "4547e129-5ec2-485c-a37d-c7a690b69697",
   "metadata": {},
   "outputs": [],
   "source": [
    "from networkx.algorithms.community import greedy_modularity_communities"
   ]
  },
  {
   "cell_type": "code",
   "execution_count": 46,
   "id": "92e5624a-de36-47c1-bbc0-0605930c1450",
   "metadata": {},
   "outputs": [
    {
     "data": {
      "text/plain": [
       "[frozenset({'ALTHASAR',\n",
       "            'CAPULET',\n",
       "            'GREGORY',\n",
       "            'JULIET',\n",
       "            'LADY CAPULET',\n",
       "            'LADY MONTAGUE',\n",
       "            'MONTAGUE',\n",
       "            'PARIS',\n",
       "            'SAMPSON',\n",
       "            'TYBALT'}),\n",
       " frozenset({'BENVOLIO', 'MERCUTIO', 'NURSE', 'PETER', 'ROMEO'})]"
      ]
     },
     "execution_count": 46,
     "metadata": {},
     "output_type": "execute_result"
    }
   ],
   "source": [
    "greedy_modularity_communities(G)"
   ]
  },
  {
   "cell_type": "code",
   "execution_count": 47,
   "id": "93fd0c6c-644a-4e91-a6d6-415c7288f614",
   "metadata": {},
   "outputs": [],
   "source": [
    "communities = greedy_modularity_communities(G)\n",
    "# Create empty dictionary\n",
    "modularity_class = {}\n",
    "#Loop through each community in the network\n",
    "for community_number, community in enumerate(communities):\n",
    "    #For each member of the community, add their community number\n",
    "    for name in community:\n",
    "        modularity_class[name] = community_number"
   ]
  },
  {
   "cell_type": "code",
   "execution_count": 48,
   "id": "e79ba189-12f1-499b-a196-86fb882ee3c8",
   "metadata": {},
   "outputs": [
    {
     "data": {
      "text/plain": [
       "{'CAPULET': 0,\n",
       " 'GREGORY': 0,\n",
       " 'TYBALT': 0,\n",
       " 'SAMPSON': 0,\n",
       " 'JULIET': 0,\n",
       " 'LADY CAPULET': 0,\n",
       " 'LADY MONTAGUE': 0,\n",
       " 'PARIS': 0,\n",
       " 'MONTAGUE': 0,\n",
       " 'ALTHASAR': 0,\n",
       " 'BENVOLIO': 1,\n",
       " 'NURSE': 1,\n",
       " 'ROMEO': 1,\n",
       " 'MERCUTIO': 1,\n",
       " 'PETER': 1}"
      ]
     },
     "execution_count": 48,
     "metadata": {},
     "output_type": "execute_result"
    }
   ],
   "source": [
    "modularity_class"
   ]
  },
  {
   "cell_type": "code",
   "execution_count": 56,
   "id": "5774211b-cce0-4f98-8131-a8eb9931cdd3",
   "metadata": {},
   "outputs": [
    {
     "name": "stdout",
     "output_type": "stream",
     "text": [
      "[['CAPULET', 'GREGORY', 'TYBALT', 'SAMPSON', 'JULIET', 'LADY CAPULET', 'LADY MONTAGUE', 'PARIS', 'MONTAGUE', 'ALTHASAR'], ['BENVOLIO', 'NURSE', 'ROMEO', 'MERCUTIO', 'PETER']]\n"
     ]
    },
    {
     "data": {
      "image/png": "[encoded data removed]",
      "text/plain": [
       "<Figure size 432x288 with 1 Axes>"
      ]
     },
     "metadata": {},
     "output_type": "display_data"
    }
   ],
   "source": [
    "communities = greedy_modularity_communities(G)\n",
    "\n",
    "node_groups = []\n",
    "for com in communities:\n",
    "    node_groups.append(list(com))\n",
    " \n",
    "print(node_groups)\n",
    " \n",
    "color_map = []\n",
    "for node in G:\n",
    "    if node in node_groups[0]:\n",
    "        color_map.append('blue')\n",
    "    elif node in node_groups[1]:\n",
    "        color_map.append('yellow')\n",
    "    else:\n",
    "        color_map.append('green')\n",
    "nx.draw(G, node_color=color_map, with_labels=True)\n",
    "plt.show()"
   ]
  },
  {
   "cell_type": "code",
   "execution_count": 75,
   "id": "361e30eb-d660-4f32-88b1-8e4bb6f3baf0",
   "metadata": {
    "collapsed": true,
    "jupyter": {
     "outputs_hidden": true
    },
    "tags": []
   },
   "outputs": [
    {
     "name": "stdout",
     "output_type": "stream",
     "text": [
      "10\n"
     ]
    },
    {
     "data": {
      "text/plain": [
       "[{'data': {'id': 'ESCALUS',\n",
       "   'label': 'Escalus',\n",
       "   'size': '0',\n",
       "   'modularity': 'green'}},\n",
       " {'data': {'id': 'MERCUTIO',\n",
       "   'label': 'Mercutio',\n",
       "   'size': '4',\n",
       "   'modularity': 'red'}},\n",
       " {'data': {'id': 'PARIS',\n",
       "   'label': 'Paris',\n",
       "   'size': '5',\n",
       "   'modularity': 'blue'}},\n",
       " {'data': {'id': 'MONTAGUE',\n",
       "   'label': 'Montague',\n",
       "   'size': '3',\n",
       "   'modularity': 'blue'}},\n",
       " {'data': {'id': 'LADY MONTAGUE',\n",
       "   'label': 'Lady Montague',\n",
       "   'size': '1',\n",
       "   'modularity': 'blue'}},\n",
       " {'data': {'id': 'ROMEO',\n",
       "   'label': 'Romeo',\n",
       "   'size': '14',\n",
       "   'modularity': 'red'}},\n",
       " {'data': {'id': 'BENVOLIO',\n",
       "   'label': 'Benvolio',\n",
       "   'size': '7',\n",
       "   'modularity': 'red'}},\n",
       " {'data': {'id': 'ABRAM',\n",
       "   'label': 'Abram',\n",
       "   'size': '0',\n",
       "   'modularity': 'green'}},\n",
       " {'data': {'id': 'ALTHASAR',\n",
       "   'label': 'Althasar',\n",
       "   'size': '3',\n",
       "   'modularity': 'blue'}},\n",
       " {'data': {'id': 'CAPULET',\n",
       "   'label': 'Capulet',\n",
       "   'size': '12',\n",
       "   'modularity': 'blue'}},\n",
       " {'data': {'id': 'LADY CAPULET',\n",
       "   'label': 'Lady Capulet',\n",
       "   'size': '10',\n",
       "   'modularity': 'blue'}},\n",
       " {'data': {'id': 'JULIET',\n",
       "   'label': 'Juliet',\n",
       "   'size': '11',\n",
       "   'modularity': 'blue'}},\n",
       " {'data': {'id': 'TYBALT',\n",
       "   'label': 'Tybalt',\n",
       "   'size': '3',\n",
       "   'modularity': 'blue'}},\n",
       " {'data': {'id': 'CAPULET’S COUSIN',\n",
       "   'label': 'Capulet’S Cousin',\n",
       "   'size': '0',\n",
       "   'modularity': 'green'}},\n",
       " {'data': {'id': 'NURSE', 'label': 'Nurse', 'size': '1', 'modularity': 'red'}},\n",
       " {'data': {'id': 'PETER', 'label': 'Peter', 'size': '3', 'modularity': 'red'}},\n",
       " {'data': {'id': 'SAMPSON',\n",
       "   'label': 'Sampson',\n",
       "   'size': '1',\n",
       "   'modularity': 'blue'}},\n",
       " {'data': {'id': 'GREGORY',\n",
       "   'label': 'Gregory',\n",
       "   'size': '1',\n",
       "   'modularity': 'blue'}},\n",
       " {'data': {'id': 'FRIAR LAWRENCE',\n",
       "   'label': 'Friar Lawrence',\n",
       "   'size': '0',\n",
       "   'modularity': 'green'}},\n",
       " {'data': {'id': 'FRIAR JOHN',\n",
       "   'label': 'Friar John',\n",
       "   'size': '1',\n",
       "   'modularity': 'green'}},\n",
       " {'data': {'id': 'CHORUS',\n",
       "   'label': 'Chorus',\n",
       "   'size': '0',\n",
       "   'modularity': 'green'}},\n",
       " {'data': {'source': 'MERCUTIO', 'target': 'MONTAGUE', 'weight': 0.1}},\n",
       " {'data': {'source': 'MERCUTIO', 'target': 'ROMEO', 'weight': 0.4}},\n",
       " {'data': {'source': 'MERCUTIO', 'target': 'BENVOLIO', 'weight': 0.4}},\n",
       " {'data': {'source': 'MERCUTIO', 'target': 'CAPULET', 'weight': 0.1}},\n",
       " {'data': {'source': 'MERCUTIO', 'target': 'LADY CAPULET', 'weight': 0.1}},\n",
       " {'data': {'source': 'MERCUTIO', 'target': 'TYBALT', 'weight': 0.1}},\n",
       " {'data': {'source': 'MERCUTIO', 'target': 'NURSE', 'weight': 0.1}},\n",
       " {'data': {'source': 'MERCUTIO', 'target': 'PETER', 'weight': 0.1}},\n",
       " {'data': {'source': 'PARIS', 'target': 'MONTAGUE', 'weight': 0.1}},\n",
       " {'data': {'source': 'PARIS', 'target': 'ROMEO', 'weight': 0.2}},\n",
       " {'data': {'source': 'PARIS', 'target': 'BENVOLIO', 'weight': 0.1}},\n",
       " {'data': {'source': 'PARIS', 'target': 'ALTHASAR', 'weight': 0.1}},\n",
       " {'data': {'source': 'PARIS', 'target': 'CAPULET', 'weight': 0.4}},\n",
       " {'data': {'source': 'PARIS', 'target': 'LADY CAPULET', 'weight': 0.3}},\n",
       " {'data': {'source': 'PARIS', 'target': 'JULIET', 'weight': 0.2}},\n",
       " {'data': {'source': 'PARIS', 'target': 'PETER', 'weight': 0.1}},\n",
       " {'data': {'source': 'MONTAGUE', 'target': 'LADY MONTAGUE', 'weight': 0.1}},\n",
       " {'data': {'source': 'MONTAGUE', 'target': 'ROMEO', 'weight': 0.3}},\n",
       " {'data': {'source': 'MONTAGUE', 'target': 'BENVOLIO', 'weight': 0.2}},\n",
       " {'data': {'source': 'MONTAGUE', 'target': 'ALTHASAR', 'weight': 0.2}},\n",
       " {'data': {'source': 'MONTAGUE', 'target': 'CAPULET', 'weight': 0.3}},\n",
       " {'data': {'source': 'MONTAGUE', 'target': 'LADY CAPULET', 'weight': 0.3}},\n",
       " {'data': {'source': 'MONTAGUE', 'target': 'JULIET', 'weight': 0.1}},\n",
       " {'data': {'source': 'MONTAGUE', 'target': 'TYBALT', 'weight': 0.2}},\n",
       " {'data': {'source': 'MONTAGUE', 'target': 'SAMPSON', 'weight': 0.1}},\n",
       " {'data': {'source': 'MONTAGUE', 'target': 'GREGORY', 'weight': 0.1}},\n",
       " {'data': {'source': 'LADY MONTAGUE', 'target': 'ROMEO', 'weight': 0.1}},\n",
       " {'data': {'source': 'LADY MONTAGUE', 'target': 'BENVOLIO', 'weight': 0.1}},\n",
       " {'data': {'source': 'LADY MONTAGUE', 'target': 'ALTHASAR', 'weight': 0.1}},\n",
       " {'data': {'source': 'LADY MONTAGUE', 'target': 'CAPULET', 'weight': 0.1}},\n",
       " {'data': {'source': 'LADY MONTAGUE',\n",
       "   'target': 'LADY CAPULET',\n",
       "   'weight': 0.1}},\n",
       " {'data': {'source': 'LADY MONTAGUE', 'target': 'TYBALT', 'weight': 0.1}},\n",
       " {'data': {'source': 'LADY MONTAGUE', 'target': 'SAMPSON', 'weight': 0.1}},\n",
       " {'data': {'source': 'LADY MONTAGUE', 'target': 'GREGORY', 'weight': 0.1}},\n",
       " {'data': {'source': 'ROMEO', 'target': 'BENVOLIO', 'weight': 0.7}},\n",
       " {'data': {'source': 'ROMEO', 'target': 'ALTHASAR', 'weight': 0.3}},\n",
       " {'data': {'source': 'ROMEO', 'target': 'CAPULET', 'weight': 0.6}},\n",
       " {'data': {'source': 'ROMEO', 'target': 'LADY CAPULET', 'weight': 0.4}},\n",
       " {'data': {'source': 'ROMEO', 'target': 'JULIET', 'weight': 0.5}},\n",
       " {'data': {'source': 'ROMEO', 'target': 'TYBALT', 'weight': 0.3}},\n",
       " {'data': {'source': 'ROMEO', 'target': 'NURSE', 'weight': 0.1}},\n",
       " {'data': {'source': 'ROMEO', 'target': 'PETER', 'weight': 0.1}},\n",
       " {'data': {'source': 'ROMEO', 'target': 'SAMPSON', 'weight': 0.1}},\n",
       " {'data': {'source': 'ROMEO', 'target': 'GREGORY', 'weight': 0.1}},\n",
       " {'data': {'source': 'BENVOLIO', 'target': 'ALTHASAR', 'weight': 0.1}},\n",
       " {'data': {'source': 'BENVOLIO', 'target': 'CAPULET', 'weight': 0.4}},\n",
       " {'data': {'source': 'BENVOLIO', 'target': 'LADY CAPULET', 'weight': 0.2}},\n",
       " {'data': {'source': 'BENVOLIO', 'target': 'JULIET', 'weight': 0.1}},\n",
       " {'data': {'source': 'BENVOLIO', 'target': 'TYBALT', 'weight': 0.3}},\n",
       " {'data': {'source': 'BENVOLIO', 'target': 'NURSE', 'weight': 0.1}},\n",
       " {'data': {'source': 'BENVOLIO', 'target': 'PETER', 'weight': 0.1}},\n",
       " {'data': {'source': 'BENVOLIO', 'target': 'SAMPSON', 'weight': 0.1}},\n",
       " {'data': {'source': 'BENVOLIO', 'target': 'GREGORY', 'weight': 0.1}},\n",
       " {'data': {'source': 'ALTHASAR', 'target': 'CAPULET', 'weight': 0.2}},\n",
       " {'data': {'source': 'ALTHASAR', 'target': 'LADY CAPULET', 'weight': 0.2}},\n",
       " {'data': {'source': 'ALTHASAR', 'target': 'JULIET', 'weight': 0.1}},\n",
       " {'data': {'source': 'ALTHASAR', 'target': 'TYBALT', 'weight': 0.1}},\n",
       " {'data': {'source': 'ALTHASAR', 'target': 'SAMPSON', 'weight': 0.1}},\n",
       " {'data': {'source': 'ALTHASAR', 'target': 'GREGORY', 'weight': 0.1}},\n",
       " {'data': {'source': 'CAPULET', 'target': 'LADY CAPULET', 'weight': 1.0}},\n",
       " {'data': {'source': 'CAPULET', 'target': 'JULIET', 'weight': 0.6}},\n",
       " {'data': {'source': 'CAPULET', 'target': 'TYBALT', 'weight': 0.3}},\n",
       " {'data': {'source': 'CAPULET', 'target': 'PETER', 'weight': 0.1}},\n",
       " {'data': {'source': 'CAPULET', 'target': 'SAMPSON', 'weight': 0.1}},\n",
       " {'data': {'source': 'CAPULET', 'target': 'GREGORY', 'weight': 0.1}},\n",
       " {'data': {'source': 'LADY CAPULET', 'target': 'JULIET', 'weight': 0.5}},\n",
       " {'data': {'source': 'LADY CAPULET', 'target': 'TYBALT', 'weight': 0.2}},\n",
       " {'data': {'source': 'LADY CAPULET', 'target': 'PETER', 'weight': 0.1}},\n",
       " {'data': {'source': 'LADY CAPULET', 'target': 'SAMPSON', 'weight': 0.1}},\n",
       " {'data': {'source': 'LADY CAPULET', 'target': 'GREGORY', 'weight': 0.1}},\n",
       " {'data': {'source': 'JULIET', 'target': 'TYBALT', 'weight': 0.1}},\n",
       " {'data': {'source': 'JULIET', 'target': 'PETER', 'weight': 0.1}},\n",
       " {'data': {'source': 'TYBALT', 'target': 'SAMPSON', 'weight': 0.1}},\n",
       " {'data': {'source': 'TYBALT', 'target': 'GREGORY', 'weight': 0.1}},\n",
       " {'data': {'source': 'NURSE', 'target': 'PETER', 'weight': 0.1}},\n",
       " {'data': {'source': 'SAMPSON', 'target': 'GREGORY', 'weight': 0.1}}]"
      ]
     },
     "execution_count": 75,
     "metadata": {},
     "output_type": "execute_result"
    }
   ],
   "source": [
    "graphitems = []\n",
    "\n",
    "for k,v in charnum.items():\n",
    "    if k in node_groups[0]:\n",
    "        modularity = 'blue'\n",
    "    elif k in node_groups[1]:\n",
    "        modularity = 'red'\n",
    "    else:\n",
    "        modularity = 'green'\n",
    "    dashnode = {'data': {'id': k,\n",
    "                         'label': k.title(),\n",
    "                         'size': str(v),'modularity': modularity}}\n",
    "    graphitems.append(dashnode)\n",
    "\n",
    "correction_factor = max(connections.values())\n",
    "print(correction_factor)\n",
    "for k,v in connections.items():\n",
    "    if v != 0:\n",
    "        dashedge = {'data': {'source': k[0],\n",
    "                             'target': k[1],\n",
    "                             'weight': v/correction_factor}}\n",
    "        graphitems.append(dashedge)\n",
    "    \n",
    "graphitems"
   ]
  },
  {
   "cell_type": "markdown",
   "id": "f6e2208f-0071-434a-b1c5-8b03e537aa4d",
   "metadata": {},
   "source": [
    "### Final Graph "
   ]
  },
  {
   "cell_type": "code",
   "execution_count": 76,
   "id": "491003dd-0367-4830-a021-b0ff88a86d17",
   "metadata": {},
   "outputs": [
    {
     "name": "stdout",
     "output_type": "stream",
     "text": [
      "Dash app running on https://jupyter.idre.ucla.edu/user/mtran9600@ucla.edu/proxy/8050/\n"
     ]
    }
   ],
   "source": [
    "app = JupyterDash(__name__)\n",
    "\n",
    "app.layout = html.Div([\n",
    "    cyto.Cytoscape(\n",
    "        layout={'name': 'cose'},\n",
    "        elements=graphitems,\n",
    "        style={'width': '100%', 'height': '750px'},\n",
    "        stylesheet=[\n",
    "            {\n",
    "                'selector': 'node',\n",
    "                'style': {\n",
    "                    'content':'data(label)',\n",
    "                    'text-halign':'center',\n",
    "                    'text-valign':'center',\n",
    "                    'width': 'data(size)',\n",
    "                    'height': 'data(size)',\n",
    "                    'font-size': 4,\n",
    "                    'color': 'black',\n",
    "                    'background-color': 'data(modularity)',\n",
    "                    'text-outline-color': 'white',\n",
    "                    'text-outline-width': 0.2,\n",
    "                    'shape':'circle'\n",
    "                }\n",
    "            },\n",
    "            {\n",
    "                'selector':'edge',\n",
    "                'style': {\n",
    "                    'width':'data(weight)',\n",
    "                    'line-color': 'pink',\n",
    "                  }\n",
    "            },\n",
    "        ]\n",
    "    )\n",
    "])\n",
    "\n",
    "app.run_server(debug=True)"
   ]
  },
  {
   "cell_type": "markdown",
   "id": "72d2bc7c-9e9e-4e22-b49d-9be521ec7f29",
   "metadata": {},
   "source": [
    "Combining all the quantitative measures of character interactions, I was surprised to see that the most central characters were not Romeo and Juliet, as the name of this play would suggest! While Romeo has a 1.0 rating of centrality (along with Benvolio) Juliet is the 8th character according to highest degree of centrality! I find this interesting because although Juliet may be an important figure in the plot of the story, in practice, she is not relevant in character interactions (being 8th out of a cast of 15 characters!) \n",
    "\n",
    "Within the context of the story, it makes sense that Juliet may not have the limelight, after all Romeo is the main protagonist. However, after conducting community analysis, even within her own spheres, Juliet is still not one of the central characters (as we have defined it by interactions) being outclassed by her parents, Lord and Lady Capulet. I think that this is indicative of the times that thisp"
   ]
  }
 ],
 "metadata": {
  "kernelspec": {
   "display_name": "Python 3 (ipykernel)",
   "language": "python",
   "name": "python3"
  },
  "language_info": {
   "codemirror_mode": {
    "name": "ipython",
    "version": 3
   },
   "file_extension": ".py",
   "mimetype": "text/x-python",
   "name": "python",
   "nbconvert_exporter": "python",
   "pygments_lexer": "ipython3",
   "version": "3.9.6"
  }
 },
 "nbformat": 4,
 "nbformat_minor": 5
}
